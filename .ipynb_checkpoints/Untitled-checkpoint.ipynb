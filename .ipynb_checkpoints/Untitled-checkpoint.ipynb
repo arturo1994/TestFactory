{
 "cells": [
  {
   "cell_type": "markdown",
   "id": "7c36be46-3cae-4877-8c62-24d5988d1b41",
   "metadata": {},
   "source": [
    "# libraries"
   ]
  },
  {
   "cell_type": "code",
   "execution_count": 1,
   "id": "54fb90e3-40d4-47c9-a2d9-c233b312cd42",
   "metadata": {
    "tags": []
   },
   "outputs": [],
   "source": [
    "import psycopg2\n",
    "import pandas as pd\n",
    "from sqlalchemy import create_engine\n",
    "from tqdm import tqdm "
   ]
  },
  {
   "cell_type": "markdown",
   "id": "f5689d07-c84b-4b8c-a5d5-1b56a579743f",
   "metadata": {},
   "source": [
    "# First Part (create the data base)"
   ]
  },
  {
   "cell_type": "code",
   "execution_count": 2,
   "id": "86acb4d3-bb88-4733-aed9-d5e548138b7e",
   "metadata": {},
   "outputs": [],
   "source": [
    "def CreateDataBase(database, user, password, host, port, newBase):\n",
    "\n",
    "    sqlQuery = 'CREATE database ' + newBase\n",
    "    \n",
    "    engine = create_engine(str('postgresql://postgres:'+password+'@'+host+':'+port+'/'+database))\n",
    "    conn = engine.connect()\n",
    "    conn.execute(\"commit\")\n",
    "\n",
    "    conn.execute(sqlQuery)\n",
    "    print(\"Database \" + newBase +\" created successfully........\")\n",
    "    conn.close()\n",
    "\n",
    "\n",
    "    engine.dispose()\n"
   ]
  },
  {
   "cell_type": "code",
   "execution_count": 3,
   "id": "7a755e49-3586-4848-9917-3427cc49d218",
   "metadata": {},
   "outputs": [
    {
     "name": "stdout",
     "output_type": "stream",
     "text": [
      "Database factory created successfully........\n"
     ]
    }
   ],
   "source": [
    "CreateDataBase(database=\"postgres\", user='postgres', password='20906540', host='127.0.0.1', port= '5432', newBase = \"factory\" )"
   ]
  },
  {
   "cell_type": "markdown",
   "id": "9f9d56b9-d835-46f0-8bd7-1ca546eeb3ff",
   "metadata": {},
   "source": [
    "# Second Part (Creat a table from a DataFrame)"
   ]
  },
  {
   "cell_type": "code",
   "execution_count": 4,
   "id": "28286b5f-17ca-49d0-b9ae-b07bc0e924e4",
   "metadata": {},
   "outputs": [],
   "source": [
    "def createTable(data, table, database, user, password, host, port):\n",
    "    \n",
    "\n",
    "    data.location = data.location.apply(lambda x: str(x).replace(\"'\", \"’\"))\n",
    "    \n",
    "    engine = create_engine(str('postgresql://postgres:'+password+'@'+host+':'+port+'/'+database))\n",
    "\n",
    "    k = []\n",
    "    for n in range(len(data.dtypes)):\n",
    "        if data.dtypes[n] == 'object':\n",
    "            k.append(data.dtypes.index[n] + \" TEXT\")\n",
    "        if data.dtypes[n] == 'int64' or data.dtypes[n] == 'float64':\n",
    "            k.append(data.dtypes.index[n] + \" FLOAT\")\n",
    "\n",
    "\n",
    "    k1 = list(data.dtypes.index)\n",
    "\n",
    "    sql = 'CREATE TABLE '+table+'(' + \", \".join(k) + \", UNIQUE (\" + \", \".join(k1)+\"))\" \n",
    "    data = data.fillna(\"NoValue\")\n",
    "    data = data.set_index(data.columns[0])\n",
    "    engine.execute(sql)\n",
    "    \n",
    "    data = data.reset_index()\n",
    "\n",
    "\n",
    "\n",
    "    for m in tqdm(range(len(data))):\n",
    "        k1 = list(data.loc[m].fillna(\"NoValue\").index)\n",
    "        k1 = [str(a) for a in k1]\n",
    "        k1 = \", \".join(k1)\n",
    "\n",
    "\n",
    "        k = data.loc[m].fillna(\"NoValue\").to_list()\n",
    "        for i in range(len(k)):\n",
    "            if str(type(k[i])) == \"<class 'str'>\":\n",
    "                k[i] = \"'\" + k[i] + \"'\"\n",
    "        k = [str(a) for a in k]\n",
    "        k = [a.replace(\",\", \"\") for a in k]\n",
    "        k = \", \".join(k)\n",
    "\n",
    "        try:\n",
    "            sql = '''INSERT INTO public.'''+ table +'''('''+k1+ \") VALUES (\"+k+ \") ON CONFLICT DO NOTHING\"\n",
    "            engine.execute(sql)\n",
    "        except:\n",
    "            print(\"Fila \" + str(m) +\" no insertada\")\n"
   ]
  },
  {
   "cell_type": "code",
   "execution_count": 5,
   "id": "a6a52647-2382-4c7d-9fea-a4e77b898b87",
   "metadata": {
    "scrolled": true,
    "tags": []
   },
   "outputs": [
    {
     "name": "stderr",
     "output_type": "stream",
     "text": [
      " 75%|█████████████████████████████████████████████████████████▌                   | 1611/2154 [00:05<00:01, 290.26it/s]"
     ]
    },
    {
     "name": "stdout",
     "output_type": "stream",
     "text": [
      "Fila 1580 no insertada\n"
     ]
    },
    {
     "name": "stderr",
     "output_type": "stream",
     "text": [
      "100%|█████████████████████████████████████████████████████████████████████████████| 2154/2154 [00:07<00:00, 295.92it/s]\n"
     ]
    }
   ],
   "source": [
    "data = pd.read_csv(\"table_1.csv\")\n",
    "data = data\n",
    "createTable(data = data, table = \"tabla\", database=\"factory\", user='postgres', password='20906540', host='127.0.0.1', port= '5432')"
   ]
  },
  {
   "cell_type": "markdown",
   "id": "0a9b0e28-c659-49ff-850c-7d0e8a02f14f",
   "metadata": {},
   "source": [
    "# Third Part (Insert without Duplicated)"
   ]
  },
  {
   "cell_type": "code",
   "execution_count": 6,
   "id": "bf5878bb-c0b2-4e8b-8951-dcd1e684da7e",
   "metadata": {},
   "outputs": [],
   "source": [
    "def InsertInTable(data, table, database, user, password, host, port):\n",
    "    \n",
    "    engine = create_engine(str('postgresql://postgres:'+password+'@'+host+':'+port+'/'+database))\n",
    "\n",
    "    data = pd.read_csv(\"table_1.csv\")\n",
    "    data.location = data.location.apply(lambda x: str(x).replace(\"'\", \"’\"))\n",
    "    data.text = data.location.apply(lambda x: str(x).replace(\",\", \" \"))\n",
    "\n",
    "    for n in tqdm(range(len(data))):\n",
    "        k1 = list(data.loc[n].fillna(\"NoValue\").index)\n",
    "        k1 = [str(a) for a in k1]\n",
    "        k1 = \", \".join(k1)\n",
    "\n",
    "\n",
    "        k = data.loc[n].fillna(\"NoValue\").to_list()\n",
    "        for i in range(len(k)):\n",
    "            if str(type(k[i])) == \"<class 'str'>\":\n",
    "                k[i] = \"'\" + k[i] + \"'\"\n",
    "        k = [str(a) for a in k]\n",
    "        k = [a.replace(\",\", \"\") for a in k]\n",
    "        k = \", \".join(k)\n",
    "\n",
    "\n",
    "        sql = '''INSERT INTO public.'''+ table +'''('''+k1+ \") VALUES (\"+k+ \") ON CONFLICT DO NOTHING\"\n",
    "        try:\n",
    "            engine.execute(sql)\n",
    "        except:\n",
    "            print(\"Fila \" + str(n) +\" no insertada\")\n",
    "            \n",
    "    engine.dispose()"
   ]
  },
  {
   "cell_type": "code",
   "execution_count": 7,
   "id": "43e97fa3-abe8-4dc0-a78d-4c8326e8299c",
   "metadata": {},
   "outputs": [],
   "source": [
    "data = pd.read_csv(\"table_2.csv\")"
   ]
  },
  {
   "cell_type": "code",
   "execution_count": 8,
   "id": "2a19f9e8-72f0-4780-b23c-35c45e866fb8",
   "metadata": {},
   "outputs": [
    {
     "name": "stderr",
     "output_type": "stream",
     "text": [
      " 21%|████████████████▌                                                             | 457/2154 [00:01<00:04, 361.95it/s]"
     ]
    },
    {
     "name": "stdout",
     "output_type": "stream",
     "text": [
      "Fila 410 no insertada\n"
     ]
    },
    {
     "name": "stderr",
     "output_type": "stream",
     "text": [
      " 30%|███████████████████████▎                                                      | 643/2154 [00:02<00:04, 364.49it/s]"
     ]
    },
    {
     "name": "stdout",
     "output_type": "stream",
     "text": [
      "Fila 597 no insertada\n",
      "Fila 611 no insertada\n",
      "Fila 657 no insertada\n",
      "Fila 678 no insertada"
     ]
    },
    {
     "name": "stderr",
     "output_type": "stream",
     "text": [
      " 34%|██████████████████████████▏                                                   | 722/2154 [00:02<00:03, 363.23it/s]"
     ]
    },
    {
     "name": "stdout",
     "output_type": "stream",
     "text": [
      "\n",
      "Fila 735 no insertada\n"
     ]
    },
    {
     "name": "stderr",
     "output_type": "stream",
     "text": [
      " 51%|███████████████████████████████████████                                      | 1094/2154 [00:03<00:02, 412.13it/s]"
     ]
    },
    {
     "name": "stdout",
     "output_type": "stream",
     "text": [
      "Fila 1046 no insertada\n"
     ]
    },
    {
     "name": "stderr",
     "output_type": "stream",
     "text": [
      " 65%|██████████████████████████████████████████████████▎                          | 1406/2154 [00:04<00:02, 339.94it/s]"
     ]
    },
    {
     "name": "stdout",
     "output_type": "stream",
     "text": [
      "Fila 1362 no insertada\n"
     ]
    },
    {
     "name": "stderr",
     "output_type": "stream",
     "text": [
      " 76%|██████████████████████████████████████████████████████████▌                  | 1637/2154 [00:04<00:01, 298.26it/s]"
     ]
    },
    {
     "name": "stdout",
     "output_type": "stream",
     "text": [
      "Fila 1580 no insertada\n"
     ]
    },
    {
     "name": "stderr",
     "output_type": "stream",
     "text": [
      " 79%|████████████████████████████████████████████████████████████▋                | 1696/2154 [00:05<00:01, 275.00it/s]"
     ]
    },
    {
     "name": "stdout",
     "output_type": "stream",
     "text": [
      "Fila 1642 no insertada\n"
     ]
    },
    {
     "name": "stderr",
     "output_type": "stream",
     "text": [
      "100%|█████████████████████████████████████████████████████████████████████████████| 2154/2154 [00:06<00:00, 329.24it/s]\n"
     ]
    }
   ],
   "source": [
    "InsertInTable(data,\"tabla\", database=\"factory\", user='postgres', password='20906540', host='127.0.0.1', port= '5432')"
   ]
  },
  {
   "cell_type": "code",
   "execution_count": 8,
   "id": "8c2d95aa-0240-46d3-a3c9-66371bbdfa25",
   "metadata": {},
   "outputs": [
    {
     "data": {
      "text/html": [
       "<div>\n",
       "<style scoped>\n",
       "    .dataframe tbody tr th:only-of-type {\n",
       "        vertical-align: middle;\n",
       "    }\n",
       "\n",
       "    .dataframe tbody tr th {\n",
       "        vertical-align: top;\n",
       "    }\n",
       "\n",
       "    .dataframe thead th {\n",
       "        text-align: right;\n",
       "    }\n",
       "</style>\n",
       "<table border=\"1\" class=\"dataframe\">\n",
       "  <thead>\n",
       "    <tr style=\"text-align: right;\">\n",
       "      <th></th>\n",
       "      <th>id</th>\n",
       "      <th>author</th>\n",
       "      <th>subreddit</th>\n",
       "      <th>date</th>\n",
       "      <th>text</th>\n",
       "      <th>source</th>\n",
       "      <th>location</th>\n",
       "      <th>negative</th>\n",
       "      <th>neutral</th>\n",
       "      <th>positive</th>\n",
       "      <th>compound</th>\n",
       "      <th>analysis</th>\n",
       "      <th>keyword</th>\n",
       "    </tr>\n",
       "  </thead>\n",
       "  <tbody>\n",
       "    <tr>\n",
       "      <th>0</th>\n",
       "      <td>6c51302b-2a08-4010-9d9b-88977791a1ea</td>\n",
       "      <td>pennykirk583</td>\n",
       "      <td>NaN</td>\n",
       "      <td>1627572077</td>\n",
       "      <td>is that joe biden</td>\n",
       "      <td>twitter</td>\n",
       "      <td>Seattle, WA</td>\n",
       "      <td>0.000</td>\n",
       "      <td>1.000</td>\n",
       "      <td>0.000</td>\n",
       "      <td>0.0000</td>\n",
       "      <td>neutral</td>\n",
       "      <td>Biden</td>\n",
       "    </tr>\n",
       "    <tr>\n",
       "      <th>1</th>\n",
       "      <td>6c51302b-2a08-4010-9d9b-88977791a1ea</td>\n",
       "      <td>mdbsat</td>\n",
       "      <td>NaN</td>\n",
       "      <td>1627572077</td>\n",
       "      <td>i naively thought once biden won i would stop ...</td>\n",
       "      <td>twitter</td>\n",
       "      <td>San Antonio, TX</td>\n",
       "      <td>0.292</td>\n",
       "      <td>0.417</td>\n",
       "      <td>0.292</td>\n",
       "      <td>0.0000</td>\n",
       "      <td>neutral</td>\n",
       "      <td>Biden</td>\n",
       "    </tr>\n",
       "    <tr>\n",
       "      <th>2</th>\n",
       "      <td>6c51302b-2a08-4010-9d9b-88977791a1ea</td>\n",
       "      <td>davidbr11505741</td>\n",
       "      <td>NaN</td>\n",
       "      <td>1627572077</td>\n",
       "      <td>postal union refuses bidens mandatory vaccinat...</td>\n",
       "      <td>twitter</td>\n",
       "      <td>Georgia, USA</td>\n",
       "      <td>0.000</td>\n",
       "      <td>0.874</td>\n",
       "      <td>0.126</td>\n",
       "      <td>0.0772</td>\n",
       "      <td>positive</td>\n",
       "      <td>Biden</td>\n",
       "    </tr>\n",
       "    <tr>\n",
       "      <th>3</th>\n",
       "      <td>6c51302b-2a08-4010-9d9b-88977791a1ea</td>\n",
       "      <td>ENDOFET3RNITY</td>\n",
       "      <td>NaN</td>\n",
       "      <td>1627572076</td>\n",
       "      <td>joe biden has unfollowed dababy on instagram</td>\n",
       "      <td>twitter</td>\n",
       "      <td>NaN</td>\n",
       "      <td>0.000</td>\n",
       "      <td>1.000</td>\n",
       "      <td>0.000</td>\n",
       "      <td>0.0000</td>\n",
       "      <td>neutral</td>\n",
       "      <td>Biden</td>\n",
       "    </tr>\n",
       "    <tr>\n",
       "      <th>4</th>\n",
       "      <td>6c51302b-2a08-4010-9d9b-88977791a1ea</td>\n",
       "      <td>yanetCornell</td>\n",
       "      <td>NaN</td>\n",
       "      <td>1627572076</td>\n",
       "      <td>barr comes back to help trump dismantle bidenp...</td>\n",
       "      <td>twitter</td>\n",
       "      <td>NaN</td>\n",
       "      <td>0.189</td>\n",
       "      <td>0.651</td>\n",
       "      <td>0.160</td>\n",
       "      <td>-0.1280</td>\n",
       "      <td>negative</td>\n",
       "      <td>Biden</td>\n",
       "    </tr>\n",
       "    <tr>\n",
       "      <th>...</th>\n",
       "      <td>...</td>\n",
       "      <td>...</td>\n",
       "      <td>...</td>\n",
       "      <td>...</td>\n",
       "      <td>...</td>\n",
       "      <td>...</td>\n",
       "      <td>...</td>\n",
       "      <td>...</td>\n",
       "      <td>...</td>\n",
       "      <td>...</td>\n",
       "      <td>...</td>\n",
       "      <td>...</td>\n",
       "      <td>...</td>\n",
       "    </tr>\n",
       "    <tr>\n",
       "      <th>3124</th>\n",
       "      <td>da06bd16-248e-4a3f-98a9-60ef2d86ceed</td>\n",
       "      <td>GivingClassroom</td>\n",
       "      <td>NaN</td>\n",
       "      <td>1627764756</td>\n",
       "      <td>smoke     \\nare you a classroom teacher \\ndo y...</td>\n",
       "      <td>twitter</td>\n",
       "      <td>Manhattan, NY</td>\n",
       "      <td>0.000</td>\n",
       "      <td>0.876</td>\n",
       "      <td>0.124</td>\n",
       "      <td>0.4019</td>\n",
       "      <td>positive</td>\n",
       "      <td>Amazon</td>\n",
       "    </tr>\n",
       "    <tr>\n",
       "      <th>3125</th>\n",
       "      <td>da06bd16-248e-4a3f-98a9-60ef2d86ceed</td>\n",
       "      <td>Sajjada66897302</td>\n",
       "      <td>NaN</td>\n",
       "      <td>1627764755</td>\n",
       "      <td>tesla  elonmask \\nbabydogecoin \\nbabydogearmy...</td>\n",
       "      <td>twitter</td>\n",
       "      <td>NaN</td>\n",
       "      <td>0.000</td>\n",
       "      <td>0.698</td>\n",
       "      <td>0.302</td>\n",
       "      <td>0.8779</td>\n",
       "      <td>positive</td>\n",
       "      <td>Amazon</td>\n",
       "    </tr>\n",
       "    <tr>\n",
       "      <th>3126</th>\n",
       "      <td>da06bd16-248e-4a3f-98a9-60ef2d86ceed</td>\n",
       "      <td>Bread1170</td>\n",
       "      <td>NaN</td>\n",
       "      <td>1627764755</td>\n",
       "      <td>would become the largest bookstore ever if it...</td>\n",
       "      <td>twitter</td>\n",
       "      <td>Midlothian, TX</td>\n",
       "      <td>0.000</td>\n",
       "      <td>1.000</td>\n",
       "      <td>0.000</td>\n",
       "      <td>0.0000</td>\n",
       "      <td>neutral</td>\n",
       "      <td>Amazon</td>\n",
       "    </tr>\n",
       "    <tr>\n",
       "      <th>3127</th>\n",
       "      <td>da06bd16-248e-4a3f-98a9-60ef2d86ceed</td>\n",
       "      <td>marillion13</td>\n",
       "      <td>NaN</td>\n",
       "      <td>1627764755</td>\n",
       "      <td>\\nsince the greatesthitsofbobseger cd is defec...</td>\n",
       "      <td>twitter</td>\n",
       "      <td>Baden-Württemberg, D</td>\n",
       "      <td>0.046</td>\n",
       "      <td>0.700</td>\n",
       "      <td>0.254</td>\n",
       "      <td>0.8735</td>\n",
       "      <td>positive</td>\n",
       "      <td>Amazon</td>\n",
       "    </tr>\n",
       "    <tr>\n",
       "      <th>3128</th>\n",
       "      <td>da06bd16-248e-4a3f-98a9-60ef2d86ceed</td>\n",
       "      <td>Sohel1973</td>\n",
       "      <td>NaN</td>\n",
       "      <td>1627764748</td>\n",
       "      <td>best ways to make money onlineearn  a day and ...</td>\n",
       "      <td>twitter</td>\n",
       "      <td>Dhaka, Bangladesh</td>\n",
       "      <td>0.000</td>\n",
       "      <td>0.724</td>\n",
       "      <td>0.276</td>\n",
       "      <td>0.6369</td>\n",
       "      <td>positive</td>\n",
       "      <td>Amazon</td>\n",
       "    </tr>\n",
       "  </tbody>\n",
       "</table>\n",
       "<p>3129 rows × 13 columns</p>\n",
       "</div>"
      ],
      "text/plain": [
       "                                        id           author subreddit  \\\n",
       "0     6c51302b-2a08-4010-9d9b-88977791a1ea     pennykirk583       NaN   \n",
       "1     6c51302b-2a08-4010-9d9b-88977791a1ea           mdbsat       NaN   \n",
       "2     6c51302b-2a08-4010-9d9b-88977791a1ea  davidbr11505741       NaN   \n",
       "3     6c51302b-2a08-4010-9d9b-88977791a1ea    ENDOFET3RNITY       NaN   \n",
       "4     6c51302b-2a08-4010-9d9b-88977791a1ea     yanetCornell       NaN   \n",
       "...                                    ...              ...       ...   \n",
       "3124  da06bd16-248e-4a3f-98a9-60ef2d86ceed  GivingClassroom       NaN   \n",
       "3125  da06bd16-248e-4a3f-98a9-60ef2d86ceed  Sajjada66897302       NaN   \n",
       "3126  da06bd16-248e-4a3f-98a9-60ef2d86ceed        Bread1170       NaN   \n",
       "3127  da06bd16-248e-4a3f-98a9-60ef2d86ceed      marillion13       NaN   \n",
       "3128  da06bd16-248e-4a3f-98a9-60ef2d86ceed        Sohel1973       NaN   \n",
       "\n",
       "            date                                               text   source  \\\n",
       "0     1627572077                                  is that joe biden  twitter   \n",
       "1     1627572077  i naively thought once biden won i would stop ...  twitter   \n",
       "2     1627572077  postal union refuses bidens mandatory vaccinat...  twitter   \n",
       "3     1627572076      joe biden has unfollowed dababy on instagram   twitter   \n",
       "4     1627572076  barr comes back to help trump dismantle bidenp...  twitter   \n",
       "...          ...                                                ...      ...   \n",
       "3124  1627764756  smoke     \\nare you a classroom teacher \\ndo y...  twitter   \n",
       "3125  1627764755   tesla  elonmask \\nbabydogecoin \\nbabydogearmy...  twitter   \n",
       "3126  1627764755   would become the largest bookstore ever if it...  twitter   \n",
       "3127  1627764755  \\nsince the greatesthitsofbobseger cd is defec...  twitter   \n",
       "3128  1627764748  best ways to make money onlineearn  a day and ...  twitter   \n",
       "\n",
       "                  location  negative  neutral  positive  compound  analysis  \\\n",
       "0              Seattle, WA     0.000    1.000     0.000    0.0000   neutral   \n",
       "1          San Antonio, TX     0.292    0.417     0.292    0.0000   neutral   \n",
       "2             Georgia, USA     0.000    0.874     0.126    0.0772  positive   \n",
       "3                      NaN     0.000    1.000     0.000    0.0000   neutral   \n",
       "4                      NaN     0.189    0.651     0.160   -0.1280  negative   \n",
       "...                    ...       ...      ...       ...       ...       ...   \n",
       "3124         Manhattan, NY     0.000    0.876     0.124    0.4019  positive   \n",
       "3125                   NaN     0.000    0.698     0.302    0.8779  positive   \n",
       "3126        Midlothian, TX     0.000    1.000     0.000    0.0000   neutral   \n",
       "3127  Baden-Württemberg, D     0.046    0.700     0.254    0.8735  positive   \n",
       "3128     Dhaka, Bangladesh     0.000    0.724     0.276    0.6369  positive   \n",
       "\n",
       "     keyword  \n",
       "0      Biden  \n",
       "1      Biden  \n",
       "2      Biden  \n",
       "3      Biden  \n",
       "4      Biden  \n",
       "...      ...  \n",
       "3124  Amazon  \n",
       "3125  Amazon  \n",
       "3126  Amazon  \n",
       "3127  Amazon  \n",
       "3128  Amazon  \n",
       "\n",
       "[3129 rows x 13 columns]"
      ]
     },
     "execution_count": 8,
     "metadata": {},
     "output_type": "execute_result"
    }
   ],
   "source": [
    "data"
   ]
  },
  {
   "cell_type": "code",
   "execution_count": 17,
   "id": "a50ffc18-07cf-4da6-8d6f-2b0e2656abf3",
   "metadata": {},
   "outputs": [
    {
     "data": {
      "text/plain": [
       "\"INSERT INTO public.fa(id, author, subreddit, date, text, source, location, negative, neutral, positive, compound, analysis, keyword) VALUES ('6c51302b-2a08-4010-9d9b-88977791a1ea', 'pennykirk583', 'NoValue', 1627572077, ' is that joe biden', 'twitter', 'Seattle WA', 0.0, 1.0, 0.0, 0.0, 'neutral', 'Biden') ON CONFLICT ON CONSTRAINT uc_tab DO UPDATE SET note = EXCLUDED.note\""
      ]
     },
     "execution_count": 17,
     "metadata": {},
     "output_type": "execute_result"
    }
   ],
   "source": [
    "sql"
   ]
  },
  {
   "cell_type": "code",
   "execution_count": 39,
   "id": "ad5e6231-42c4-442f-9110-3504ea2ba231",
   "metadata": {},
   "outputs": [
    {
     "data": {
      "text/plain": [
       "\"INSERT INTO public.factorytest(id, author, date, text, source, location, negative, neutral, positive, compound, analysis, keyword) VALUES ('6c51302b-2a08-4010-9d9b-88977791a1ea', 'CitizensVoice', 1627572072, 'boston ap — the biden administration will allow a nationwide ban on evictions to expire saturday arguing that its hands are tied after the supreme court signaled it could only be extended until the end of the month ', 'twitter', 'Wilkes-Barre Pa.', 0.15, 0.726, 0.125, -0.2732, 'negative', 'Biden')\""
      ]
     },
     "execution_count": 39,
     "metadata": {},
     "output_type": "execute_result"
    }
   ],
   "source": [
    "ON CONFLICT ON CONSTRAINT uc_tab DO UPDATE SET note = EXCLUDED.note"
   ]
  },
  {
   "cell_type": "code",
   "execution_count": 139,
   "id": "65c2738f-0cb9-45b4-832e-f432fd511965",
   "metadata": {},
   "outputs": [],
   "source": [
    "host=\"localhost\"\n",
    "database=\"fa\"\n",
    "user=\"postgres\"\n",
    "password=\"20906540\"\n",
    "port= '5432'"
   ]
  },
  {
   "cell_type": "code",
   "execution_count": 140,
   "id": "b5079260-7b83-4b3d-a5e5-0271d7655a9e",
   "metadata": {},
   "outputs": [],
   "source": [
    "engine = create_engine(str('postgresql://postgres:'+password+'@'+host+':'+port+'/'+database))"
   ]
  },
  {
   "cell_type": "code",
   "execution_count": 143,
   "id": "7384ceb6-c38d-4e53-aadd-5f8ed4171831",
   "metadata": {},
   "outputs": [
    {
     "ename": "ProgrammingError",
     "evalue": "(psycopg2.errors.UndefinedObject) no existe la restricción «uc_tab» para la tabla «fa»\n\n[SQL: INSERT INTO public.fa(id, author, date, text, source, location, negative, neutral, positive, compound, analysis, keyword) VALUES ('6c51302b-2a08-4010-9d9b-88977791a1ea', 'pennykirk583', 1627572077, ' is that joe biden', 'twitter', 'Seattle WA', 0.0, 1.0, 0.0, 0.0, 'neutral', 'Biden') ON CONFLICT ON CONSTRAINT uc_tab DO UPDATE SET note = EXCLUDED.note]\n(Background on this error at: https://sqlalche.me/e/14/f405)",
     "output_type": "error",
     "traceback": [
      "\u001b[1;31m---------------------------------------------------------------------------\u001b[0m",
      "\u001b[1;31mUndefinedObject\u001b[0m                           Traceback (most recent call last)",
      "\u001b[1;32m~\\Anaconda3\\lib\\site-packages\\sqlalchemy\\engine\\base.py\u001b[0m in \u001b[0;36m_execute_context\u001b[1;34m(self, dialect, constructor, statement, parameters, execution_options, *args, **kw)\u001b[0m\n\u001b[0;32m   1770\u001b[0m                 \u001b[1;32mif\u001b[0m \u001b[1;32mnot\u001b[0m \u001b[0mevt_handled\u001b[0m\u001b[1;33m:\u001b[0m\u001b[1;33m\u001b[0m\u001b[1;33m\u001b[0m\u001b[0m\n\u001b[1;32m-> 1771\u001b[1;33m                     self.dialect.do_execute(\n\u001b[0m\u001b[0;32m   1772\u001b[0m                         \u001b[0mcursor\u001b[0m\u001b[1;33m,\u001b[0m \u001b[0mstatement\u001b[0m\u001b[1;33m,\u001b[0m \u001b[0mparameters\u001b[0m\u001b[1;33m,\u001b[0m \u001b[0mcontext\u001b[0m\u001b[1;33m\u001b[0m\u001b[1;33m\u001b[0m\u001b[0m\n",
      "\u001b[1;32m~\\Anaconda3\\lib\\site-packages\\sqlalchemy\\engine\\default.py\u001b[0m in \u001b[0;36mdo_execute\u001b[1;34m(self, cursor, statement, parameters, context)\u001b[0m\n\u001b[0;32m    716\u001b[0m     \u001b[1;32mdef\u001b[0m \u001b[0mdo_execute\u001b[0m\u001b[1;33m(\u001b[0m\u001b[0mself\u001b[0m\u001b[1;33m,\u001b[0m \u001b[0mcursor\u001b[0m\u001b[1;33m,\u001b[0m \u001b[0mstatement\u001b[0m\u001b[1;33m,\u001b[0m \u001b[0mparameters\u001b[0m\u001b[1;33m,\u001b[0m \u001b[0mcontext\u001b[0m\u001b[1;33m=\u001b[0m\u001b[1;32mNone\u001b[0m\u001b[1;33m)\u001b[0m\u001b[1;33m:\u001b[0m\u001b[1;33m\u001b[0m\u001b[1;33m\u001b[0m\u001b[0m\n\u001b[1;32m--> 717\u001b[1;33m         \u001b[0mcursor\u001b[0m\u001b[1;33m.\u001b[0m\u001b[0mexecute\u001b[0m\u001b[1;33m(\u001b[0m\u001b[0mstatement\u001b[0m\u001b[1;33m,\u001b[0m \u001b[0mparameters\u001b[0m\u001b[1;33m)\u001b[0m\u001b[1;33m\u001b[0m\u001b[1;33m\u001b[0m\u001b[0m\n\u001b[0m\u001b[0;32m    718\u001b[0m \u001b[1;33m\u001b[0m\u001b[0m\n",
      "\u001b[1;31mUndefinedObject\u001b[0m: no existe la restricción «uc_tab» para la tabla «fa»\n",
      "\nThe above exception was the direct cause of the following exception:\n",
      "\u001b[1;31mProgrammingError\u001b[0m                          Traceback (most recent call last)",
      "\u001b[1;32m<ipython-input-143-ed16497ac47f>\u001b[0m in \u001b[0;36m<module>\u001b[1;34m\u001b[0m\n\u001b[1;32m----> 1\u001b[1;33m \u001b[0mengine\u001b[0m\u001b[1;33m.\u001b[0m\u001b[0mexecute\u001b[0m\u001b[1;33m(\u001b[0m\u001b[0msql\u001b[0m\u001b[1;33m)\u001b[0m\u001b[1;33m\u001b[0m\u001b[1;33m\u001b[0m\u001b[0m\n\u001b[0m",
      "\u001b[1;32m<string>\u001b[0m in \u001b[0;36mexecute\u001b[1;34m(self, statement, *multiparams, **params)\u001b[0m\n",
      "\u001b[1;32m~\\Anaconda3\\lib\\site-packages\\sqlalchemy\\util\\deprecations.py\u001b[0m in \u001b[0;36mwarned\u001b[1;34m(fn, *args, **kwargs)\u001b[0m\n\u001b[0;32m    388\u001b[0m         \u001b[1;32mif\u001b[0m \u001b[1;32mnot\u001b[0m \u001b[0mskip_warning\u001b[0m\u001b[1;33m:\u001b[0m\u001b[1;33m\u001b[0m\u001b[1;33m\u001b[0m\u001b[0m\n\u001b[0;32m    389\u001b[0m             \u001b[0m_warn_with_version\u001b[0m\u001b[1;33m(\u001b[0m\u001b[0mmessage\u001b[0m\u001b[1;33m,\u001b[0m \u001b[0mversion\u001b[0m\u001b[1;33m,\u001b[0m \u001b[0mwtype\u001b[0m\u001b[1;33m,\u001b[0m \u001b[0mstacklevel\u001b[0m\u001b[1;33m=\u001b[0m\u001b[1;36m3\u001b[0m\u001b[1;33m)\u001b[0m\u001b[1;33m\u001b[0m\u001b[1;33m\u001b[0m\u001b[0m\n\u001b[1;32m--> 390\u001b[1;33m         \u001b[1;32mreturn\u001b[0m \u001b[0mfn\u001b[0m\u001b[1;33m(\u001b[0m\u001b[1;33m*\u001b[0m\u001b[0margs\u001b[0m\u001b[1;33m,\u001b[0m \u001b[1;33m**\u001b[0m\u001b[0mkwargs\u001b[0m\u001b[1;33m)\u001b[0m\u001b[1;33m\u001b[0m\u001b[1;33m\u001b[0m\u001b[0m\n\u001b[0m\u001b[0;32m    391\u001b[0m \u001b[1;33m\u001b[0m\u001b[0m\n\u001b[0;32m    392\u001b[0m     \u001b[0mdoc\u001b[0m \u001b[1;33m=\u001b[0m \u001b[0mfunc\u001b[0m\u001b[1;33m.\u001b[0m\u001b[0m__doc__\u001b[0m \u001b[1;32mis\u001b[0m \u001b[1;32mnot\u001b[0m \u001b[1;32mNone\u001b[0m \u001b[1;32mand\u001b[0m \u001b[0mfunc\u001b[0m\u001b[1;33m.\u001b[0m\u001b[0m__doc__\u001b[0m \u001b[1;32mor\u001b[0m \u001b[1;34m\"\"\u001b[0m\u001b[1;33m\u001b[0m\u001b[1;33m\u001b[0m\u001b[0m\n",
      "\u001b[1;32m~\\Anaconda3\\lib\\site-packages\\sqlalchemy\\engine\\base.py\u001b[0m in \u001b[0;36mexecute\u001b[1;34m(self, statement, *multiparams, **params)\u001b[0m\n\u001b[0;32m   3106\u001b[0m         \"\"\"\n\u001b[0;32m   3107\u001b[0m         \u001b[0mconnection\u001b[0m \u001b[1;33m=\u001b[0m \u001b[0mself\u001b[0m\u001b[1;33m.\u001b[0m\u001b[0mconnect\u001b[0m\u001b[1;33m(\u001b[0m\u001b[0mclose_with_result\u001b[0m\u001b[1;33m=\u001b[0m\u001b[1;32mTrue\u001b[0m\u001b[1;33m)\u001b[0m\u001b[1;33m\u001b[0m\u001b[1;33m\u001b[0m\u001b[0m\n\u001b[1;32m-> 3108\u001b[1;33m         \u001b[1;32mreturn\u001b[0m \u001b[0mconnection\u001b[0m\u001b[1;33m.\u001b[0m\u001b[0mexecute\u001b[0m\u001b[1;33m(\u001b[0m\u001b[0mstatement\u001b[0m\u001b[1;33m,\u001b[0m \u001b[1;33m*\u001b[0m\u001b[0mmultiparams\u001b[0m\u001b[1;33m,\u001b[0m \u001b[1;33m**\u001b[0m\u001b[0mparams\u001b[0m\u001b[1;33m)\u001b[0m\u001b[1;33m\u001b[0m\u001b[1;33m\u001b[0m\u001b[0m\n\u001b[0m\u001b[0;32m   3109\u001b[0m \u001b[1;33m\u001b[0m\u001b[0m\n\u001b[0;32m   3110\u001b[0m     @util.deprecated_20(\n",
      "\u001b[1;32m~\\Anaconda3\\lib\\site-packages\\sqlalchemy\\engine\\base.py\u001b[0m in \u001b[0;36mexecute\u001b[1;34m(self, statement, *multiparams, **params)\u001b[0m\n\u001b[0;32m   1246\u001b[0m             )\n\u001b[0;32m   1247\u001b[0m \u001b[1;33m\u001b[0m\u001b[0m\n\u001b[1;32m-> 1248\u001b[1;33m             return self._exec_driver_sql(\n\u001b[0m\u001b[0;32m   1249\u001b[0m                 \u001b[0mstatement\u001b[0m\u001b[1;33m,\u001b[0m\u001b[1;33m\u001b[0m\u001b[1;33m\u001b[0m\u001b[0m\n\u001b[0;32m   1250\u001b[0m                 \u001b[0mmultiparams\u001b[0m\u001b[1;33m,\u001b[0m\u001b[1;33m\u001b[0m\u001b[1;33m\u001b[0m\u001b[0m\n",
      "\u001b[1;32m~\\Anaconda3\\lib\\site-packages\\sqlalchemy\\engine\\base.py\u001b[0m in \u001b[0;36m_exec_driver_sql\u001b[1;34m(self, statement, multiparams, params, execution_options, future)\u001b[0m\n\u001b[0;32m   1545\u001b[0m \u001b[1;33m\u001b[0m\u001b[0m\n\u001b[0;32m   1546\u001b[0m         \u001b[0mdialect\u001b[0m \u001b[1;33m=\u001b[0m \u001b[0mself\u001b[0m\u001b[1;33m.\u001b[0m\u001b[0mdialect\u001b[0m\u001b[1;33m\u001b[0m\u001b[1;33m\u001b[0m\u001b[0m\n\u001b[1;32m-> 1547\u001b[1;33m         ret = self._execute_context(\n\u001b[0m\u001b[0;32m   1548\u001b[0m             \u001b[0mdialect\u001b[0m\u001b[1;33m,\u001b[0m\u001b[1;33m\u001b[0m\u001b[1;33m\u001b[0m\u001b[0m\n\u001b[0;32m   1549\u001b[0m             \u001b[0mdialect\u001b[0m\u001b[1;33m.\u001b[0m\u001b[0mexecution_ctx_cls\u001b[0m\u001b[1;33m.\u001b[0m\u001b[0m_init_statement\u001b[0m\u001b[1;33m,\u001b[0m\u001b[1;33m\u001b[0m\u001b[1;33m\u001b[0m\u001b[0m\n",
      "\u001b[1;32m~\\Anaconda3\\lib\\site-packages\\sqlalchemy\\engine\\base.py\u001b[0m in \u001b[0;36m_execute_context\u001b[1;34m(self, dialect, constructor, statement, parameters, execution_options, *args, **kw)\u001b[0m\n\u001b[0;32m   1812\u001b[0m \u001b[1;33m\u001b[0m\u001b[0m\n\u001b[0;32m   1813\u001b[0m         \u001b[1;32mexcept\u001b[0m \u001b[0mBaseException\u001b[0m \u001b[1;32mas\u001b[0m \u001b[0me\u001b[0m\u001b[1;33m:\u001b[0m\u001b[1;33m\u001b[0m\u001b[1;33m\u001b[0m\u001b[0m\n\u001b[1;32m-> 1814\u001b[1;33m             self._handle_dbapi_exception(\n\u001b[0m\u001b[0;32m   1815\u001b[0m                 \u001b[0me\u001b[0m\u001b[1;33m,\u001b[0m \u001b[0mstatement\u001b[0m\u001b[1;33m,\u001b[0m \u001b[0mparameters\u001b[0m\u001b[1;33m,\u001b[0m \u001b[0mcursor\u001b[0m\u001b[1;33m,\u001b[0m \u001b[0mcontext\u001b[0m\u001b[1;33m\u001b[0m\u001b[1;33m\u001b[0m\u001b[0m\n\u001b[0;32m   1816\u001b[0m             )\n",
      "\u001b[1;32m~\\Anaconda3\\lib\\site-packages\\sqlalchemy\\engine\\base.py\u001b[0m in \u001b[0;36m_handle_dbapi_exception\u001b[1;34m(self, e, statement, parameters, cursor, context)\u001b[0m\n\u001b[0;32m   1993\u001b[0m                 \u001b[0mutil\u001b[0m\u001b[1;33m.\u001b[0m\u001b[0mraise_\u001b[0m\u001b[1;33m(\u001b[0m\u001b[0mnewraise\u001b[0m\u001b[1;33m,\u001b[0m \u001b[0mwith_traceback\u001b[0m\u001b[1;33m=\u001b[0m\u001b[0mexc_info\u001b[0m\u001b[1;33m[\u001b[0m\u001b[1;36m2\u001b[0m\u001b[1;33m]\u001b[0m\u001b[1;33m,\u001b[0m \u001b[0mfrom_\u001b[0m\u001b[1;33m=\u001b[0m\u001b[0me\u001b[0m\u001b[1;33m)\u001b[0m\u001b[1;33m\u001b[0m\u001b[1;33m\u001b[0m\u001b[0m\n\u001b[0;32m   1994\u001b[0m             \u001b[1;32melif\u001b[0m \u001b[0mshould_wrap\u001b[0m\u001b[1;33m:\u001b[0m\u001b[1;33m\u001b[0m\u001b[1;33m\u001b[0m\u001b[0m\n\u001b[1;32m-> 1995\u001b[1;33m                 util.raise_(\n\u001b[0m\u001b[0;32m   1996\u001b[0m                     \u001b[0msqlalchemy_exception\u001b[0m\u001b[1;33m,\u001b[0m \u001b[0mwith_traceback\u001b[0m\u001b[1;33m=\u001b[0m\u001b[0mexc_info\u001b[0m\u001b[1;33m[\u001b[0m\u001b[1;36m2\u001b[0m\u001b[1;33m]\u001b[0m\u001b[1;33m,\u001b[0m \u001b[0mfrom_\u001b[0m\u001b[1;33m=\u001b[0m\u001b[0me\u001b[0m\u001b[1;33m\u001b[0m\u001b[1;33m\u001b[0m\u001b[0m\n\u001b[0;32m   1997\u001b[0m                 )\n",
      "\u001b[1;32m~\\Anaconda3\\lib\\site-packages\\sqlalchemy\\util\\compat.py\u001b[0m in \u001b[0;36mraise_\u001b[1;34m(***failed resolving arguments***)\u001b[0m\n\u001b[0;32m    205\u001b[0m \u001b[1;33m\u001b[0m\u001b[0m\n\u001b[0;32m    206\u001b[0m         \u001b[1;32mtry\u001b[0m\u001b[1;33m:\u001b[0m\u001b[1;33m\u001b[0m\u001b[1;33m\u001b[0m\u001b[0m\n\u001b[1;32m--> 207\u001b[1;33m             \u001b[1;32mraise\u001b[0m \u001b[0mexception\u001b[0m\u001b[1;33m\u001b[0m\u001b[1;33m\u001b[0m\u001b[0m\n\u001b[0m\u001b[0;32m    208\u001b[0m         \u001b[1;32mfinally\u001b[0m\u001b[1;33m:\u001b[0m\u001b[1;33m\u001b[0m\u001b[1;33m\u001b[0m\u001b[0m\n\u001b[0;32m    209\u001b[0m             \u001b[1;31m# credit to\u001b[0m\u001b[1;33m\u001b[0m\u001b[1;33m\u001b[0m\u001b[1;33m\u001b[0m\u001b[0m\n",
      "\u001b[1;32m~\\Anaconda3\\lib\\site-packages\\sqlalchemy\\engine\\base.py\u001b[0m in \u001b[0;36m_execute_context\u001b[1;34m(self, dialect, constructor, statement, parameters, execution_options, *args, **kw)\u001b[0m\n\u001b[0;32m   1769\u001b[0m                             \u001b[1;32mbreak\u001b[0m\u001b[1;33m\u001b[0m\u001b[1;33m\u001b[0m\u001b[0m\n\u001b[0;32m   1770\u001b[0m                 \u001b[1;32mif\u001b[0m \u001b[1;32mnot\u001b[0m \u001b[0mevt_handled\u001b[0m\u001b[1;33m:\u001b[0m\u001b[1;33m\u001b[0m\u001b[1;33m\u001b[0m\u001b[0m\n\u001b[1;32m-> 1771\u001b[1;33m                     self.dialect.do_execute(\n\u001b[0m\u001b[0;32m   1772\u001b[0m                         \u001b[0mcursor\u001b[0m\u001b[1;33m,\u001b[0m \u001b[0mstatement\u001b[0m\u001b[1;33m,\u001b[0m \u001b[0mparameters\u001b[0m\u001b[1;33m,\u001b[0m \u001b[0mcontext\u001b[0m\u001b[1;33m\u001b[0m\u001b[1;33m\u001b[0m\u001b[0m\n\u001b[0;32m   1773\u001b[0m                     )\n",
      "\u001b[1;32m~\\Anaconda3\\lib\\site-packages\\sqlalchemy\\engine\\default.py\u001b[0m in \u001b[0;36mdo_execute\u001b[1;34m(self, cursor, statement, parameters, context)\u001b[0m\n\u001b[0;32m    715\u001b[0m \u001b[1;33m\u001b[0m\u001b[0m\n\u001b[0;32m    716\u001b[0m     \u001b[1;32mdef\u001b[0m \u001b[0mdo_execute\u001b[0m\u001b[1;33m(\u001b[0m\u001b[0mself\u001b[0m\u001b[1;33m,\u001b[0m \u001b[0mcursor\u001b[0m\u001b[1;33m,\u001b[0m \u001b[0mstatement\u001b[0m\u001b[1;33m,\u001b[0m \u001b[0mparameters\u001b[0m\u001b[1;33m,\u001b[0m \u001b[0mcontext\u001b[0m\u001b[1;33m=\u001b[0m\u001b[1;32mNone\u001b[0m\u001b[1;33m)\u001b[0m\u001b[1;33m:\u001b[0m\u001b[1;33m\u001b[0m\u001b[1;33m\u001b[0m\u001b[0m\n\u001b[1;32m--> 717\u001b[1;33m         \u001b[0mcursor\u001b[0m\u001b[1;33m.\u001b[0m\u001b[0mexecute\u001b[0m\u001b[1;33m(\u001b[0m\u001b[0mstatement\u001b[0m\u001b[1;33m,\u001b[0m \u001b[0mparameters\u001b[0m\u001b[1;33m)\u001b[0m\u001b[1;33m\u001b[0m\u001b[1;33m\u001b[0m\u001b[0m\n\u001b[0m\u001b[0;32m    718\u001b[0m \u001b[1;33m\u001b[0m\u001b[0m\n\u001b[0;32m    719\u001b[0m     \u001b[1;32mdef\u001b[0m \u001b[0mdo_execute_no_params\u001b[0m\u001b[1;33m(\u001b[0m\u001b[0mself\u001b[0m\u001b[1;33m,\u001b[0m \u001b[0mcursor\u001b[0m\u001b[1;33m,\u001b[0m \u001b[0mstatement\u001b[0m\u001b[1;33m,\u001b[0m \u001b[0mcontext\u001b[0m\u001b[1;33m=\u001b[0m\u001b[1;32mNone\u001b[0m\u001b[1;33m)\u001b[0m\u001b[1;33m:\u001b[0m\u001b[1;33m\u001b[0m\u001b[1;33m\u001b[0m\u001b[0m\n",
      "\u001b[1;31mProgrammingError\u001b[0m: (psycopg2.errors.UndefinedObject) no existe la restricción «uc_tab» para la tabla «fa»\n\n[SQL: INSERT INTO public.fa(id, author, date, text, source, location, negative, neutral, positive, compound, analysis, keyword) VALUES ('6c51302b-2a08-4010-9d9b-88977791a1ea', 'pennykirk583', 1627572077, ' is that joe biden', 'twitter', 'Seattle WA', 0.0, 1.0, 0.0, 0.0, 'neutral', 'Biden') ON CONFLICT ON CONSTRAINT uc_tab DO UPDATE SET note = EXCLUDED.note]\n(Background on this error at: https://sqlalche.me/e/14/f405)"
     ]
    }
   ],
   "source": [
    "engine.execute(sql)"
   ]
  },
  {
   "cell_type": "code",
   "execution_count": 67,
   "id": "6d340650-e7e5-4193-9044-3aa33e85a400",
   "metadata": {},
   "outputs": [
    {
     "name": "stdout",
     "output_type": "stream",
     "text": [
      "Table created successfully........\n"
     ]
    }
   ],
   "source": [
    "#Establishing the connection\n",
    "conn = psycopg2.connect( database=\"factorytest\", user='postgres', password='20906540', host='127.0.0.1', port= '5432')\n",
    "#Creating a cursor object using the cursor() method\n",
    "cursor = conn.cursor()\n",
    "\n",
    "#Doping EMPLOYEE table if already exists.\n",
    "# cursor.execute(\"DROP TABLE IF EXISTS EMPLOYEE\")\n",
    "\n",
    "# #Creating table as per requirement\n",
    "# sql ='''CREATE TABLE EMPLOYEE(\n",
    "#    FIRST_NAME CHAR(20) NOT NULL ,\n",
    "#    LAST_NAME CHAR(20),\n",
    "#    AGE INT,\n",
    "#    SEX CHAR(1),\n",
    "#    INCOME FLOAT\n",
    "# )'''\n",
    "sql = 'CREATE TABLE EMPLOYEE(' + var1 + ')'\n",
    "\n",
    "cursor.execute(sql)\n",
    "print(\"Table created successfully........\")\n",
    "\n",
    "#Closing the connection\n",
    "conn.close()"
   ]
  },
  {
   "cell_type": "code",
   "execution_count": 75,
   "id": "4ba91cca-b6b0-4466-bb9f-0d5b6c417e82",
   "metadata": {},
   "outputs": [
    {
     "data": {
      "text/plain": [
       "'CREATE TABLE EMPLOYEE(id VARCHAR(1000) , author VARCHAR(1000) , subreddit VARCHAR(1000) , date FLOAT , text VARCHAR(1000) , source VARCHAR(1000) , location VARCHAR(1000) , negative FLOAT , neutral FLOAT , positive FLOAT , compound FLOAT , analysis VARCHAR(1000) , keyword VARCHAR(1000) )'"
      ]
     },
     "execution_count": 75,
     "metadata": {},
     "output_type": "execute_result"
    }
   ],
   "source": [
    "sql = 'CREATE TABLE EMPLOYEE(' + var1 + ')'\n",
    "sql"
   ]
  },
  {
   "cell_type": "code",
   "execution_count": 87,
   "id": "46e700e3-68ce-42dd-8d74-c068c11499cf",
   "metadata": {},
   "outputs": [
    {
     "name": "stdout",
     "output_type": "stream",
     "text": [
      "Table created successfully........\n"
     ]
    }
   ],
   "source": [
    "host=\"localhost\"\n",
    "database=\"factorytest\"\n",
    "user=\"postgres\"\n",
    "password=\"20906540\"\n",
    "port= '5432'\n",
    "conect = 'dbname=' + database + ' user=' + user + ' password='+ str(password) + ' host=' + host +  ' port=' +port \n",
    "conn = psycopg2.connect(conect)\n",
    "\n",
    "cursor = conn.cursor()\n",
    "\n",
    "cursor.execute('''INSERT INTO public.\"EMPLOYEE\"(id, author, subreddit, date, text, source, location, negative, neutral, positive, compound, analysis, keyword) VALUES ('6c51302b-2a08-4010-9d9b-88977791a1ea', 'mdbsat100', 'nan', 1627572077, 'i naively thought once biden won i would stop feeling like i took crazy pills everyday \\n\\nboy was i wrong\\n\\nwearamask', 'twitter', 'San Antonio TX', 0.292, 0.417, 0.292, 0.0, 'neutral', 'Biden')''')\n",
    "print(\"Table created successfully........\")\n",
    "conn.close()"
   ]
  },
  {
   "cell_type": "code",
   "execution_count": 97,
   "id": "b122755c-5578-4c4d-aba3-85646ef3c18a",
   "metadata": {},
   "outputs": [],
   "source": [
    "k = []\n",
    "for i in range(len(data.dtypes)):\n",
    "    if data.dtypes[i] == 'object':\n",
    "        k.append(data.dtypes.index[i] + \" VARCHAR(1000)\")\n",
    "    if data.dtypes[i] == 'int64' or data.dtypes[i] == 'float64':\n",
    "        k.append(data.dtypes.index[i] + \" FLOAT\")\n",
    "  \n",
    "\n",
    "k1 = list(data.dtypes.index)\n",
    " \n",
    "sql = 'CREATE TABLE EMPLOYEE1(' + \", \".join(k) + \", UNIQUE (\" + \", \".join(k1)+\"))\" "
   ]
  },
  {
   "cell_type": "code",
   "execution_count": 94,
   "id": "1cc288e4-fe3a-495b-9f17-231364d2a54f",
   "metadata": {},
   "outputs": [
    {
     "data": {
      "text/plain": [
       "'CREATE TABLE EMPLOYEE(id VARCHAR(1000), author VARCHAR(1000), subreddit VARCHAR(1000), date FLOAT, text VARCHAR(1000), source VARCHAR(1000), location VARCHAR(1000), negative FLOAT, neutral FLOAT, positive FLOAT, compound FLOAT, analysis VARCHAR(1000), keyword VARCHAR(1000), UNIQUE (id, author, subreddit, date, text, source, location, negative, neutral, positive, compound, analysis, keyword)'"
      ]
     },
     "execution_count": 94,
     "metadata": {},
     "output_type": "execute_result"
    }
   ],
   "source": [
    "sql"
   ]
  },
  {
   "cell_type": "code",
   "execution_count": 78,
   "id": "53eb3531-4ad6-4d2f-8394-a4a374dbb9ce",
   "metadata": {},
   "outputs": [
    {
     "data": {
      "text/plain": [
       "'CREATE TABLE EMPLOYEE(id VARCHAR(1000), author VARCHAR(1000), subreddit VARCHAR(1000), date FLOAT, text VARCHAR(1000), source VARCHAR(1000), location VARCHAR(1000), negative FLOAT, neutral FLOAT, positive FLOAT, compound FLOAT, analysis VARCHAR(1000), keyword VARCHAR(1000))'"
      ]
     },
     "execution_count": 78,
     "metadata": {},
     "output_type": "execute_result"
    }
   ],
   "source": [
    "UNIQUE (aaa,bbb)"
   ]
  },
  {
   "cell_type": "code",
   "execution_count": 106,
   "id": "e8d8847d-ed22-4bd8-9673-0fbe316d9445",
   "metadata": {},
   "outputs": [
    {
     "data": {
      "text/plain": [
       "'id, author, date, text, source, location, negative, neutral, positive, compound, analysis, keyword'"
      ]
     },
     "execution_count": 106,
     "metadata": {},
     "output_type": "execute_result"
    }
   ],
   "source": [
    "k1 = list(data.loc[10].dropna().index)\n",
    "k1 = [str(a) for a in k1]\n",
    "k1 = \", \".join(k1)\n",
    "k1"
   ]
  },
  {
   "cell_type": "code",
   "execution_count": 107,
   "id": "40412626-917a-481b-b551-e16bf99ebe97",
   "metadata": {},
   "outputs": [
    {
     "data": {
      "text/plain": [
       "\"'6c51302b-2a08-4010-9d9b-88977791a1ea', 'CitizensVoice', 1627572072, 'boston ap — the biden administration will allow a nationwide ban on evictions to expire saturday arguing that its hands are tied after the supreme court signaled it could only be extended until the end of the month ', 'twitter', 'Wilkes-Barre Pa.', 0.15, 0.726, 0.125, -0.2732, 'negative', 'Biden'\""
      ]
     },
     "execution_count": 107,
     "metadata": {},
     "output_type": "execute_result"
    }
   ],
   "source": [
    "k = data.loc[10].dropna().to_list()\n",
    "for i in range(len(k)):\n",
    "    if str(type(k[i])) == \"<class 'str'>\":\n",
    "        k[i] = \"'\" + k[i] + \"'\"\n",
    "k = [str(a) for a in k]\n",
    "k = [a.replace(\",\", \"\") for a in k]\n",
    "k = \", \".join(k)\n",
    "k"
   ]
  },
  {
   "cell_type": "code",
   "execution_count": 104,
   "id": "546d2cc9-d834-4a51-9794-4876fdebf2e3",
   "metadata": {},
   "outputs": [],
   "source": [
    "sql = '''INSERT INTO public.\"EMPLOYEE\"('''+k1+ \") VALUES (\"+k+ \")\""
   ]
  },
  {
   "cell_type": "code",
   "execution_count": 105,
   "id": "eac9dd04-b6ae-483f-9b4d-5690663f7367",
   "metadata": {},
   "outputs": [
    {
     "data": {
      "text/plain": [
       "'INSERT INTO public.\"EMPLOYEE\"(id, author, date, text, source, location, negative, neutral, positive, compound, analysis, keyword) VALUES (\\'6c51302b-2a08-4010-9d9b-88977791a1ea\\', \\'mdbsat\\', 1627572077, \\'i naively thought once biden won i would stop feeling like i took crazy pills everyday \\n\\nboy was i wrong\\n\\nwearamask\\', \\'twitter\\', \\'San Antonio TX\\', 0.292, 0.417, 0.292, 0.0, \\'neutral\\', \\'Biden\\')'"
      ]
     },
     "execution_count": 105,
     "metadata": {},
     "output_type": "execute_result"
    }
   ],
   "source": [
    "sql"
   ]
  },
  {
   "cell_type": "code",
   "execution_count": null,
   "id": "6b0433d2-dc64-4e25-828d-6baa719e32af",
   "metadata": {},
   "outputs": [],
   "source": [
    "sql = \"\"\"INSERT INTO EMPLOYEE(\n",
    "   FIRST_NAME, LAST_NAME, AGE, SEX, INCOME)\n",
    "   VALUES ('Mac', 'Mohan', 20, 'M', 2000)\"\"\"\n"
   ]
  },
  {
   "cell_type": "code",
   "execution_count": 37,
   "id": "d47f1677-d6fa-49c6-80ab-8280700fd9f8",
   "metadata": {},
   "outputs": [
    {
     "data": {
      "text/plain": [
       "Index(['id', 'author', 'subreddit', 'date', 'text', 'source', 'location',\n",
       "       'negative', 'neutral', 'positive', 'compound', 'analysis', 'keyword'],\n",
       "      dtype='object')"
      ]
     },
     "execution_count": 37,
     "metadata": {},
     "output_type": "execute_result"
    }
   ],
   "source": [
    "data.loc[1].index"
   ]
  },
  {
   "cell_type": "code",
   "execution_count": null,
   "id": "4176d55b-3741-4313-ba1a-c522125878d8",
   "metadata": {},
   "outputs": [],
   "source": []
  },
  {
   "cell_type": "code",
   "execution_count": null,
   "id": "635560d3-2446-4059-b2cd-73a90e9085b4",
   "metadata": {},
   "outputs": [],
   "source": []
  },
  {
   "cell_type": "code",
   "execution_count": 6,
   "id": "7ddd5328-bbc8-4224-abe7-4ddf492a366b",
   "metadata": {},
   "outputs": [],
   "source": [
    "data = pd.read_csv(\"table_1.csv\")"
   ]
  },
  {
   "cell_type": "code",
   "execution_count": null,
   "id": "75b4b2c1-2027-4dd1-b11f-aec4dbf54ab5",
   "metadata": {},
   "outputs": [],
   "source": []
  },
  {
   "cell_type": "code",
   "execution_count": 15,
   "id": "530d1acb-3b6e-4abe-81e1-00abffe67683",
   "metadata": {},
   "outputs": [],
   "source": [
    "pol = data.loc[1580][\"text\"]"
   ]
  },
  {
   "cell_type": "code",
   "execution_count": 17,
   "id": "bca95de8-3e0d-4963-88e0-064612132036",
   "metadata": {},
   "outputs": [],
   "source": []
  },
  {
   "cell_type": "code",
   "execution_count": 8,
   "id": "8e3c0eb1-9871-4d86-a39c-17a685e245af",
   "metadata": {},
   "outputs": [
    {
     "data": {
      "text/plain": [
       "'mmmmmmmmmmm'"
      ]
     },
     "execution_count": 8,
     "metadata": {},
     "output_type": "execute_result"
    }
   ],
   "source": [
    "string = 'mmmmmmmmmmm'\n",
    "string[0:1000]"
   ]
  },
  {
   "cell_type": "code",
   "execution_count": 122,
   "id": "096dfbe9-c040-4a24-a075-05e9eb441a13",
   "metadata": {},
   "outputs": [
    {
     "ename": "InternalError",
     "evalue": "(psycopg2.errors.ActiveSqlTransaction) CREATE DATABASE no puede ser ejecutado dentro de un bloque de transacción\n\n[SQL: CREATE database lk]\n(Background on this error at: https://sqlalche.me/e/14/2j85)",
     "output_type": "error",
     "traceback": [
      "\u001b[1;31m---------------------------------------------------------------------------\u001b[0m",
      "\u001b[1;31mActiveSqlTransaction\u001b[0m                      Traceback (most recent call last)",
      "\u001b[1;32m~\\Anaconda3\\lib\\site-packages\\sqlalchemy\\engine\\base.py\u001b[0m in \u001b[0;36m_execute_context\u001b[1;34m(self, dialect, constructor, statement, parameters, execution_options, *args, **kw)\u001b[0m\n\u001b[0;32m   1770\u001b[0m                 \u001b[1;32mif\u001b[0m \u001b[1;32mnot\u001b[0m \u001b[0mevt_handled\u001b[0m\u001b[1;33m:\u001b[0m\u001b[1;33m\u001b[0m\u001b[1;33m\u001b[0m\u001b[0m\n\u001b[1;32m-> 1771\u001b[1;33m                     self.dialect.do_execute(\n\u001b[0m\u001b[0;32m   1772\u001b[0m                         \u001b[0mcursor\u001b[0m\u001b[1;33m,\u001b[0m \u001b[0mstatement\u001b[0m\u001b[1;33m,\u001b[0m \u001b[0mparameters\u001b[0m\u001b[1;33m,\u001b[0m \u001b[0mcontext\u001b[0m\u001b[1;33m\u001b[0m\u001b[1;33m\u001b[0m\u001b[0m\n",
      "\u001b[1;32m~\\Anaconda3\\lib\\site-packages\\sqlalchemy\\engine\\default.py\u001b[0m in \u001b[0;36mdo_execute\u001b[1;34m(self, cursor, statement, parameters, context)\u001b[0m\n\u001b[0;32m    716\u001b[0m     \u001b[1;32mdef\u001b[0m \u001b[0mdo_execute\u001b[0m\u001b[1;33m(\u001b[0m\u001b[0mself\u001b[0m\u001b[1;33m,\u001b[0m \u001b[0mcursor\u001b[0m\u001b[1;33m,\u001b[0m \u001b[0mstatement\u001b[0m\u001b[1;33m,\u001b[0m \u001b[0mparameters\u001b[0m\u001b[1;33m,\u001b[0m \u001b[0mcontext\u001b[0m\u001b[1;33m=\u001b[0m\u001b[1;32mNone\u001b[0m\u001b[1;33m)\u001b[0m\u001b[1;33m:\u001b[0m\u001b[1;33m\u001b[0m\u001b[1;33m\u001b[0m\u001b[0m\n\u001b[1;32m--> 717\u001b[1;33m         \u001b[0mcursor\u001b[0m\u001b[1;33m.\u001b[0m\u001b[0mexecute\u001b[0m\u001b[1;33m(\u001b[0m\u001b[0mstatement\u001b[0m\u001b[1;33m,\u001b[0m \u001b[0mparameters\u001b[0m\u001b[1;33m)\u001b[0m\u001b[1;33m\u001b[0m\u001b[1;33m\u001b[0m\u001b[0m\n\u001b[0m\u001b[0;32m    718\u001b[0m \u001b[1;33m\u001b[0m\u001b[0m\n",
      "\u001b[1;31mActiveSqlTransaction\u001b[0m: CREATE DATABASE no puede ser ejecutado dentro de un bloque de transacción\n",
      "\nThe above exception was the direct cause of the following exception:\n",
      "\u001b[1;31mInternalError\u001b[0m                             Traceback (most recent call last)",
      "\u001b[1;32m<ipython-input-122-67aefaa8760e>\u001b[0m in \u001b[0;36m<module>\u001b[1;34m\u001b[0m\n\u001b[1;32m----> 1\u001b[1;33m \u001b[0mrs\u001b[0m \u001b[1;33m=\u001b[0m \u001b[0mengine\u001b[0m\u001b[1;33m.\u001b[0m\u001b[0mexecute\u001b[0m\u001b[1;33m(\u001b[0m\u001b[1;34m'CREATE database '\u001b[0m \u001b[1;33m+\u001b[0m \u001b[1;34m\"lk\"\u001b[0m\u001b[1;33m)\u001b[0m\u001b[1;33m\u001b[0m\u001b[1;33m\u001b[0m\u001b[0m\n\u001b[0m",
      "\u001b[1;32m<string>\u001b[0m in \u001b[0;36mexecute\u001b[1;34m(self, statement, *multiparams, **params)\u001b[0m\n",
      "\u001b[1;32m~\\Anaconda3\\lib\\site-packages\\sqlalchemy\\util\\deprecations.py\u001b[0m in \u001b[0;36mwarned\u001b[1;34m(fn, *args, **kwargs)\u001b[0m\n\u001b[0;32m    388\u001b[0m         \u001b[1;32mif\u001b[0m \u001b[1;32mnot\u001b[0m \u001b[0mskip_warning\u001b[0m\u001b[1;33m:\u001b[0m\u001b[1;33m\u001b[0m\u001b[1;33m\u001b[0m\u001b[0m\n\u001b[0;32m    389\u001b[0m             \u001b[0m_warn_with_version\u001b[0m\u001b[1;33m(\u001b[0m\u001b[0mmessage\u001b[0m\u001b[1;33m,\u001b[0m \u001b[0mversion\u001b[0m\u001b[1;33m,\u001b[0m \u001b[0mwtype\u001b[0m\u001b[1;33m,\u001b[0m \u001b[0mstacklevel\u001b[0m\u001b[1;33m=\u001b[0m\u001b[1;36m3\u001b[0m\u001b[1;33m)\u001b[0m\u001b[1;33m\u001b[0m\u001b[1;33m\u001b[0m\u001b[0m\n\u001b[1;32m--> 390\u001b[1;33m         \u001b[1;32mreturn\u001b[0m \u001b[0mfn\u001b[0m\u001b[1;33m(\u001b[0m\u001b[1;33m*\u001b[0m\u001b[0margs\u001b[0m\u001b[1;33m,\u001b[0m \u001b[1;33m**\u001b[0m\u001b[0mkwargs\u001b[0m\u001b[1;33m)\u001b[0m\u001b[1;33m\u001b[0m\u001b[1;33m\u001b[0m\u001b[0m\n\u001b[0m\u001b[0;32m    391\u001b[0m \u001b[1;33m\u001b[0m\u001b[0m\n\u001b[0;32m    392\u001b[0m     \u001b[0mdoc\u001b[0m \u001b[1;33m=\u001b[0m \u001b[0mfunc\u001b[0m\u001b[1;33m.\u001b[0m\u001b[0m__doc__\u001b[0m \u001b[1;32mis\u001b[0m \u001b[1;32mnot\u001b[0m \u001b[1;32mNone\u001b[0m \u001b[1;32mand\u001b[0m \u001b[0mfunc\u001b[0m\u001b[1;33m.\u001b[0m\u001b[0m__doc__\u001b[0m \u001b[1;32mor\u001b[0m \u001b[1;34m\"\"\u001b[0m\u001b[1;33m\u001b[0m\u001b[1;33m\u001b[0m\u001b[0m\n",
      "\u001b[1;32m~\\Anaconda3\\lib\\site-packages\\sqlalchemy\\engine\\base.py\u001b[0m in \u001b[0;36mexecute\u001b[1;34m(self, statement, *multiparams, **params)\u001b[0m\n\u001b[0;32m   3106\u001b[0m         \"\"\"\n\u001b[0;32m   3107\u001b[0m         \u001b[0mconnection\u001b[0m \u001b[1;33m=\u001b[0m \u001b[0mself\u001b[0m\u001b[1;33m.\u001b[0m\u001b[0mconnect\u001b[0m\u001b[1;33m(\u001b[0m\u001b[0mclose_with_result\u001b[0m\u001b[1;33m=\u001b[0m\u001b[1;32mTrue\u001b[0m\u001b[1;33m)\u001b[0m\u001b[1;33m\u001b[0m\u001b[1;33m\u001b[0m\u001b[0m\n\u001b[1;32m-> 3108\u001b[1;33m         \u001b[1;32mreturn\u001b[0m \u001b[0mconnection\u001b[0m\u001b[1;33m.\u001b[0m\u001b[0mexecute\u001b[0m\u001b[1;33m(\u001b[0m\u001b[0mstatement\u001b[0m\u001b[1;33m,\u001b[0m \u001b[1;33m*\u001b[0m\u001b[0mmultiparams\u001b[0m\u001b[1;33m,\u001b[0m \u001b[1;33m**\u001b[0m\u001b[0mparams\u001b[0m\u001b[1;33m)\u001b[0m\u001b[1;33m\u001b[0m\u001b[1;33m\u001b[0m\u001b[0m\n\u001b[0m\u001b[0;32m   3109\u001b[0m \u001b[1;33m\u001b[0m\u001b[0m\n\u001b[0;32m   3110\u001b[0m     @util.deprecated_20(\n",
      "\u001b[1;32m~\\Anaconda3\\lib\\site-packages\\sqlalchemy\\engine\\base.py\u001b[0m in \u001b[0;36mexecute\u001b[1;34m(self, statement, *multiparams, **params)\u001b[0m\n\u001b[0;32m   1246\u001b[0m             )\n\u001b[0;32m   1247\u001b[0m \u001b[1;33m\u001b[0m\u001b[0m\n\u001b[1;32m-> 1248\u001b[1;33m             return self._exec_driver_sql(\n\u001b[0m\u001b[0;32m   1249\u001b[0m                 \u001b[0mstatement\u001b[0m\u001b[1;33m,\u001b[0m\u001b[1;33m\u001b[0m\u001b[1;33m\u001b[0m\u001b[0m\n\u001b[0;32m   1250\u001b[0m                 \u001b[0mmultiparams\u001b[0m\u001b[1;33m,\u001b[0m\u001b[1;33m\u001b[0m\u001b[1;33m\u001b[0m\u001b[0m\n",
      "\u001b[1;32m~\\Anaconda3\\lib\\site-packages\\sqlalchemy\\engine\\base.py\u001b[0m in \u001b[0;36m_exec_driver_sql\u001b[1;34m(self, statement, multiparams, params, execution_options, future)\u001b[0m\n\u001b[0;32m   1545\u001b[0m \u001b[1;33m\u001b[0m\u001b[0m\n\u001b[0;32m   1546\u001b[0m         \u001b[0mdialect\u001b[0m \u001b[1;33m=\u001b[0m \u001b[0mself\u001b[0m\u001b[1;33m.\u001b[0m\u001b[0mdialect\u001b[0m\u001b[1;33m\u001b[0m\u001b[1;33m\u001b[0m\u001b[0m\n\u001b[1;32m-> 1547\u001b[1;33m         ret = self._execute_context(\n\u001b[0m\u001b[0;32m   1548\u001b[0m             \u001b[0mdialect\u001b[0m\u001b[1;33m,\u001b[0m\u001b[1;33m\u001b[0m\u001b[1;33m\u001b[0m\u001b[0m\n\u001b[0;32m   1549\u001b[0m             \u001b[0mdialect\u001b[0m\u001b[1;33m.\u001b[0m\u001b[0mexecution_ctx_cls\u001b[0m\u001b[1;33m.\u001b[0m\u001b[0m_init_statement\u001b[0m\u001b[1;33m,\u001b[0m\u001b[1;33m\u001b[0m\u001b[1;33m\u001b[0m\u001b[0m\n",
      "\u001b[1;32m~\\Anaconda3\\lib\\site-packages\\sqlalchemy\\engine\\base.py\u001b[0m in \u001b[0;36m_execute_context\u001b[1;34m(self, dialect, constructor, statement, parameters, execution_options, *args, **kw)\u001b[0m\n\u001b[0;32m   1812\u001b[0m \u001b[1;33m\u001b[0m\u001b[0m\n\u001b[0;32m   1813\u001b[0m         \u001b[1;32mexcept\u001b[0m \u001b[0mBaseException\u001b[0m \u001b[1;32mas\u001b[0m \u001b[0me\u001b[0m\u001b[1;33m:\u001b[0m\u001b[1;33m\u001b[0m\u001b[1;33m\u001b[0m\u001b[0m\n\u001b[1;32m-> 1814\u001b[1;33m             self._handle_dbapi_exception(\n\u001b[0m\u001b[0;32m   1815\u001b[0m                 \u001b[0me\u001b[0m\u001b[1;33m,\u001b[0m \u001b[0mstatement\u001b[0m\u001b[1;33m,\u001b[0m \u001b[0mparameters\u001b[0m\u001b[1;33m,\u001b[0m \u001b[0mcursor\u001b[0m\u001b[1;33m,\u001b[0m \u001b[0mcontext\u001b[0m\u001b[1;33m\u001b[0m\u001b[1;33m\u001b[0m\u001b[0m\n\u001b[0;32m   1816\u001b[0m             )\n",
      "\u001b[1;32m~\\Anaconda3\\lib\\site-packages\\sqlalchemy\\engine\\base.py\u001b[0m in \u001b[0;36m_handle_dbapi_exception\u001b[1;34m(self, e, statement, parameters, cursor, context)\u001b[0m\n\u001b[0;32m   1993\u001b[0m                 \u001b[0mutil\u001b[0m\u001b[1;33m.\u001b[0m\u001b[0mraise_\u001b[0m\u001b[1;33m(\u001b[0m\u001b[0mnewraise\u001b[0m\u001b[1;33m,\u001b[0m \u001b[0mwith_traceback\u001b[0m\u001b[1;33m=\u001b[0m\u001b[0mexc_info\u001b[0m\u001b[1;33m[\u001b[0m\u001b[1;36m2\u001b[0m\u001b[1;33m]\u001b[0m\u001b[1;33m,\u001b[0m \u001b[0mfrom_\u001b[0m\u001b[1;33m=\u001b[0m\u001b[0me\u001b[0m\u001b[1;33m)\u001b[0m\u001b[1;33m\u001b[0m\u001b[1;33m\u001b[0m\u001b[0m\n\u001b[0;32m   1994\u001b[0m             \u001b[1;32melif\u001b[0m \u001b[0mshould_wrap\u001b[0m\u001b[1;33m:\u001b[0m\u001b[1;33m\u001b[0m\u001b[1;33m\u001b[0m\u001b[0m\n\u001b[1;32m-> 1995\u001b[1;33m                 util.raise_(\n\u001b[0m\u001b[0;32m   1996\u001b[0m                     \u001b[0msqlalchemy_exception\u001b[0m\u001b[1;33m,\u001b[0m \u001b[0mwith_traceback\u001b[0m\u001b[1;33m=\u001b[0m\u001b[0mexc_info\u001b[0m\u001b[1;33m[\u001b[0m\u001b[1;36m2\u001b[0m\u001b[1;33m]\u001b[0m\u001b[1;33m,\u001b[0m \u001b[0mfrom_\u001b[0m\u001b[1;33m=\u001b[0m\u001b[0me\u001b[0m\u001b[1;33m\u001b[0m\u001b[1;33m\u001b[0m\u001b[0m\n\u001b[0;32m   1997\u001b[0m                 )\n",
      "\u001b[1;32m~\\Anaconda3\\lib\\site-packages\\sqlalchemy\\util\\compat.py\u001b[0m in \u001b[0;36mraise_\u001b[1;34m(***failed resolving arguments***)\u001b[0m\n\u001b[0;32m    205\u001b[0m \u001b[1;33m\u001b[0m\u001b[0m\n\u001b[0;32m    206\u001b[0m         \u001b[1;32mtry\u001b[0m\u001b[1;33m:\u001b[0m\u001b[1;33m\u001b[0m\u001b[1;33m\u001b[0m\u001b[0m\n\u001b[1;32m--> 207\u001b[1;33m             \u001b[1;32mraise\u001b[0m \u001b[0mexception\u001b[0m\u001b[1;33m\u001b[0m\u001b[1;33m\u001b[0m\u001b[0m\n\u001b[0m\u001b[0;32m    208\u001b[0m         \u001b[1;32mfinally\u001b[0m\u001b[1;33m:\u001b[0m\u001b[1;33m\u001b[0m\u001b[1;33m\u001b[0m\u001b[0m\n\u001b[0;32m    209\u001b[0m             \u001b[1;31m# credit to\u001b[0m\u001b[1;33m\u001b[0m\u001b[1;33m\u001b[0m\u001b[1;33m\u001b[0m\u001b[0m\n",
      "\u001b[1;32m~\\Anaconda3\\lib\\site-packages\\sqlalchemy\\engine\\base.py\u001b[0m in \u001b[0;36m_execute_context\u001b[1;34m(self, dialect, constructor, statement, parameters, execution_options, *args, **kw)\u001b[0m\n\u001b[0;32m   1769\u001b[0m                             \u001b[1;32mbreak\u001b[0m\u001b[1;33m\u001b[0m\u001b[1;33m\u001b[0m\u001b[0m\n\u001b[0;32m   1770\u001b[0m                 \u001b[1;32mif\u001b[0m \u001b[1;32mnot\u001b[0m \u001b[0mevt_handled\u001b[0m\u001b[1;33m:\u001b[0m\u001b[1;33m\u001b[0m\u001b[1;33m\u001b[0m\u001b[0m\n\u001b[1;32m-> 1771\u001b[1;33m                     self.dialect.do_execute(\n\u001b[0m\u001b[0;32m   1772\u001b[0m                         \u001b[0mcursor\u001b[0m\u001b[1;33m,\u001b[0m \u001b[0mstatement\u001b[0m\u001b[1;33m,\u001b[0m \u001b[0mparameters\u001b[0m\u001b[1;33m,\u001b[0m \u001b[0mcontext\u001b[0m\u001b[1;33m\u001b[0m\u001b[1;33m\u001b[0m\u001b[0m\n\u001b[0;32m   1773\u001b[0m                     )\n",
      "\u001b[1;32m~\\Anaconda3\\lib\\site-packages\\sqlalchemy\\engine\\default.py\u001b[0m in \u001b[0;36mdo_execute\u001b[1;34m(self, cursor, statement, parameters, context)\u001b[0m\n\u001b[0;32m    715\u001b[0m \u001b[1;33m\u001b[0m\u001b[0m\n\u001b[0;32m    716\u001b[0m     \u001b[1;32mdef\u001b[0m \u001b[0mdo_execute\u001b[0m\u001b[1;33m(\u001b[0m\u001b[0mself\u001b[0m\u001b[1;33m,\u001b[0m \u001b[0mcursor\u001b[0m\u001b[1;33m,\u001b[0m \u001b[0mstatement\u001b[0m\u001b[1;33m,\u001b[0m \u001b[0mparameters\u001b[0m\u001b[1;33m,\u001b[0m \u001b[0mcontext\u001b[0m\u001b[1;33m=\u001b[0m\u001b[1;32mNone\u001b[0m\u001b[1;33m)\u001b[0m\u001b[1;33m:\u001b[0m\u001b[1;33m\u001b[0m\u001b[1;33m\u001b[0m\u001b[0m\n\u001b[1;32m--> 717\u001b[1;33m         \u001b[0mcursor\u001b[0m\u001b[1;33m.\u001b[0m\u001b[0mexecute\u001b[0m\u001b[1;33m(\u001b[0m\u001b[0mstatement\u001b[0m\u001b[1;33m,\u001b[0m \u001b[0mparameters\u001b[0m\u001b[1;33m)\u001b[0m\u001b[1;33m\u001b[0m\u001b[1;33m\u001b[0m\u001b[0m\n\u001b[0m\u001b[0;32m    718\u001b[0m \u001b[1;33m\u001b[0m\u001b[0m\n\u001b[0;32m    719\u001b[0m     \u001b[1;32mdef\u001b[0m \u001b[0mdo_execute_no_params\u001b[0m\u001b[1;33m(\u001b[0m\u001b[0mself\u001b[0m\u001b[1;33m,\u001b[0m \u001b[0mcursor\u001b[0m\u001b[1;33m,\u001b[0m \u001b[0mstatement\u001b[0m\u001b[1;33m,\u001b[0m \u001b[0mcontext\u001b[0m\u001b[1;33m=\u001b[0m\u001b[1;32mNone\u001b[0m\u001b[1;33m)\u001b[0m\u001b[1;33m:\u001b[0m\u001b[1;33m\u001b[0m\u001b[1;33m\u001b[0m\u001b[0m\n",
      "\u001b[1;31mInternalError\u001b[0m: (psycopg2.errors.ActiveSqlTransaction) CREATE DATABASE no puede ser ejecutado dentro de un bloque de transacción\n\n[SQL: CREATE database lk]\n(Background on this error at: https://sqlalche.me/e/14/2j85)"
     ]
    }
   ],
   "source": [
    "rs = engine.execute('CREATE database ' + \"lk\")"
   ]
  },
  {
   "cell_type": "code",
   "execution_count": null,
   "id": "70e23b50-b5e4-461e-a88e-d81dc0bbc3b2",
   "metadata": {},
   "outputs": [],
   "source": []
  }
 ],
 "metadata": {
  "kernelspec": {
   "display_name": "Python 3",
   "language": "python",
   "name": "python3"
  },
  "language_info": {
   "codemirror_mode": {
    "name": "ipython",
    "version": 3
   },
   "file_extension": ".py",
   "mimetype": "text/x-python",
   "name": "python",
   "nbconvert_exporter": "python",
   "pygments_lexer": "ipython3",
   "version": "3.8.3"
  }
 },
 "nbformat": 4,
 "nbformat_minor": 5
}
