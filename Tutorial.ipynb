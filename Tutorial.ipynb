{
 "cells": [
  {
   "cell_type": "markdown",
   "id": "efe3ee4e",
   "metadata": {},
   "source": [
    "# libraries"
   ]
  },
  {
   "cell_type": "code",
   "execution_count": 1,
   "id": "cfeeb8f8",
   "metadata": {
    "tags": []
   },
   "outputs": [],
   "source": [
    "import plotly.express as px\n",
    "import pandas as pd\n",
    "from sqlalchemy import create_engine\n",
    "from tqdm import tqdm \n",
    "from datetime import datetime"
   ]
  },
  {
   "cell_type": "markdown",
   "id": "4840f41a",
   "metadata": {},
   "source": [
    "# First Part (create the data base)"
   ]
  },
  {
   "cell_type": "code",
   "execution_count": 2,
   "id": "0c283cbd",
   "metadata": {},
   "outputs": [],
   "source": [
    "def CreateDataBase(database, user, password, host, port, newBase):\n",
    "    \n",
    "    '''\n",
    "   function that creates the database\n",
    "\n",
    "    database str : database name\n",
    "    user str : user name\n",
    "    password str : paswowrd of database\n",
    "    host str: host of database\n",
    "    port str: number of port\n",
    "    newBase str: dabase to be create\n",
    "    :return: null\n",
    "   '''\n",
    "\n",
    "    sqlQuery = 'CREATE database ' + newBase\n",
    "    \n",
    "    engine = create_engine(str('postgresql://postgres:'+password+'@'+host+':'+port+'/'+database))\n",
    "    conn = engine.connect()\n",
    "    conn.execute(\"commit\")\n",
    "\n",
    "    try:\n",
    "        conn.execute(sqlQuery)\n",
    "        print(\"Database \" + newBase +\" created successfully........\")\n",
    "    except:\n",
    "        print(\"Database \" + newBase +\" created unsuccessfully........\")        \n",
    "    \n",
    "    conn.close()\n",
    "\n",
    "\n",
    "    engine.dispose()\n"
   ]
  },
  {
   "cell_type": "code",
   "execution_count": 3,
   "id": "c3ec58d1",
   "metadata": {},
   "outputs": [
    {
     "name": "stdout",
     "output_type": "stream",
     "text": [
      "Database factory created successfully........\n"
     ]
    }
   ],
   "source": [
    "CreateDataBase(database=\"postgres\", user='postgres', password='20906540', host='127.0.0.1', port= '5432', newBase = \"factory\" )"
   ]
  },
  {
   "cell_type": "markdown",
   "id": "8c75bcfc",
   "metadata": {},
   "source": [
    "# Second Part (Creat a table from a DataFrame)"
   ]
  },
  {
   "cell_type": "code",
   "execution_count": 4,
   "id": "340ea32c",
   "metadata": {},
   "outputs": [],
   "source": [
    "def createTable(data, table, database, user, password, host, port):\n",
    "    \n",
    "    '''\n",
    "   function that creates the table\n",
    "   \n",
    "    data pandas.DataFrame: data to be insert\n",
    "    table str: name of table\n",
    "    database str : database name\n",
    "    user str : user name\n",
    "    password str : paswowrd of database\n",
    "    host str: host of database\n",
    "    port str: number of port\n",
    "    newBase str: dabase to be create\n",
    "    :return: null\n",
    "   '''\n",
    "    \n",
    "    \n",
    "    data.location = data.location.apply(lambda x: str(x).replace(\"'\", \"’\"))\n",
    "    \n",
    "    engine = create_engine(str('postgresql://postgres:'+password+'@'+host+':'+port+'/'+database))\n",
    "\n",
    "    k = []\n",
    "    for n in range(len(data.dtypes)):\n",
    "        if data.dtypes[n] == 'object':\n",
    "            k.append(data.dtypes.index[n] + \" TEXT\")\n",
    "        if data.dtypes[n] == 'int64' or data.dtypes[n] == 'float64':\n",
    "            k.append(data.dtypes.index[n] + \" FLOAT\")\n",
    "\n",
    "\n",
    "    k1 = list(data.dtypes.index)\n",
    "\n",
    "    sql = 'CREATE TABLE '+table+'(' + \", \".join(k) + \", UNIQUE (\" + \", \".join(k1)+\"))\" \n",
    "    data = data.fillna(\"NoValue\")\n",
    "    data = data.set_index(data.columns[0])\n",
    "    \n",
    "    try:\n",
    "        engine.execute(sql)\n",
    "    except:\n",
    "        print(\"table\" + table +\" created unsuccessfully........\")\n",
    "\n",
    "    data = data.reset_index()\n",
    "\n",
    "\n",
    "\n",
    "    for m in tqdm(range(len(data))):\n",
    "        k1 = list(data.loc[m].fillna(\"NoValue\").index)\n",
    "        k1 = [str(a) for a in k1]\n",
    "        k1 = \", \".join(k1)\n",
    "\n",
    "\n",
    "        k = data.loc[m].fillna(\"NoValue\").to_list()\n",
    "        for i in range(len(k)):\n",
    "            if str(type(k[i])) == \"<class 'str'>\":\n",
    "                k[i] = \"'\" + k[i] + \"'\"\n",
    "        k = [str(a) for a in k]\n",
    "        k = [a.replace(\",\", \"\") for a in k]\n",
    "        k = \", \".join(k)\n",
    "\n",
    "        try:\n",
    "            sql = '''INSERT INTO public.'''+ table +'''('''+k1+ \") VALUES (\"+k+ \") ON CONFLICT DO NOTHING\"\n",
    "            engine.execute(sql)\n",
    "        except:\n",
    "            print(\"Fila \" + str(m) +\" no insertada\")\n"
   ]
  },
  {
   "cell_type": "code",
   "execution_count": 5,
   "id": "c236a371",
   "metadata": {},
   "outputs": [],
   "source": [
    "data = pd.read_csv(\"table_1.csv\")"
   ]
  },
  {
   "cell_type": "code",
   "execution_count": 6,
   "id": "a757751a",
   "metadata": {
    "scrolled": true,
    "tags": []
   },
   "outputs": [
    {
     "name": "stderr",
     "output_type": "stream",
     "text": [
      " 76%|██████████████████████████████████████████████████████████▍                  | 1633/2154 [00:03<00:01, 414.97it/s]"
     ]
    },
    {
     "name": "stdout",
     "output_type": "stream",
     "text": [
      "Fila 1580 no insertada\n"
     ]
    },
    {
     "name": "stderr",
     "output_type": "stream",
     "text": [
      "100%|█████████████████████████████████████████████████████████████████████████████| 2154/2154 [00:05<00:00, 417.66it/s]\n"
     ]
    }
   ],
   "source": [
    "createTable(data = data, table = \"tabla\", database=\"factory\", user='postgres', password='20906540', host='127.0.0.1', port= '5432')"
   ]
  },
  {
   "cell_type": "markdown",
   "id": "4a09c09a",
   "metadata": {},
   "source": [
    "# Third Part (Crear View)"
   ]
  },
  {
   "cell_type": "code",
   "execution_count": 7,
   "id": "563649d7",
   "metadata": {},
   "outputs": [],
   "source": [
    "def Views(database, user, password, host, port, sqlQuery):\n",
    "    \n",
    "    '''\n",
    "   function that creates a view\n",
    "   \n",
    "    database str : database name\n",
    "    user str : user name\n",
    "    password str : paswowrd of database\n",
    "    host str: host of database\n",
    "    port str: number of port\n",
    "    sqlQuery str: Query to be execute \n",
    "    :return: null\n",
    "   '''\n",
    "    \n",
    "    engine = create_engine(str('postgresql://postgres:'+password+'@'+host+':'+port+'/'+database))\n",
    "\n",
    "\n",
    "    sql = sqlQuery\n",
    "    try:\n",
    "        engine.execute(sql)\n",
    "    except:\n",
    "        print(\"View \" + \" created unsuccessfully........\") \n",
    "            \n",
    "    engine.dispose()"
   ]
  },
  {
   "cell_type": "code",
   "execution_count": 8,
   "id": "cbb4f28b",
   "metadata": {},
   "outputs": [],
   "source": [
    "sqlQuery ='''CREATE VIEW Vista1 AS\n",
    "SELECT  keyword, id , date,\n",
    "AVG(positive) as avg_positive,\n",
    "AVG(neutral) as avg_neutral,\n",
    "AVG(negative) as avg_negative\n",
    "FROM    tabla\n",
    "GROUP BY \n",
    "keyword, id , date\n",
    "'''\n",
    "\n",
    "Views(database=\"factory\", user='postgres', password='20906540', host='127.0.0.1', port= '5432', sqlQuery = sqlQuery )"
   ]
  },
  {
   "cell_type": "code",
   "execution_count": 9,
   "id": "d2b9af1f",
   "metadata": {},
   "outputs": [],
   "source": [
    "sqlQuery ='''CREATE VIEW Vista2 AS\n",
    "SELECT  date,keyword, \n",
    "sum(CASE WHEN positive>negative AND positive>neutral THEN 1 ELSE 0 END) AS count_positive,\n",
    "sum(CASE WHEN negative>positive AND negative>neutral THEN 1 ELSE 0 END) AS count_negative,\n",
    "sum(CASE WHEN neutral>positive AND neutral>negative THEN 1 ELSE 0 END) AS count_neutral\n",
    "FROM  tabla\n",
    "GROUP BY\n",
    "date,keyword\n",
    "'''\n",
    "\n",
    "Views(database=\"factory\", user='postgres', password='20906540', host='127.0.0.1', port= '5432', sqlQuery = sqlQuery )\n"
   ]
  },
  {
   "cell_type": "markdown",
   "id": "3b1a11d4",
   "metadata": {},
   "source": [
    "# Four Part (Insert without Duplicated)"
   ]
  },
  {
   "cell_type": "code",
   "execution_count": 10,
   "id": "0b54bdea",
   "metadata": {},
   "outputs": [],
   "source": [
    "def InsertInTable(data, table, database, user, password, host, port):\n",
    "    \n",
    "    '''\n",
    "   function that insert from DataFrame\n",
    "   \n",
    "    data pandas.DataFrame:: data to be insert\n",
    "    database str : database name\n",
    "    user str : user name\n",
    "    password str : paswowrd of database\n",
    "    host str: host of database\n",
    "    port str: number of port\n",
    "    :return: null\n",
    "   '''\n",
    "    \n",
    "    engine = create_engine(str('postgresql://postgres:'+password+'@'+host+':'+port+'/'+database))\n",
    "\n",
    "    data.location = data.location.apply(lambda x: str(x).replace(\"'\", \"’\"))\n",
    "\n",
    "\n",
    "    for n in tqdm(range(len(data))):\n",
    "        k1 = list(data.loc[n].fillna(\"NoValue\").index)\n",
    "        k1 = [str(a) for a in k1]\n",
    "        k1 = \", \".join(k1)\n",
    "\n",
    "\n",
    "        k = data.loc[n].fillna(\"NoValue\").to_list()\n",
    "        for i in range(len(k)):\n",
    "            if str(type(k[i])) == \"<class 'str'>\":\n",
    "                k[i] = \"'\" + k[i] + \"'\"\n",
    "        k = [str(a) for a in k]\n",
    "        k = [a.replace(\",\", \"\") for a in k]\n",
    "        k = \", \".join(k)\n",
    "\n",
    "\n",
    "        sql = '''INSERT INTO public.'''+ table +'''('''+k1+ \") VALUES (\"+k+ \") ON CONFLICT DO NOTHING\"\n",
    "        try:\n",
    "            engine.execute(sql)\n",
    "        except:\n",
    "            print(\"Fila \" + str(n) +\" no insertada\")\n",
    "            \n",
    "    engine.dispose()"
   ]
  },
  {
   "cell_type": "code",
   "execution_count": 11,
   "id": "a734fc8e",
   "metadata": {},
   "outputs": [],
   "source": [
    "data1 = pd.read_csv(\"table_2.csv\")\n"
   ]
  },
  {
   "cell_type": "code",
   "execution_count": 12,
   "id": "a0455472",
   "metadata": {},
   "outputs": [
    {
     "name": "stderr",
     "output_type": "stream",
     "text": [
      " 52%|████████████████████████████████████████▏                                    | 1631/3129 [00:03<00:03, 418.29it/s]"
     ]
    },
    {
     "name": "stdout",
     "output_type": "stream",
     "text": [
      "Fila 1584 no insertada\n"
     ]
    },
    {
     "name": "stderr",
     "output_type": "stream",
     "text": [
      " 77%|███████████████████████████████████████████████████████████                  | 2399/3129 [00:05<00:02, 276.99it/s]"
     ]
    },
    {
     "name": "stdout",
     "output_type": "stream",
     "text": [
      "Fila 2358 no insertada\n",
      "Fila 2368 no insertada\n",
      "Fila 2372 no insertada\n",
      "Fila 2378 no insertada\n",
      "Fila 2379 no insertada\n",
      "Fila 2381 no insertada\n",
      "Fila 2387 no insertada\n",
      "Fila 2396 no insertada\n"
     ]
    },
    {
     "name": "stderr",
     "output_type": "stream",
     "text": [
      " 79%|████████████████████████████████████████████████████████████▋                | 2465/3129 [00:06<00:02, 298.96it/s]"
     ]
    },
    {
     "name": "stdout",
     "output_type": "stream",
     "text": [
      "Fila 2431 no insertada\n"
     ]
    },
    {
     "name": "stderr",
     "output_type": "stream",
     "text": [
      " 91%|██████████████████████████████████████████████████████████████████████       | 2846/3129 [00:07<00:00, 395.64it/s]"
     ]
    },
    {
     "name": "stdout",
     "output_type": "stream",
     "text": [
      "Fila 2794 no insertada\n"
     ]
    },
    {
     "name": "stderr",
     "output_type": "stream",
     "text": [
      "100%|█████████████████████████████████████████████████████████████████████████████| 3129/3129 [00:07<00:00, 408.06it/s]\n"
     ]
    }
   ],
   "source": [
    "InsertInTable(data1,\"tabla\", database=\"factory\", user='postgres', password='20906540', host='127.0.0.1', port= '5432')"
   ]
  },
  {
   "cell_type": "markdown",
   "id": "8d07823f",
   "metadata": {},
   "source": [
    "# fifth part (extract information from views)"
   ]
  },
  {
   "cell_type": "code",
   "execution_count": 13,
   "id": "f9c2a509",
   "metadata": {},
   "outputs": [],
   "source": [
    "def ReadView(sqlQuery, database, user, password, host, port):\n",
    "    \n",
    "    '''\n",
    "   function that read a view\n",
    "   \n",
    "    database str : database name\n",
    "    user str : user name\n",
    "    password str : paswowrd of database\n",
    "    host str: host of database\n",
    "    port str: number of port\n",
    "    sqlQuery str: Query to be execute \n",
    "    :return: null\n",
    "   '''\n",
    "    \n",
    "    engine = create_engine(str('postgresql://postgres:'+password+'@'+host+':'+port+'/'+database))\n",
    "\n",
    "    \n",
    "    try:\n",
    "        data = pd.read_sql_query(sqlQuery,con=engine)\n",
    "    except:\n",
    "        print(\"could not be read view\")\n",
    "\n",
    "    engine.dispose()\n",
    "    return(data)"
   ]
  },
  {
   "cell_type": "code",
   "execution_count": 14,
   "id": "0dabd936",
   "metadata": {},
   "outputs": [
    {
     "data": {
      "text/html": [
       "<div>\n",
       "<style scoped>\n",
       "    .dataframe tbody tr th:only-of-type {\n",
       "        vertical-align: middle;\n",
       "    }\n",
       "\n",
       "    .dataframe tbody tr th {\n",
       "        vertical-align: top;\n",
       "    }\n",
       "\n",
       "    .dataframe thead th {\n",
       "        text-align: right;\n",
       "    }\n",
       "</style>\n",
       "<table border=\"1\" class=\"dataframe\">\n",
       "  <thead>\n",
       "    <tr style=\"text-align: right;\">\n",
       "      <th></th>\n",
       "      <th>keyword</th>\n",
       "      <th>id</th>\n",
       "      <th>date</th>\n",
       "      <th>avg_positive</th>\n",
       "      <th>avg_neutral</th>\n",
       "      <th>avg_negative</th>\n",
       "    </tr>\n",
       "  </thead>\n",
       "  <tbody>\n",
       "    <tr>\n",
       "      <th>0</th>\n",
       "      <td>Tesla</td>\n",
       "      <td>8a09c213-c217-4c4e-98d5-4979bec2ba14</td>\n",
       "      <td>1.627747e+09</td>\n",
       "      <td>0.022</td>\n",
       "      <td>0.577</td>\n",
       "      <td>0.401</td>\n",
       "    </tr>\n",
       "    <tr>\n",
       "      <th>1</th>\n",
       "      <td>Biden</td>\n",
       "      <td>c913dbcc-cda8-4039-b355-ee3334e9b9e5</td>\n",
       "      <td>1.627673e+09</td>\n",
       "      <td>0.000</td>\n",
       "      <td>1.000</td>\n",
       "      <td>0.000</td>\n",
       "    </tr>\n",
       "    <tr>\n",
       "      <th>2</th>\n",
       "      <td>Biden</td>\n",
       "      <td>ed39a761-f819-44c6-9eba-b3e1f0be7480</td>\n",
       "      <td>1.627673e+09</td>\n",
       "      <td>0.042</td>\n",
       "      <td>0.708</td>\n",
       "      <td>0.250</td>\n",
       "    </tr>\n",
       "    <tr>\n",
       "      <th>3</th>\n",
       "      <td>Biden</td>\n",
       "      <td>04bc808b-5d54-4208-9909-60c547d4805e</td>\n",
       "      <td>1.627653e+09</td>\n",
       "      <td>0.000</td>\n",
       "      <td>1.000</td>\n",
       "      <td>0.000</td>\n",
       "    </tr>\n",
       "    <tr>\n",
       "      <th>4</th>\n",
       "      <td>Amazon</td>\n",
       "      <td>110020fa-86bd-4d4a-8b44-bb78e67622fd</td>\n",
       "      <td>1.627729e+09</td>\n",
       "      <td>0.134</td>\n",
       "      <td>0.866</td>\n",
       "      <td>0.000</td>\n",
       "    </tr>\n",
       "  </tbody>\n",
       "</table>\n",
       "</div>"
      ],
      "text/plain": [
       "  keyword                                    id          date  avg_positive  \\\n",
       "0   Tesla  8a09c213-c217-4c4e-98d5-4979bec2ba14  1.627747e+09         0.022   \n",
       "1   Biden  c913dbcc-cda8-4039-b355-ee3334e9b9e5  1.627673e+09         0.000   \n",
       "2   Biden  ed39a761-f819-44c6-9eba-b3e1f0be7480  1.627673e+09         0.042   \n",
       "3   Biden  04bc808b-5d54-4208-9909-60c547d4805e  1.627653e+09         0.000   \n",
       "4  Amazon  110020fa-86bd-4d4a-8b44-bb78e67622fd  1.627729e+09         0.134   \n",
       "\n",
       "   avg_neutral  avg_negative  \n",
       "0        0.577         0.401  \n",
       "1        1.000         0.000  \n",
       "2        0.708         0.250  \n",
       "3        1.000         0.000  \n",
       "4        0.866         0.000  "
      ]
     },
     "execution_count": 14,
     "metadata": {},
     "output_type": "execute_result"
    }
   ],
   "source": [
    "query = \"SELECT * FROM public.vista1\"\n",
    "view1 = ReadView(sqlQuery = query, database=\"factory\", user='postgres', password='20906540', host='127.0.0.1', port= '5432')\n",
    "view1.head()"
   ]
  },
  {
   "cell_type": "code",
   "execution_count": 15,
   "id": "d1b45055",
   "metadata": {},
   "outputs": [
    {
     "data": {
      "text/html": [
       "<div>\n",
       "<style scoped>\n",
       "    .dataframe tbody tr th:only-of-type {\n",
       "        vertical-align: middle;\n",
       "    }\n",
       "\n",
       "    .dataframe tbody tr th {\n",
       "        vertical-align: top;\n",
       "    }\n",
       "\n",
       "    .dataframe thead th {\n",
       "        text-align: right;\n",
       "    }\n",
       "</style>\n",
       "<table border=\"1\" class=\"dataframe\">\n",
       "  <thead>\n",
       "    <tr style=\"text-align: right;\">\n",
       "      <th></th>\n",
       "      <th>date</th>\n",
       "      <th>keyword</th>\n",
       "      <th>count_positive</th>\n",
       "      <th>count_negative</th>\n",
       "      <th>count_neutral</th>\n",
       "    </tr>\n",
       "  </thead>\n",
       "  <tbody>\n",
       "    <tr>\n",
       "      <th>0</th>\n",
       "      <td>1.627573e+09</td>\n",
       "      <td>Biden</td>\n",
       "      <td>0</td>\n",
       "      <td>0</td>\n",
       "      <td>1</td>\n",
       "    </tr>\n",
       "    <tr>\n",
       "      <th>1</th>\n",
       "      <td>1.627653e+09</td>\n",
       "      <td>Biden</td>\n",
       "      <td>0</td>\n",
       "      <td>0</td>\n",
       "      <td>2</td>\n",
       "    </tr>\n",
       "    <tr>\n",
       "      <th>2</th>\n",
       "      <td>1.627644e+09</td>\n",
       "      <td>Biden</td>\n",
       "      <td>0</td>\n",
       "      <td>0</td>\n",
       "      <td>1</td>\n",
       "    </tr>\n",
       "    <tr>\n",
       "      <th>3</th>\n",
       "      <td>1.627597e+09</td>\n",
       "      <td>Biden</td>\n",
       "      <td>0</td>\n",
       "      <td>0</td>\n",
       "      <td>4</td>\n",
       "    </tr>\n",
       "    <tr>\n",
       "      <th>4</th>\n",
       "      <td>1.627572e+09</td>\n",
       "      <td>Biden</td>\n",
       "      <td>0</td>\n",
       "      <td>0</td>\n",
       "      <td>1</td>\n",
       "    </tr>\n",
       "  </tbody>\n",
       "</table>\n",
       "</div>"
      ],
      "text/plain": [
       "           date keyword  count_positive  count_negative  count_neutral\n",
       "0  1.627573e+09   Biden               0               0              1\n",
       "1  1.627653e+09   Biden               0               0              2\n",
       "2  1.627644e+09   Biden               0               0              1\n",
       "3  1.627597e+09   Biden               0               0              4\n",
       "4  1.627572e+09   Biden               0               0              1"
      ]
     },
     "execution_count": 15,
     "metadata": {},
     "output_type": "execute_result"
    }
   ],
   "source": [
    "query = \"SELECT * FROM public.vista2\"\n",
    "view2 = ReadView(sqlQuery = query, database=\"factory\", user='postgres', password='20906540', host='127.0.0.1', port= '5432')\n",
    "view2.head()"
   ]
  },
  {
   "cell_type": "markdown",
   "id": "0c7d8fc2",
   "metadata": {},
   "source": [
    "# Sixth part (graphic)"
   ]
  },
  {
   "cell_type": "code",
   "execution_count": 16,
   "id": "6c85f144",
   "metadata": {},
   "outputs": [],
   "source": [
    "def Graf(view1, view2):\n",
    "    \n",
    "    '''\n",
    "   function that create some images\n",
    "   \n",
    "    view1 pandas.DataFrame:: data from the first view\n",
    "    view2 pandas.DataFrame:: data from the second view\n",
    "    :return: null\n",
    "   '''\n",
    "    \n",
    "\n",
    "    view1.date = view1.date.apply(lambda x: datetime.fromtimestamp(x))\n",
    "    view2.date = view2.date.apply(lambda x: datetime.fromtimestamp(x))\n",
    "\n",
    "    data = view1[view1[\"date\"]>=\"2021-07-28\"][[\"date\", 'avg_positive', \"avg_neutral\", \"avg_negative\"]]\n",
    "    data = data.resample('60min', on='date').mean().reset_index()\n",
    "\n",
    "    fig = px.bar(data, x='date', y=[\"avg_positive\", \"avg_neutral\",\"avg_negative\"],color_discrete_sequence = [\"blue\",\"gray\",\"red\"])\n",
    "    fig.write_image(\"avarage_senti.png\")\n",
    "\n",
    "\n",
    "    data = view2[view2[\"date\"]>=\"2021-07-28\"][[\"date\", 'count_positive', \"count_neutral\", \"count_negative\"]]\n",
    "    df = data.resample('60min', on='date').sum()\n",
    "\n",
    "    fig = px.line(df)\n",
    "    fig.write_image(\"count1.png\")\n",
    "\n",
    "    df = data.resample('60min', on='date').sum()\n",
    "    df1 = df.drop(\"count_neutral\", axis = 1)\n",
    "\n",
    "    fig = px.line(df1)\n",
    "    fig.write_image(\"count2.png\")"
   ]
  },
  {
   "cell_type": "code",
   "execution_count": 17,
   "id": "f7c25381",
   "metadata": {},
   "outputs": [],
   "source": [
    "Graf(view1, view2)"
   ]
  }
 ],
 "metadata": {
  "kernelspec": {
   "display_name": "Python 3",
   "language": "python",
   "name": "python3"
  },
  "language_info": {
   "codemirror_mode": {
    "name": "ipython",
    "version": 3
   },
   "file_extension": ".py",
   "mimetype": "text/x-python",
   "name": "python",
   "nbconvert_exporter": "python",
   "pygments_lexer": "ipython3",
   "version": "3.8.3"
  }
 },
 "nbformat": 4,
 "nbformat_minor": 5
}
