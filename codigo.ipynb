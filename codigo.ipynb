{
 "cells": [
  {
   "cell_type": "markdown",
   "id": "5df77cb5",
   "metadata": {},
   "source": [
    "# libraries"
   ]
  },
  {
   "cell_type": "code",
   "execution_count": 21,
   "id": "1d30c580",
   "metadata": {
    "tags": []
   },
   "outputs": [],
   "source": [
    "import psycopg2\n",
    "import pandas as pd\n",
    "from sqlalchemy import create_engine\n",
    "from tqdm import tqdm \n",
    "from datetime import datetime"
   ]
  },
  {
   "cell_type": "markdown",
   "id": "c3a242cc",
   "metadata": {},
   "source": [
    "# First Part (create the data base)"
   ]
  },
  {
   "cell_type": "code",
   "execution_count": 22,
   "id": "b305ab1a",
   "metadata": {},
   "outputs": [],
   "source": [
    "def CreateDataBase(database, user, password, host, port, newBase):\n",
    "\n",
    "    sqlQuery = 'CREATE database ' + newBase\n",
    "    \n",
    "    engine = create_engine(str('postgresql://postgres:'+password+'@'+host+':'+port+'/'+database))\n",
    "    conn = engine.connect()\n",
    "    conn.execute(\"commit\")\n",
    "\n",
    "    conn.execute(sqlQuery)\n",
    "    print(\"Database \" + newBase +\" created successfully........\")\n",
    "    conn.close()\n",
    "\n",
    "\n",
    "    engine.dispose()\n"
   ]
  },
  {
   "cell_type": "code",
   "execution_count": 23,
   "id": "ed9fbccf",
   "metadata": {},
   "outputs": [
    {
     "name": "stdout",
     "output_type": "stream",
     "text": [
      "Database factory created successfully........\n"
     ]
    }
   ],
   "source": [
    "CreateDataBase(database=\"postgres\", user='postgres', password='20906540', host='127.0.0.1', port= '5432', newBase = \"factory\" )"
   ]
  },
  {
   "cell_type": "markdown",
   "id": "fec56002",
   "metadata": {},
   "source": [
    "# Second Part (Creat a table from a DataFrame)"
   ]
  },
  {
   "cell_type": "code",
   "execution_count": 24,
   "id": "707a56ff",
   "metadata": {},
   "outputs": [],
   "source": [
    "def createTable(data, table, database, user, password, host, port):\n",
    "    \n",
    "\n",
    "    data.location = data.location.apply(lambda x: str(x).replace(\"'\", \"’\"))\n",
    "    \n",
    "    engine = create_engine(str('postgresql://postgres:'+password+'@'+host+':'+port+'/'+database))\n",
    "\n",
    "    k = []\n",
    "    for n in range(len(data.dtypes)):\n",
    "        if data.dtypes[n] == 'object':\n",
    "            k.append(data.dtypes.index[n] + \" TEXT\")\n",
    "        if data.dtypes[n] == 'int64' or data.dtypes[n] == 'float64':\n",
    "            k.append(data.dtypes.index[n] + \" FLOAT\")\n",
    "\n",
    "\n",
    "    k1 = list(data.dtypes.index)\n",
    "\n",
    "    sql = 'CREATE TABLE '+table+'(' + \", \".join(k) + \", UNIQUE (\" + \", \".join(k1)+\"))\" \n",
    "    data = data.fillna(\"NoValue\")\n",
    "    data = data.set_index(data.columns[0])\n",
    "    engine.execute(sql)\n",
    "    \n",
    "    data = data.reset_index()\n",
    "\n",
    "\n",
    "\n",
    "    for m in tqdm(range(len(data))):\n",
    "        k1 = list(data.loc[m].fillna(\"NoValue\").index)\n",
    "        k1 = [str(a) for a in k1]\n",
    "        k1 = \", \".join(k1)\n",
    "\n",
    "\n",
    "        k = data.loc[m].fillna(\"NoValue\").to_list()\n",
    "        for i in range(len(k)):\n",
    "            if str(type(k[i])) == \"<class 'str'>\":\n",
    "                k[i] = \"'\" + k[i] + \"'\"\n",
    "        k = [str(a) for a in k]\n",
    "        k = [a.replace(\",\", \"\") for a in k]\n",
    "        k = \", \".join(k)\n",
    "\n",
    "        try:\n",
    "            sql = '''INSERT INTO public.'''+ table +'''('''+k1+ \") VALUES (\"+k+ \") ON CONFLICT DO NOTHING\"\n",
    "            engine.execute(sql)\n",
    "        except:\n",
    "            print(\"Fila \" + str(m) +\" no insertada\")\n"
   ]
  },
  {
   "cell_type": "code",
   "execution_count": 25,
   "id": "5de76426",
   "metadata": {},
   "outputs": [
    {
     "data": {
      "text/html": [
       "<div>\n",
       "<style scoped>\n",
       "    .dataframe tbody tr th:only-of-type {\n",
       "        vertical-align: middle;\n",
       "    }\n",
       "\n",
       "    .dataframe tbody tr th {\n",
       "        vertical-align: top;\n",
       "    }\n",
       "\n",
       "    .dataframe thead th {\n",
       "        text-align: right;\n",
       "    }\n",
       "</style>\n",
       "<table border=\"1\" class=\"dataframe\">\n",
       "  <thead>\n",
       "    <tr style=\"text-align: right;\">\n",
       "      <th></th>\n",
       "      <th>id</th>\n",
       "      <th>author</th>\n",
       "      <th>subreddit</th>\n",
       "      <th>date</th>\n",
       "      <th>text</th>\n",
       "      <th>source</th>\n",
       "      <th>location</th>\n",
       "      <th>negative</th>\n",
       "      <th>neutral</th>\n",
       "      <th>positive</th>\n",
       "      <th>compound</th>\n",
       "      <th>analysis</th>\n",
       "      <th>keyword</th>\n",
       "    </tr>\n",
       "  </thead>\n",
       "  <tbody>\n",
       "    <tr>\n",
       "      <th>0</th>\n",
       "      <td>6c51302b-2a08-4010-9d9b-88977791a1ea</td>\n",
       "      <td>pennykirk583</td>\n",
       "      <td>NaN</td>\n",
       "      <td>1627572077</td>\n",
       "      <td>is that joe biden</td>\n",
       "      <td>twitter</td>\n",
       "      <td>Seattle, WA</td>\n",
       "      <td>0.000</td>\n",
       "      <td>1.000</td>\n",
       "      <td>0.000</td>\n",
       "      <td>0.0000</td>\n",
       "      <td>neutral</td>\n",
       "      <td>Biden</td>\n",
       "    </tr>\n",
       "    <tr>\n",
       "      <th>1</th>\n",
       "      <td>6c51302b-2a08-4010-9d9b-88977791a1ea</td>\n",
       "      <td>mdbsat</td>\n",
       "      <td>NaN</td>\n",
       "      <td>1627572077</td>\n",
       "      <td>i naively thought once biden won i would stop ...</td>\n",
       "      <td>twitter</td>\n",
       "      <td>San Antonio, TX</td>\n",
       "      <td>0.292</td>\n",
       "      <td>0.417</td>\n",
       "      <td>0.292</td>\n",
       "      <td>0.0000</td>\n",
       "      <td>neutral</td>\n",
       "      <td>Biden</td>\n",
       "    </tr>\n",
       "    <tr>\n",
       "      <th>2</th>\n",
       "      <td>6c51302b-2a08-4010-9d9b-88977791a1ea</td>\n",
       "      <td>davidbr11505741</td>\n",
       "      <td>NaN</td>\n",
       "      <td>1627572077</td>\n",
       "      <td>postal union refuses bidens mandatory vaccinat...</td>\n",
       "      <td>twitter</td>\n",
       "      <td>Georgia, USA</td>\n",
       "      <td>0.000</td>\n",
       "      <td>0.874</td>\n",
       "      <td>0.126</td>\n",
       "      <td>0.0772</td>\n",
       "      <td>positive</td>\n",
       "      <td>Biden</td>\n",
       "    </tr>\n",
       "    <tr>\n",
       "      <th>3</th>\n",
       "      <td>6c51302b-2a08-4010-9d9b-88977791a1ea</td>\n",
       "      <td>ENDOFET3RNITY</td>\n",
       "      <td>NaN</td>\n",
       "      <td>1627572076</td>\n",
       "      <td>joe biden has unfollowed dababy on instagram</td>\n",
       "      <td>twitter</td>\n",
       "      <td>NaN</td>\n",
       "      <td>0.000</td>\n",
       "      <td>1.000</td>\n",
       "      <td>0.000</td>\n",
       "      <td>0.0000</td>\n",
       "      <td>neutral</td>\n",
       "      <td>Biden</td>\n",
       "    </tr>\n",
       "    <tr>\n",
       "      <th>4</th>\n",
       "      <td>6c51302b-2a08-4010-9d9b-88977791a1ea</td>\n",
       "      <td>yanetCornell</td>\n",
       "      <td>NaN</td>\n",
       "      <td>1627572076</td>\n",
       "      <td>barr comes back to help trump dismantle bidenp...</td>\n",
       "      <td>twitter</td>\n",
       "      <td>NaN</td>\n",
       "      <td>0.189</td>\n",
       "      <td>0.651</td>\n",
       "      <td>0.160</td>\n",
       "      <td>-0.1280</td>\n",
       "      <td>negative</td>\n",
       "      <td>Biden</td>\n",
       "    </tr>\n",
       "  </tbody>\n",
       "</table>\n",
       "</div>"
      ],
      "text/plain": [
       "                                     id           author subreddit  \\\n",
       "0  6c51302b-2a08-4010-9d9b-88977791a1ea     pennykirk583       NaN   \n",
       "1  6c51302b-2a08-4010-9d9b-88977791a1ea           mdbsat       NaN   \n",
       "2  6c51302b-2a08-4010-9d9b-88977791a1ea  davidbr11505741       NaN   \n",
       "3  6c51302b-2a08-4010-9d9b-88977791a1ea    ENDOFET3RNITY       NaN   \n",
       "4  6c51302b-2a08-4010-9d9b-88977791a1ea     yanetCornell       NaN   \n",
       "\n",
       "         date                                               text   source  \\\n",
       "0  1627572077                                  is that joe biden  twitter   \n",
       "1  1627572077  i naively thought once biden won i would stop ...  twitter   \n",
       "2  1627572077  postal union refuses bidens mandatory vaccinat...  twitter   \n",
       "3  1627572076      joe biden has unfollowed dababy on instagram   twitter   \n",
       "4  1627572076  barr comes back to help trump dismantle bidenp...  twitter   \n",
       "\n",
       "          location  negative  neutral  positive  compound  analysis keyword  \n",
       "0      Seattle, WA     0.000    1.000     0.000    0.0000   neutral   Biden  \n",
       "1  San Antonio, TX     0.292    0.417     0.292    0.0000   neutral   Biden  \n",
       "2     Georgia, USA     0.000    0.874     0.126    0.0772  positive   Biden  \n",
       "3              NaN     0.000    1.000     0.000    0.0000   neutral   Biden  \n",
       "4              NaN     0.189    0.651     0.160   -0.1280  negative   Biden  "
      ]
     },
     "execution_count": 25,
     "metadata": {},
     "output_type": "execute_result"
    }
   ],
   "source": [
    "data = pd.read_csv(\"table_1.csv\")\n",
    "data.head()"
   ]
  },
  {
   "cell_type": "code",
   "execution_count": 26,
   "id": "563aca52",
   "metadata": {
    "scrolled": true,
    "tags": []
   },
   "outputs": [
    {
     "name": "stderr",
     "output_type": "stream",
     "text": [
      " 76%|██████████████████████████████████████████████████████████▊                  | 1646/2154 [00:04<00:01, 390.19it/s]"
     ]
    },
    {
     "name": "stdout",
     "output_type": "stream",
     "text": [
      "Fila 1580 no insertada\n"
     ]
    },
    {
     "name": "stderr",
     "output_type": "stream",
     "text": [
      "100%|█████████████████████████████████████████████████████████████████████████████| 2154/2154 [00:05<00:00, 389.16it/s]\n"
     ]
    }
   ],
   "source": [
    "createTable(data = data, table = \"tabla\", database=\"factory\", user='postgres', password='20906540', host='127.0.0.1', port= '5432')"
   ]
  },
  {
   "cell_type": "markdown",
   "id": "f21fc62f",
   "metadata": {},
   "source": [
    "# Third Part (Crear View)"
   ]
  },
  {
   "cell_type": "code",
   "execution_count": 27,
   "id": "0a013b77",
   "metadata": {},
   "outputs": [],
   "source": [
    "def Views(database, user, password, host, port, sqlQuery):\n",
    "    \n",
    "    engine = create_engine(str('postgresql://postgres:'+password+'@'+host+':'+port+'/'+database))\n",
    "\n",
    "\n",
    "    sql = sqlQuery\n",
    "    try:\n",
    "        engine.execute(sql)\n",
    "    except:\n",
    "        print(\"Fila \" + str(n) +\" no insertada\")\n",
    "            \n",
    "    engine.dispose()"
   ]
  },
  {
   "cell_type": "code",
   "execution_count": 28,
   "id": "2411af09",
   "metadata": {},
   "outputs": [],
   "source": [
    "sqlQuery ='''CREATE VIEW Vista1 AS\n",
    "SELECT  keyword, id , date,\n",
    "AVG(positive) as avg_positive,\n",
    "AVG(neutral) as avg_neutral,\n",
    "AVG(negative) as avg_negative\n",
    "FROM    tabla\n",
    "GROUP BY \n",
    "keyword, id , date\n",
    "'''\n",
    "\n",
    "Views(database=\"factory\", user='postgres', password='20906540', host='127.0.0.1', port= '5432', sqlQuery = sqlQuery )"
   ]
  },
  {
   "cell_type": "code",
   "execution_count": 29,
   "id": "0c5f9b24",
   "metadata": {},
   "outputs": [],
   "source": [
    "sqlQuery ='''CREATE VIEW Vista2 AS\n",
    "SELECT  date,keyword, \n",
    "sum(CASE WHEN positive>negative AND positive>neutral THEN 1 ELSE 0 END) AS count_positive,\n",
    "sum(CASE WHEN negative>positive AND negative>neutral THEN 1 ELSE 0 END) AS count_negative,\n",
    "sum(CASE WHEN neutral>positive AND neutral>negative THEN 1 ELSE 0 END) AS count_neutral\n",
    "FROM  tabla\n",
    "GROUP BY\n",
    "date,keyword\n",
    "'''\n",
    "\n",
    "Views(database=\"factory\", user='postgres', password='20906540', host='127.0.0.1', port= '5432', sqlQuery = sqlQuery )\n"
   ]
  },
  {
   "cell_type": "markdown",
   "id": "5dcb1f47",
   "metadata": {},
   "source": [
    "# Four Part (Insert without Duplicated)"
   ]
  },
  {
   "cell_type": "code",
   "execution_count": 30,
   "id": "d1774550",
   "metadata": {},
   "outputs": [],
   "source": [
    "def InsertInTable(data, table, database, user, password, host, port):\n",
    "    \n",
    "    engine = create_engine(str('postgresql://postgres:'+password+'@'+host+':'+port+'/'+database))\n",
    "\n",
    "    data = pd.read_csv(\"table_1.csv\")\n",
    "    data.location = data.location.apply(lambda x: str(x).replace(\"'\", \"’\"))\n",
    "    data.text = data.location.apply(lambda x: str(x).replace(\",\", \" \"))\n",
    "\n",
    "    for n in tqdm(range(len(data))):\n",
    "        k1 = list(data.loc[n].fillna(\"NoValue\").index)\n",
    "        k1 = [str(a) for a in k1]\n",
    "        k1 = \", \".join(k1)\n",
    "\n",
    "\n",
    "        k = data.loc[n].fillna(\"NoValue\").to_list()\n",
    "        for i in range(len(k)):\n",
    "            if str(type(k[i])) == \"<class 'str'>\":\n",
    "                k[i] = \"'\" + k[i] + \"'\"\n",
    "        k = [str(a) for a in k]\n",
    "        k = [a.replace(\",\", \"\") for a in k]\n",
    "        k = \", \".join(k)\n",
    "\n",
    "\n",
    "        sql = '''INSERT INTO public.'''+ table +'''('''+k1+ \") VALUES (\"+k+ \") ON CONFLICT DO NOTHING\"\n",
    "        try:\n",
    "            engine.execute(sql)\n",
    "        except:\n",
    "            print(\"Fila \" + str(n) +\" no insertada\")\n",
    "            \n",
    "    engine.dispose()"
   ]
  },
  {
   "cell_type": "code",
   "execution_count": 31,
   "id": "5b0bfa49",
   "metadata": {},
   "outputs": [
    {
     "data": {
      "text/html": [
       "<div>\n",
       "<style scoped>\n",
       "    .dataframe tbody tr th:only-of-type {\n",
       "        vertical-align: middle;\n",
       "    }\n",
       "\n",
       "    .dataframe tbody tr th {\n",
       "        vertical-align: top;\n",
       "    }\n",
       "\n",
       "    .dataframe thead th {\n",
       "        text-align: right;\n",
       "    }\n",
       "</style>\n",
       "<table border=\"1\" class=\"dataframe\">\n",
       "  <thead>\n",
       "    <tr style=\"text-align: right;\">\n",
       "      <th></th>\n",
       "      <th>id</th>\n",
       "      <th>author</th>\n",
       "      <th>subreddit</th>\n",
       "      <th>date</th>\n",
       "      <th>text</th>\n",
       "      <th>source</th>\n",
       "      <th>location</th>\n",
       "      <th>negative</th>\n",
       "      <th>neutral</th>\n",
       "      <th>positive</th>\n",
       "      <th>compound</th>\n",
       "      <th>analysis</th>\n",
       "      <th>keyword</th>\n",
       "    </tr>\n",
       "  </thead>\n",
       "  <tbody>\n",
       "    <tr>\n",
       "      <th>0</th>\n",
       "      <td>6c51302b-2a08-4010-9d9b-88977791a1ea</td>\n",
       "      <td>pennykirk583</td>\n",
       "      <td>NaN</td>\n",
       "      <td>1627572077</td>\n",
       "      <td>is that joe biden</td>\n",
       "      <td>twitter</td>\n",
       "      <td>Seattle, WA</td>\n",
       "      <td>0.000</td>\n",
       "      <td>1.000</td>\n",
       "      <td>0.000</td>\n",
       "      <td>0.0000</td>\n",
       "      <td>neutral</td>\n",
       "      <td>Biden</td>\n",
       "    </tr>\n",
       "    <tr>\n",
       "      <th>1</th>\n",
       "      <td>6c51302b-2a08-4010-9d9b-88977791a1ea</td>\n",
       "      <td>mdbsat</td>\n",
       "      <td>NaN</td>\n",
       "      <td>1627572077</td>\n",
       "      <td>i naively thought once biden won i would stop ...</td>\n",
       "      <td>twitter</td>\n",
       "      <td>San Antonio, TX</td>\n",
       "      <td>0.292</td>\n",
       "      <td>0.417</td>\n",
       "      <td>0.292</td>\n",
       "      <td>0.0000</td>\n",
       "      <td>neutral</td>\n",
       "      <td>Biden</td>\n",
       "    </tr>\n",
       "    <tr>\n",
       "      <th>2</th>\n",
       "      <td>6c51302b-2a08-4010-9d9b-88977791a1ea</td>\n",
       "      <td>davidbr11505741</td>\n",
       "      <td>NaN</td>\n",
       "      <td>1627572077</td>\n",
       "      <td>postal union refuses bidens mandatory vaccinat...</td>\n",
       "      <td>twitter</td>\n",
       "      <td>Georgia, USA</td>\n",
       "      <td>0.000</td>\n",
       "      <td>0.874</td>\n",
       "      <td>0.126</td>\n",
       "      <td>0.0772</td>\n",
       "      <td>positive</td>\n",
       "      <td>Biden</td>\n",
       "    </tr>\n",
       "    <tr>\n",
       "      <th>3</th>\n",
       "      <td>6c51302b-2a08-4010-9d9b-88977791a1ea</td>\n",
       "      <td>ENDOFET3RNITY</td>\n",
       "      <td>NaN</td>\n",
       "      <td>1627572076</td>\n",
       "      <td>joe biden has unfollowed dababy on instagram</td>\n",
       "      <td>twitter</td>\n",
       "      <td>NaN</td>\n",
       "      <td>0.000</td>\n",
       "      <td>1.000</td>\n",
       "      <td>0.000</td>\n",
       "      <td>0.0000</td>\n",
       "      <td>neutral</td>\n",
       "      <td>Biden</td>\n",
       "    </tr>\n",
       "    <tr>\n",
       "      <th>4</th>\n",
       "      <td>6c51302b-2a08-4010-9d9b-88977791a1ea</td>\n",
       "      <td>yanetCornell</td>\n",
       "      <td>NaN</td>\n",
       "      <td>1627572076</td>\n",
       "      <td>barr comes back to help trump dismantle bidenp...</td>\n",
       "      <td>twitter</td>\n",
       "      <td>NaN</td>\n",
       "      <td>0.189</td>\n",
       "      <td>0.651</td>\n",
       "      <td>0.160</td>\n",
       "      <td>-0.1280</td>\n",
       "      <td>negative</td>\n",
       "      <td>Biden</td>\n",
       "    </tr>\n",
       "  </tbody>\n",
       "</table>\n",
       "</div>"
      ],
      "text/plain": [
       "                                     id           author subreddit  \\\n",
       "0  6c51302b-2a08-4010-9d9b-88977791a1ea     pennykirk583       NaN   \n",
       "1  6c51302b-2a08-4010-9d9b-88977791a1ea           mdbsat       NaN   \n",
       "2  6c51302b-2a08-4010-9d9b-88977791a1ea  davidbr11505741       NaN   \n",
       "3  6c51302b-2a08-4010-9d9b-88977791a1ea    ENDOFET3RNITY       NaN   \n",
       "4  6c51302b-2a08-4010-9d9b-88977791a1ea     yanetCornell       NaN   \n",
       "\n",
       "         date                                               text   source  \\\n",
       "0  1627572077                                  is that joe biden  twitter   \n",
       "1  1627572077  i naively thought once biden won i would stop ...  twitter   \n",
       "2  1627572077  postal union refuses bidens mandatory vaccinat...  twitter   \n",
       "3  1627572076      joe biden has unfollowed dababy on instagram   twitter   \n",
       "4  1627572076  barr comes back to help trump dismantle bidenp...  twitter   \n",
       "\n",
       "          location  negative  neutral  positive  compound  analysis keyword  \n",
       "0      Seattle, WA     0.000    1.000     0.000    0.0000   neutral   Biden  \n",
       "1  San Antonio, TX     0.292    0.417     0.292    0.0000   neutral   Biden  \n",
       "2     Georgia, USA     0.000    0.874     0.126    0.0772  positive   Biden  \n",
       "3              NaN     0.000    1.000     0.000    0.0000   neutral   Biden  \n",
       "4              NaN     0.189    0.651     0.160   -0.1280  negative   Biden  "
      ]
     },
     "execution_count": 31,
     "metadata": {},
     "output_type": "execute_result"
    }
   ],
   "source": [
    "data = pd.read_csv(\"table_2.csv\")\n",
    "data.head()"
   ]
  },
  {
   "cell_type": "code",
   "execution_count": 32,
   "id": "793dc9f4",
   "metadata": {},
   "outputs": [
    {
     "name": "stderr",
     "output_type": "stream",
     "text": [
      "100%|█████████████████████████████████████████████████████████████████████████████| 2154/2154 [00:05<00:00, 391.98it/s]\n"
     ]
    }
   ],
   "source": [
    "InsertInTable(data,\"tabla\", database=\"factory\", user='postgres', password='20906540', host='127.0.0.1', port= '5432')"
   ]
  },
  {
   "cell_type": "markdown",
   "id": "b69ce6ac",
   "metadata": {},
   "source": [
    "# fifth part (extract information from views)"
   ]
  },
  {
   "cell_type": "code",
   "execution_count": 33,
   "id": "30852d3c",
   "metadata": {},
   "outputs": [],
   "source": [
    "def ReadView(sqlQuery, database, user, password, host, port):\n",
    "    \n",
    "    engine = create_engine(str('postgresql://postgres:'+password+'@'+host+':'+port+'/'+database))\n",
    "\n",
    "    data = pd.read_sql_query(sqlQuery,con=engine)\n",
    "    engine.dispose()\n",
    "    return(data)"
   ]
  },
  {
   "cell_type": "code",
   "execution_count": 34,
   "id": "116a2753",
   "metadata": {},
   "outputs": [
    {
     "data": {
      "text/html": [
       "<div>\n",
       "<style scoped>\n",
       "    .dataframe tbody tr th:only-of-type {\n",
       "        vertical-align: middle;\n",
       "    }\n",
       "\n",
       "    .dataframe tbody tr th {\n",
       "        vertical-align: top;\n",
       "    }\n",
       "\n",
       "    .dataframe thead th {\n",
       "        text-align: right;\n",
       "    }\n",
       "</style>\n",
       "<table border=\"1\" class=\"dataframe\">\n",
       "  <thead>\n",
       "    <tr style=\"text-align: right;\">\n",
       "      <th></th>\n",
       "      <th>keyword</th>\n",
       "      <th>id</th>\n",
       "      <th>date</th>\n",
       "      <th>avg_positive</th>\n",
       "      <th>avg_neutral</th>\n",
       "      <th>avg_negative</th>\n",
       "    </tr>\n",
       "  </thead>\n",
       "  <tbody>\n",
       "    <tr>\n",
       "      <th>0</th>\n",
       "      <td>Biden</td>\n",
       "      <td>c913dbcc-cda8-4039-b355-ee3334e9b9e5</td>\n",
       "      <td>1.627673e+09</td>\n",
       "      <td>0.000000</td>\n",
       "      <td>1.000000</td>\n",
       "      <td>0.000</td>\n",
       "    </tr>\n",
       "    <tr>\n",
       "      <th>1</th>\n",
       "      <td>Biden</td>\n",
       "      <td>ed39a761-f819-44c6-9eba-b3e1f0be7480</td>\n",
       "      <td>1.627673e+09</td>\n",
       "      <td>0.042000</td>\n",
       "      <td>0.708000</td>\n",
       "      <td>0.250</td>\n",
       "    </tr>\n",
       "    <tr>\n",
       "      <th>2</th>\n",
       "      <td>Biden</td>\n",
       "      <td>04bc808b-5d54-4208-9909-60c547d4805e</td>\n",
       "      <td>1.627653e+09</td>\n",
       "      <td>0.000000</td>\n",
       "      <td>1.000000</td>\n",
       "      <td>0.000</td>\n",
       "    </tr>\n",
       "    <tr>\n",
       "      <th>3</th>\n",
       "      <td>Biden</td>\n",
       "      <td>ac5fd83e-3b22-4f68-b96b-b0589ba50be7</td>\n",
       "      <td>1.627673e+09</td>\n",
       "      <td>0.192333</td>\n",
       "      <td>0.674667</td>\n",
       "      <td>0.133</td>\n",
       "    </tr>\n",
       "    <tr>\n",
       "      <th>4</th>\n",
       "      <td>Biden</td>\n",
       "      <td>ca69e9a9-55ba-4f77-867a-ef80c585d9ec</td>\n",
       "      <td>1.627572e+09</td>\n",
       "      <td>0.055000</td>\n",
       "      <td>0.697000</td>\n",
       "      <td>0.249</td>\n",
       "    </tr>\n",
       "  </tbody>\n",
       "</table>\n",
       "</div>"
      ],
      "text/plain": [
       "  keyword                                    id          date  avg_positive  \\\n",
       "0   Biden  c913dbcc-cda8-4039-b355-ee3334e9b9e5  1.627673e+09      0.000000   \n",
       "1   Biden  ed39a761-f819-44c6-9eba-b3e1f0be7480  1.627673e+09      0.042000   \n",
       "2   Biden  04bc808b-5d54-4208-9909-60c547d4805e  1.627653e+09      0.000000   \n",
       "3   Biden  ac5fd83e-3b22-4f68-b96b-b0589ba50be7  1.627673e+09      0.192333   \n",
       "4   Biden  ca69e9a9-55ba-4f77-867a-ef80c585d9ec  1.627572e+09      0.055000   \n",
       "\n",
       "   avg_neutral  avg_negative  \n",
       "0     1.000000         0.000  \n",
       "1     0.708000         0.250  \n",
       "2     1.000000         0.000  \n",
       "3     0.674667         0.133  \n",
       "4     0.697000         0.249  "
      ]
     },
     "execution_count": 34,
     "metadata": {},
     "output_type": "execute_result"
    }
   ],
   "source": [
    "query = \"SELECT * FROM public.vista1\"\n",
    "view1 = ReadView(sqlQuery = query, database=\"factory\", user='postgres', password='20906540', host='127.0.0.1', port= '5432')\n",
    "view1.head()"
   ]
  },
  {
   "cell_type": "code",
   "execution_count": 35,
   "id": "e6f8a412",
   "metadata": {},
   "outputs": [
    {
     "data": {
      "text/html": [
       "<div>\n",
       "<style scoped>\n",
       "    .dataframe tbody tr th:only-of-type {\n",
       "        vertical-align: middle;\n",
       "    }\n",
       "\n",
       "    .dataframe tbody tr th {\n",
       "        vertical-align: top;\n",
       "    }\n",
       "\n",
       "    .dataframe thead th {\n",
       "        text-align: right;\n",
       "    }\n",
       "</style>\n",
       "<table border=\"1\" class=\"dataframe\">\n",
       "  <thead>\n",
       "    <tr style=\"text-align: right;\">\n",
       "      <th></th>\n",
       "      <th>date</th>\n",
       "      <th>keyword</th>\n",
       "      <th>count_positive</th>\n",
       "      <th>count_negative</th>\n",
       "      <th>count_neutral</th>\n",
       "    </tr>\n",
       "  </thead>\n",
       "  <tbody>\n",
       "    <tr>\n",
       "      <th>0</th>\n",
       "      <td>1.627573e+09</td>\n",
       "      <td>Biden</td>\n",
       "      <td>0</td>\n",
       "      <td>0</td>\n",
       "      <td>2</td>\n",
       "    </tr>\n",
       "    <tr>\n",
       "      <th>1</th>\n",
       "      <td>1.627653e+09</td>\n",
       "      <td>Biden</td>\n",
       "      <td>0</td>\n",
       "      <td>0</td>\n",
       "      <td>4</td>\n",
       "    </tr>\n",
       "    <tr>\n",
       "      <th>2</th>\n",
       "      <td>1.627644e+09</td>\n",
       "      <td>Biden</td>\n",
       "      <td>0</td>\n",
       "      <td>0</td>\n",
       "      <td>2</td>\n",
       "    </tr>\n",
       "    <tr>\n",
       "      <th>3</th>\n",
       "      <td>1.627597e+09</td>\n",
       "      <td>Biden</td>\n",
       "      <td>0</td>\n",
       "      <td>0</td>\n",
       "      <td>8</td>\n",
       "    </tr>\n",
       "    <tr>\n",
       "      <th>4</th>\n",
       "      <td>1.627572e+09</td>\n",
       "      <td>Biden</td>\n",
       "      <td>0</td>\n",
       "      <td>0</td>\n",
       "      <td>2</td>\n",
       "    </tr>\n",
       "  </tbody>\n",
       "</table>\n",
       "</div>"
      ],
      "text/plain": [
       "           date keyword  count_positive  count_negative  count_neutral\n",
       "0  1.627573e+09   Biden               0               0              2\n",
       "1  1.627653e+09   Biden               0               0              4\n",
       "2  1.627644e+09   Biden               0               0              2\n",
       "3  1.627597e+09   Biden               0               0              8\n",
       "4  1.627572e+09   Biden               0               0              2"
      ]
     },
     "execution_count": 35,
     "metadata": {},
     "output_type": "execute_result"
    }
   ],
   "source": [
    "query = \"SELECT * FROM public.vista2\"\n",
    "view2 = ReadView(sqlQuery = query, database=\"factory\", user='postgres', password='20906540', host='127.0.0.1', port= '5432')\n",
    "view2.head()"
   ]
  },
  {
   "cell_type": "markdown",
   "id": "f785b4de",
   "metadata": {},
   "source": [
    "# Sixth part (graphic)"
   ]
  },
  {
   "cell_type": "code",
   "execution_count": 37,
   "id": "a4304667",
   "metadata": {},
   "outputs": [],
   "source": [
    "view1.date = view1.date.apply(lambda x: datetime.fromtimestamp(x))\n",
    "view2.date = view2.date.apply(lambda x: datetime.fromtimestamp(x))"
   ]
  },
  {
   "cell_type": "code",
   "execution_count": 38,
   "id": "f957c146",
   "metadata": {},
   "outputs": [],
   "source": [
    "data = view1[view1[\"date\"]>=\"2021-07-28\"][[\"date\", 'avg_positive', \"avg_neutral\", \"avg_negative\"]]\n",
    "data = data.resample('60min', on='date').mean().reset_index()"
   ]
  },
  {
   "cell_type": "code",
   "execution_count": 39,
   "id": "636a9771",
   "metadata": {},
   "outputs": [
    {
     "data": {
      "text/html": [
       "<div>\n",
       "<style scoped>\n",
       "    .dataframe tbody tr th:only-of-type {\n",
       "        vertical-align: middle;\n",
       "    }\n",
       "\n",
       "    .dataframe tbody tr th {\n",
       "        vertical-align: top;\n",
       "    }\n",
       "\n",
       "    .dataframe thead th {\n",
       "        text-align: right;\n",
       "    }\n",
       "</style>\n",
       "<table border=\"1\" class=\"dataframe\">\n",
       "  <thead>\n",
       "    <tr style=\"text-align: right;\">\n",
       "      <th></th>\n",
       "      <th>date</th>\n",
       "      <th>avg_positive</th>\n",
       "      <th>avg_neutral</th>\n",
       "      <th>avg_negative</th>\n",
       "    </tr>\n",
       "  </thead>\n",
       "  <tbody>\n",
       "    <tr>\n",
       "      <th>0</th>\n",
       "      <td>2021-07-28 23:00:00</td>\n",
       "      <td>0.024636</td>\n",
       "      <td>0.783318</td>\n",
       "      <td>0.192091</td>\n",
       "    </tr>\n",
       "    <tr>\n",
       "      <th>1</th>\n",
       "      <td>2021-07-29 00:00:00</td>\n",
       "      <td>0.070417</td>\n",
       "      <td>0.692583</td>\n",
       "      <td>0.112083</td>\n",
       "    </tr>\n",
       "    <tr>\n",
       "      <th>2</th>\n",
       "      <td>2021-07-29 01:00:00</td>\n",
       "      <td>0.028750</td>\n",
       "      <td>0.815167</td>\n",
       "      <td>0.155917</td>\n",
       "    </tr>\n",
       "    <tr>\n",
       "      <th>3</th>\n",
       "      <td>2021-07-29 02:00:00</td>\n",
       "      <td>0.000000</td>\n",
       "      <td>0.923000</td>\n",
       "      <td>0.077000</td>\n",
       "    </tr>\n",
       "    <tr>\n",
       "      <th>4</th>\n",
       "      <td>2021-07-29 03:00:00</td>\n",
       "      <td>0.029091</td>\n",
       "      <td>0.851591</td>\n",
       "      <td>0.119409</td>\n",
       "    </tr>\n",
       "  </tbody>\n",
       "</table>\n",
       "</div>"
      ],
      "text/plain": [
       "                 date  avg_positive  avg_neutral  avg_negative\n",
       "0 2021-07-28 23:00:00      0.024636     0.783318      0.192091\n",
       "1 2021-07-29 00:00:00      0.070417     0.692583      0.112083\n",
       "2 2021-07-29 01:00:00      0.028750     0.815167      0.155917\n",
       "3 2021-07-29 02:00:00      0.000000     0.923000      0.077000\n",
       "4 2021-07-29 03:00:00      0.029091     0.851591      0.119409"
      ]
     },
     "execution_count": 39,
     "metadata": {},
     "output_type": "execute_result"
    }
   ],
   "source": [
    "data.head()"
   ]
  },
  {
   "cell_type": "code",
   "execution_count": 40,
   "id": "89138a8d",
   "metadata": {},
   "outputs": [
    {
     "data": {
      "application/vnd.plotly.v1+json": {
       "config": {
        "plotlyServerURL": "https://plot.ly"
       },
       "data": [
        {
         "alignmentgroup": "True",
         "hovertemplate": "variable=avg_positive<br>date=%{x}<br>value=%{y}<extra></extra>",
         "legendgroup": "avg_positive",
         "marker": {
          "color": "blue"
         },
         "name": "avg_positive",
         "offsetgroup": "avg_positive",
         "orientation": "v",
         "showlegend": true,
         "textposition": "auto",
         "type": "bar",
         "x": [
          "2021-07-28T23:00:00",
          "2021-07-29T00:00:00",
          "2021-07-29T01:00:00",
          "2021-07-29T02:00:00",
          "2021-07-29T03:00:00",
          "2021-07-29T04:00:00",
          "2021-07-29T05:00:00",
          "2021-07-29T06:00:00",
          "2021-07-29T07:00:00",
          "2021-07-29T08:00:00",
          "2021-07-29T09:00:00",
          "2021-07-29T10:00:00",
          "2021-07-29T11:00:00",
          "2021-07-29T12:00:00",
          "2021-07-29T13:00:00",
          "2021-07-29T14:00:00",
          "2021-07-29T15:00:00",
          "2021-07-29T16:00:00",
          "2021-07-29T17:00:00",
          "2021-07-29T18:00:00",
          "2021-07-29T19:00:00",
          "2021-07-29T20:00:00",
          "2021-07-29T21:00:00",
          "2021-07-29T22:00:00",
          "2021-07-29T23:00:00",
          "2021-07-30T00:00:00",
          "2021-07-30T01:00:00",
          "2021-07-30T02:00:00",
          "2021-07-30T03:00:00",
          "2021-07-30T04:00:00",
          "2021-07-30T05:00:00",
          "2021-07-30T06:00:00",
          "2021-07-30T07:00:00",
          "2021-07-30T08:00:00",
          "2021-07-30T09:00:00",
          "2021-07-30T10:00:00",
          "2021-07-30T11:00:00",
          "2021-07-30T12:00:00",
          "2021-07-30T13:00:00",
          "2021-07-30T14:00:00",
          "2021-07-30T15:00:00",
          "2021-07-30T16:00:00"
         ],
         "xaxis": "x",
         "y": [
          0.024636363636363637,
          0.07041666666666667,
          0.028749999999999998,
          0,
          0.02909090909090909,
          0.0975,
          0,
          0.006136363636363637,
          0.05972727272727273,
          0.07993333333333334,
          0.044,
          0.05725,
          0.08935633036597428,
          0.11097154471544715,
          0.14150000000000001,
          0.059500000000000004,
          0.10086363636363636,
          0.07007142857142858,
          0,
          0.0940739875389408,
          null,
          null,
          0.07828571428571429,
          0.04752941176470588,
          0.05633333333333333,
          0.062090909090909085,
          0.015375,
          0.043,
          0.1775,
          0.022416666666666668,
          0.11107142857142857,
          0.0818,
          0.07241666666666667,
          0.036,
          0.09762407407407407,
          null,
          null,
          0.06485,
          0.09005769230769231,
          0.042666666666666665,
          0.09105188492063492,
          0.10365027322404372
         ],
         "yaxis": "y"
        },
        {
         "alignmentgroup": "True",
         "hovertemplate": "variable=avg_neutral<br>date=%{x}<br>value=%{y}<extra></extra>",
         "legendgroup": "avg_neutral",
         "marker": {
          "color": "gray"
         },
         "name": "avg_neutral",
         "offsetgroup": "avg_neutral",
         "orientation": "v",
         "showlegend": true,
         "textposition": "auto",
         "type": "bar",
         "x": [
          "2021-07-28T23:00:00",
          "2021-07-29T00:00:00",
          "2021-07-29T01:00:00",
          "2021-07-29T02:00:00",
          "2021-07-29T03:00:00",
          "2021-07-29T04:00:00",
          "2021-07-29T05:00:00",
          "2021-07-29T06:00:00",
          "2021-07-29T07:00:00",
          "2021-07-29T08:00:00",
          "2021-07-29T09:00:00",
          "2021-07-29T10:00:00",
          "2021-07-29T11:00:00",
          "2021-07-29T12:00:00",
          "2021-07-29T13:00:00",
          "2021-07-29T14:00:00",
          "2021-07-29T15:00:00",
          "2021-07-29T16:00:00",
          "2021-07-29T17:00:00",
          "2021-07-29T18:00:00",
          "2021-07-29T19:00:00",
          "2021-07-29T20:00:00",
          "2021-07-29T21:00:00",
          "2021-07-29T22:00:00",
          "2021-07-29T23:00:00",
          "2021-07-30T00:00:00",
          "2021-07-30T01:00:00",
          "2021-07-30T02:00:00",
          "2021-07-30T03:00:00",
          "2021-07-30T04:00:00",
          "2021-07-30T05:00:00",
          "2021-07-30T06:00:00",
          "2021-07-30T07:00:00",
          "2021-07-30T08:00:00",
          "2021-07-30T09:00:00",
          "2021-07-30T10:00:00",
          "2021-07-30T11:00:00",
          "2021-07-30T12:00:00",
          "2021-07-30T13:00:00",
          "2021-07-30T14:00:00",
          "2021-07-30T15:00:00",
          "2021-07-30T16:00:00"
         ],
         "xaxis": "x",
         "y": [
          0.7833181818181818,
          0.6925833333333333,
          0.8151666666666667,
          0.923,
          0.8515909090909091,
          0.8459,
          0.9566666666666667,
          0.9675454545454546,
          0.8490000000000001,
          0.8389333333333333,
          0.8998125,
          0.8570499999999999,
          0.7996955984174084,
          0.789049593495935,
          0.8552,
          0.8634375,
          0.805409090909091,
          0.8579761904761904,
          1,
          0.8117489875389408,
          null,
          null,
          0.7804285714285715,
          0.808235294117647,
          0.8781666666666667,
          0.9156363636363636,
          0.919,
          0.86825,
          0.8225,
          0.8802916666666667,
          0.7519285714285715,
          0.8942,
          0.8575833333333334,
          0.8778125,
          0.8014777777777777,
          null,
          null,
          0.8854,
          0.8328461538461538,
          0.87,
          0.8096928571428572,
          0.7917513661202186
         ],
         "yaxis": "y"
        },
        {
         "alignmentgroup": "True",
         "hovertemplate": "variable=avg_negative<br>date=%{x}<br>value=%{y}<extra></extra>",
         "legendgroup": "avg_negative",
         "marker": {
          "color": "red"
         },
         "name": "avg_negative",
         "offsetgroup": "avg_negative",
         "orientation": "v",
         "showlegend": true,
         "textposition": "auto",
         "type": "bar",
         "x": [
          "2021-07-28T23:00:00",
          "2021-07-29T00:00:00",
          "2021-07-29T01:00:00",
          "2021-07-29T02:00:00",
          "2021-07-29T03:00:00",
          "2021-07-29T04:00:00",
          "2021-07-29T05:00:00",
          "2021-07-29T06:00:00",
          "2021-07-29T07:00:00",
          "2021-07-29T08:00:00",
          "2021-07-29T09:00:00",
          "2021-07-29T10:00:00",
          "2021-07-29T11:00:00",
          "2021-07-29T12:00:00",
          "2021-07-29T13:00:00",
          "2021-07-29T14:00:00",
          "2021-07-29T15:00:00",
          "2021-07-29T16:00:00",
          "2021-07-29T17:00:00",
          "2021-07-29T18:00:00",
          "2021-07-29T19:00:00",
          "2021-07-29T20:00:00",
          "2021-07-29T21:00:00",
          "2021-07-29T22:00:00",
          "2021-07-29T23:00:00",
          "2021-07-30T00:00:00",
          "2021-07-30T01:00:00",
          "2021-07-30T02:00:00",
          "2021-07-30T03:00:00",
          "2021-07-30T04:00:00",
          "2021-07-30T05:00:00",
          "2021-07-30T06:00:00",
          "2021-07-30T07:00:00",
          "2021-07-30T08:00:00",
          "2021-07-30T09:00:00",
          "2021-07-30T10:00:00",
          "2021-07-30T11:00:00",
          "2021-07-30T12:00:00",
          "2021-07-30T13:00:00",
          "2021-07-30T14:00:00",
          "2021-07-30T15:00:00",
          "2021-07-30T16:00:00"
         ],
         "xaxis": "x",
         "y": [
          0.1920909090909091,
          0.11208333333333333,
          0.15591666666666668,
          0.077,
          0.11940909090909092,
          0.0566,
          0.043333333333333335,
          0.026272727272727277,
          0.09127272727272727,
          0.0812,
          0.0561875,
          0.08574999999999999,
          0.11094475766567753,
          0.09994837398373985,
          0.0034000000000000002,
          0.0770625,
          0.09381818181818181,
          0.072,
          0,
          0.09416012461059191,
          null,
          null,
          0.1412857142857143,
          0.14423529411764704,
          0.06543333333333333,
          0.022272727272727274,
          0.065625,
          0.08875,
          0,
          0.0975,
          0.13685714285714284,
          0.024,
          0.07,
          0.0861875,
          0.10090061728395062,
          null,
          null,
          0.0497,
          0.07715384615384614,
          0.08733333333333333,
          0.09924613095238095,
          0.1045655737704918
         ],
         "yaxis": "y"
        }
       ],
       "layout": {
        "barmode": "relative",
        "legend": {
         "title": {
          "text": "variable"
         },
         "tracegroupgap": 0
        },
        "margin": {
         "t": 60
        },
        "template": {
         "data": {
          "bar": [
           {
            "error_x": {
             "color": "#2a3f5f"
            },
            "error_y": {
             "color": "#2a3f5f"
            },
            "marker": {
             "line": {
              "color": "#E5ECF6",
              "width": 0.5
             }
            },
            "type": "bar"
           }
          ],
          "barpolar": [
           {
            "marker": {
             "line": {
              "color": "#E5ECF6",
              "width": 0.5
             }
            },
            "type": "barpolar"
           }
          ],
          "carpet": [
           {
            "aaxis": {
             "endlinecolor": "#2a3f5f",
             "gridcolor": "white",
             "linecolor": "white",
             "minorgridcolor": "white",
             "startlinecolor": "#2a3f5f"
            },
            "baxis": {
             "endlinecolor": "#2a3f5f",
             "gridcolor": "white",
             "linecolor": "white",
             "minorgridcolor": "white",
             "startlinecolor": "#2a3f5f"
            },
            "type": "carpet"
           }
          ],
          "choropleth": [
           {
            "colorbar": {
             "outlinewidth": 0,
             "ticks": ""
            },
            "type": "choropleth"
           }
          ],
          "contour": [
           {
            "colorbar": {
             "outlinewidth": 0,
             "ticks": ""
            },
            "colorscale": [
             [
              0,
              "#0d0887"
             ],
             [
              0.1111111111111111,
              "#46039f"
             ],
             [
              0.2222222222222222,
              "#7201a8"
             ],
             [
              0.3333333333333333,
              "#9c179e"
             ],
             [
              0.4444444444444444,
              "#bd3786"
             ],
             [
              0.5555555555555556,
              "#d8576b"
             ],
             [
              0.6666666666666666,
              "#ed7953"
             ],
             [
              0.7777777777777778,
              "#fb9f3a"
             ],
             [
              0.8888888888888888,
              "#fdca26"
             ],
             [
              1,
              "#f0f921"
             ]
            ],
            "type": "contour"
           }
          ],
          "contourcarpet": [
           {
            "colorbar": {
             "outlinewidth": 0,
             "ticks": ""
            },
            "type": "contourcarpet"
           }
          ],
          "heatmap": [
           {
            "colorbar": {
             "outlinewidth": 0,
             "ticks": ""
            },
            "colorscale": [
             [
              0,
              "#0d0887"
             ],
             [
              0.1111111111111111,
              "#46039f"
             ],
             [
              0.2222222222222222,
              "#7201a8"
             ],
             [
              0.3333333333333333,
              "#9c179e"
             ],
             [
              0.4444444444444444,
              "#bd3786"
             ],
             [
              0.5555555555555556,
              "#d8576b"
             ],
             [
              0.6666666666666666,
              "#ed7953"
             ],
             [
              0.7777777777777778,
              "#fb9f3a"
             ],
             [
              0.8888888888888888,
              "#fdca26"
             ],
             [
              1,
              "#f0f921"
             ]
            ],
            "type": "heatmap"
           }
          ],
          "heatmapgl": [
           {
            "colorbar": {
             "outlinewidth": 0,
             "ticks": ""
            },
            "colorscale": [
             [
              0,
              "#0d0887"
             ],
             [
              0.1111111111111111,
              "#46039f"
             ],
             [
              0.2222222222222222,
              "#7201a8"
             ],
             [
              0.3333333333333333,
              "#9c179e"
             ],
             [
              0.4444444444444444,
              "#bd3786"
             ],
             [
              0.5555555555555556,
              "#d8576b"
             ],
             [
              0.6666666666666666,
              "#ed7953"
             ],
             [
              0.7777777777777778,
              "#fb9f3a"
             ],
             [
              0.8888888888888888,
              "#fdca26"
             ],
             [
              1,
              "#f0f921"
             ]
            ],
            "type": "heatmapgl"
           }
          ],
          "histogram": [
           {
            "marker": {
             "colorbar": {
              "outlinewidth": 0,
              "ticks": ""
             }
            },
            "type": "histogram"
           }
          ],
          "histogram2d": [
           {
            "colorbar": {
             "outlinewidth": 0,
             "ticks": ""
            },
            "colorscale": [
             [
              0,
              "#0d0887"
             ],
             [
              0.1111111111111111,
              "#46039f"
             ],
             [
              0.2222222222222222,
              "#7201a8"
             ],
             [
              0.3333333333333333,
              "#9c179e"
             ],
             [
              0.4444444444444444,
              "#bd3786"
             ],
             [
              0.5555555555555556,
              "#d8576b"
             ],
             [
              0.6666666666666666,
              "#ed7953"
             ],
             [
              0.7777777777777778,
              "#fb9f3a"
             ],
             [
              0.8888888888888888,
              "#fdca26"
             ],
             [
              1,
              "#f0f921"
             ]
            ],
            "type": "histogram2d"
           }
          ],
          "histogram2dcontour": [
           {
            "colorbar": {
             "outlinewidth": 0,
             "ticks": ""
            },
            "colorscale": [
             [
              0,
              "#0d0887"
             ],
             [
              0.1111111111111111,
              "#46039f"
             ],
             [
              0.2222222222222222,
              "#7201a8"
             ],
             [
              0.3333333333333333,
              "#9c179e"
             ],
             [
              0.4444444444444444,
              "#bd3786"
             ],
             [
              0.5555555555555556,
              "#d8576b"
             ],
             [
              0.6666666666666666,
              "#ed7953"
             ],
             [
              0.7777777777777778,
              "#fb9f3a"
             ],
             [
              0.8888888888888888,
              "#fdca26"
             ],
             [
              1,
              "#f0f921"
             ]
            ],
            "type": "histogram2dcontour"
           }
          ],
          "mesh3d": [
           {
            "colorbar": {
             "outlinewidth": 0,
             "ticks": ""
            },
            "type": "mesh3d"
           }
          ],
          "parcoords": [
           {
            "line": {
             "colorbar": {
              "outlinewidth": 0,
              "ticks": ""
             }
            },
            "type": "parcoords"
           }
          ],
          "pie": [
           {
            "automargin": true,
            "type": "pie"
           }
          ],
          "scatter": [
           {
            "marker": {
             "colorbar": {
              "outlinewidth": 0,
              "ticks": ""
             }
            },
            "type": "scatter"
           }
          ],
          "scatter3d": [
           {
            "line": {
             "colorbar": {
              "outlinewidth": 0,
              "ticks": ""
             }
            },
            "marker": {
             "colorbar": {
              "outlinewidth": 0,
              "ticks": ""
             }
            },
            "type": "scatter3d"
           }
          ],
          "scattercarpet": [
           {
            "marker": {
             "colorbar": {
              "outlinewidth": 0,
              "ticks": ""
             }
            },
            "type": "scattercarpet"
           }
          ],
          "scattergeo": [
           {
            "marker": {
             "colorbar": {
              "outlinewidth": 0,
              "ticks": ""
             }
            },
            "type": "scattergeo"
           }
          ],
          "scattergl": [
           {
            "marker": {
             "colorbar": {
              "outlinewidth": 0,
              "ticks": ""
             }
            },
            "type": "scattergl"
           }
          ],
          "scattermapbox": [
           {
            "marker": {
             "colorbar": {
              "outlinewidth": 0,
              "ticks": ""
             }
            },
            "type": "scattermapbox"
           }
          ],
          "scatterpolar": [
           {
            "marker": {
             "colorbar": {
              "outlinewidth": 0,
              "ticks": ""
             }
            },
            "type": "scatterpolar"
           }
          ],
          "scatterpolargl": [
           {
            "marker": {
             "colorbar": {
              "outlinewidth": 0,
              "ticks": ""
             }
            },
            "type": "scatterpolargl"
           }
          ],
          "scatterternary": [
           {
            "marker": {
             "colorbar": {
              "outlinewidth": 0,
              "ticks": ""
             }
            },
            "type": "scatterternary"
           }
          ],
          "surface": [
           {
            "colorbar": {
             "outlinewidth": 0,
             "ticks": ""
            },
            "colorscale": [
             [
              0,
              "#0d0887"
             ],
             [
              0.1111111111111111,
              "#46039f"
             ],
             [
              0.2222222222222222,
              "#7201a8"
             ],
             [
              0.3333333333333333,
              "#9c179e"
             ],
             [
              0.4444444444444444,
              "#bd3786"
             ],
             [
              0.5555555555555556,
              "#d8576b"
             ],
             [
              0.6666666666666666,
              "#ed7953"
             ],
             [
              0.7777777777777778,
              "#fb9f3a"
             ],
             [
              0.8888888888888888,
              "#fdca26"
             ],
             [
              1,
              "#f0f921"
             ]
            ],
            "type": "surface"
           }
          ],
          "table": [
           {
            "cells": {
             "fill": {
              "color": "#EBF0F8"
             },
             "line": {
              "color": "white"
             }
            },
            "header": {
             "fill": {
              "color": "#C8D4E3"
             },
             "line": {
              "color": "white"
             }
            },
            "type": "table"
           }
          ]
         },
         "layout": {
          "annotationdefaults": {
           "arrowcolor": "#2a3f5f",
           "arrowhead": 0,
           "arrowwidth": 1
          },
          "autotypenumbers": "strict",
          "coloraxis": {
           "colorbar": {
            "outlinewidth": 0,
            "ticks": ""
           }
          },
          "colorscale": {
           "diverging": [
            [
             0,
             "#8e0152"
            ],
            [
             0.1,
             "#c51b7d"
            ],
            [
             0.2,
             "#de77ae"
            ],
            [
             0.3,
             "#f1b6da"
            ],
            [
             0.4,
             "#fde0ef"
            ],
            [
             0.5,
             "#f7f7f7"
            ],
            [
             0.6,
             "#e6f5d0"
            ],
            [
             0.7,
             "#b8e186"
            ],
            [
             0.8,
             "#7fbc41"
            ],
            [
             0.9,
             "#4d9221"
            ],
            [
             1,
             "#276419"
            ]
           ],
           "sequential": [
            [
             0,
             "#0d0887"
            ],
            [
             0.1111111111111111,
             "#46039f"
            ],
            [
             0.2222222222222222,
             "#7201a8"
            ],
            [
             0.3333333333333333,
             "#9c179e"
            ],
            [
             0.4444444444444444,
             "#bd3786"
            ],
            [
             0.5555555555555556,
             "#d8576b"
            ],
            [
             0.6666666666666666,
             "#ed7953"
            ],
            [
             0.7777777777777778,
             "#fb9f3a"
            ],
            [
             0.8888888888888888,
             "#fdca26"
            ],
            [
             1,
             "#f0f921"
            ]
           ],
           "sequentialminus": [
            [
             0,
             "#0d0887"
            ],
            [
             0.1111111111111111,
             "#46039f"
            ],
            [
             0.2222222222222222,
             "#7201a8"
            ],
            [
             0.3333333333333333,
             "#9c179e"
            ],
            [
             0.4444444444444444,
             "#bd3786"
            ],
            [
             0.5555555555555556,
             "#d8576b"
            ],
            [
             0.6666666666666666,
             "#ed7953"
            ],
            [
             0.7777777777777778,
             "#fb9f3a"
            ],
            [
             0.8888888888888888,
             "#fdca26"
            ],
            [
             1,
             "#f0f921"
            ]
           ]
          },
          "colorway": [
           "#636efa",
           "#EF553B",
           "#00cc96",
           "#ab63fa",
           "#FFA15A",
           "#19d3f3",
           "#FF6692",
           "#B6E880",
           "#FF97FF",
           "#FECB52"
          ],
          "font": {
           "color": "#2a3f5f"
          },
          "geo": {
           "bgcolor": "white",
           "lakecolor": "white",
           "landcolor": "#E5ECF6",
           "showlakes": true,
           "showland": true,
           "subunitcolor": "white"
          },
          "hoverlabel": {
           "align": "left"
          },
          "hovermode": "closest",
          "mapbox": {
           "style": "light"
          },
          "paper_bgcolor": "white",
          "plot_bgcolor": "#E5ECF6",
          "polar": {
           "angularaxis": {
            "gridcolor": "white",
            "linecolor": "white",
            "ticks": ""
           },
           "bgcolor": "#E5ECF6",
           "radialaxis": {
            "gridcolor": "white",
            "linecolor": "white",
            "ticks": ""
           }
          },
          "scene": {
           "xaxis": {
            "backgroundcolor": "#E5ECF6",
            "gridcolor": "white",
            "gridwidth": 2,
            "linecolor": "white",
            "showbackground": true,
            "ticks": "",
            "zerolinecolor": "white"
           },
           "yaxis": {
            "backgroundcolor": "#E5ECF6",
            "gridcolor": "white",
            "gridwidth": 2,
            "linecolor": "white",
            "showbackground": true,
            "ticks": "",
            "zerolinecolor": "white"
           },
           "zaxis": {
            "backgroundcolor": "#E5ECF6",
            "gridcolor": "white",
            "gridwidth": 2,
            "linecolor": "white",
            "showbackground": true,
            "ticks": "",
            "zerolinecolor": "white"
           }
          },
          "shapedefaults": {
           "line": {
            "color": "#2a3f5f"
           }
          },
          "ternary": {
           "aaxis": {
            "gridcolor": "white",
            "linecolor": "white",
            "ticks": ""
           },
           "baxis": {
            "gridcolor": "white",
            "linecolor": "white",
            "ticks": ""
           },
           "bgcolor": "#E5ECF6",
           "caxis": {
            "gridcolor": "white",
            "linecolor": "white",
            "ticks": ""
           }
          },
          "title": {
           "x": 0.05
          },
          "xaxis": {
           "automargin": true,
           "gridcolor": "white",
           "linecolor": "white",
           "ticks": "",
           "title": {
            "standoff": 15
           },
           "zerolinecolor": "white",
           "zerolinewidth": 2
          },
          "yaxis": {
           "automargin": true,
           "gridcolor": "white",
           "linecolor": "white",
           "ticks": "",
           "title": {
            "standoff": 15
           },
           "zerolinecolor": "white",
           "zerolinewidth": 2
          }
         }
        },
        "xaxis": {
         "anchor": "y",
         "domain": [
          0,
          1
         ],
         "title": {
          "text": "date"
         }
        },
        "yaxis": {
         "anchor": "x",
         "domain": [
          0,
          1
         ],
         "title": {
          "text": "value"
         }
        }
       }
      },
      "text/html": [
       "<div>                            <div id=\"1ea0c7df-a066-4942-8a30-ed2b31655791\" class=\"plotly-graph-div\" style=\"height:525px; width:100%;\"></div>            <script type=\"text/javascript\">                require([\"plotly\"], function(Plotly) {                    window.PLOTLYENV=window.PLOTLYENV || {};                                    if (document.getElementById(\"1ea0c7df-a066-4942-8a30-ed2b31655791\")) {                    Plotly.newPlot(                        \"1ea0c7df-a066-4942-8a30-ed2b31655791\",                        [{\"alignmentgroup\": \"True\", \"hovertemplate\": \"variable=avg_positive<br>date=%{x}<br>value=%{y}<extra></extra>\", \"legendgroup\": \"avg_positive\", \"marker\": {\"color\": \"blue\"}, \"name\": \"avg_positive\", \"offsetgroup\": \"avg_positive\", \"orientation\": \"v\", \"showlegend\": true, \"textposition\": \"auto\", \"type\": \"bar\", \"x\": [\"2021-07-28T23:00:00\", \"2021-07-29T00:00:00\", \"2021-07-29T01:00:00\", \"2021-07-29T02:00:00\", \"2021-07-29T03:00:00\", \"2021-07-29T04:00:00\", \"2021-07-29T05:00:00\", \"2021-07-29T06:00:00\", \"2021-07-29T07:00:00\", \"2021-07-29T08:00:00\", \"2021-07-29T09:00:00\", \"2021-07-29T10:00:00\", \"2021-07-29T11:00:00\", \"2021-07-29T12:00:00\", \"2021-07-29T13:00:00\", \"2021-07-29T14:00:00\", \"2021-07-29T15:00:00\", \"2021-07-29T16:00:00\", \"2021-07-29T17:00:00\", \"2021-07-29T18:00:00\", \"2021-07-29T19:00:00\", \"2021-07-29T20:00:00\", \"2021-07-29T21:00:00\", \"2021-07-29T22:00:00\", \"2021-07-29T23:00:00\", \"2021-07-30T00:00:00\", \"2021-07-30T01:00:00\", \"2021-07-30T02:00:00\", \"2021-07-30T03:00:00\", \"2021-07-30T04:00:00\", \"2021-07-30T05:00:00\", \"2021-07-30T06:00:00\", \"2021-07-30T07:00:00\", \"2021-07-30T08:00:00\", \"2021-07-30T09:00:00\", \"2021-07-30T10:00:00\", \"2021-07-30T11:00:00\", \"2021-07-30T12:00:00\", \"2021-07-30T13:00:00\", \"2021-07-30T14:00:00\", \"2021-07-30T15:00:00\", \"2021-07-30T16:00:00\"], \"xaxis\": \"x\", \"y\": [0.024636363636363637, 0.07041666666666667, 0.028749999999999998, 0.0, 0.02909090909090909, 0.0975, 0.0, 0.006136363636363637, 0.05972727272727273, 0.07993333333333334, 0.044, 0.05725, 0.08935633036597428, 0.11097154471544715, 0.14150000000000001, 0.059500000000000004, 0.10086363636363636, 0.07007142857142858, 0.0, 0.0940739875389408, null, null, 0.07828571428571429, 0.04752941176470588, 0.05633333333333333, 0.062090909090909085, 0.015375, 0.043, 0.1775, 0.022416666666666668, 0.11107142857142857, 0.0818, 0.07241666666666667, 0.036, 0.09762407407407407, null, null, 0.06485, 0.09005769230769231, 0.042666666666666665, 0.09105188492063492, 0.10365027322404372], \"yaxis\": \"y\"}, {\"alignmentgroup\": \"True\", \"hovertemplate\": \"variable=avg_neutral<br>date=%{x}<br>value=%{y}<extra></extra>\", \"legendgroup\": \"avg_neutral\", \"marker\": {\"color\": \"gray\"}, \"name\": \"avg_neutral\", \"offsetgroup\": \"avg_neutral\", \"orientation\": \"v\", \"showlegend\": true, \"textposition\": \"auto\", \"type\": \"bar\", \"x\": [\"2021-07-28T23:00:00\", \"2021-07-29T00:00:00\", \"2021-07-29T01:00:00\", \"2021-07-29T02:00:00\", \"2021-07-29T03:00:00\", \"2021-07-29T04:00:00\", \"2021-07-29T05:00:00\", \"2021-07-29T06:00:00\", \"2021-07-29T07:00:00\", \"2021-07-29T08:00:00\", \"2021-07-29T09:00:00\", \"2021-07-29T10:00:00\", \"2021-07-29T11:00:00\", \"2021-07-29T12:00:00\", \"2021-07-29T13:00:00\", \"2021-07-29T14:00:00\", \"2021-07-29T15:00:00\", \"2021-07-29T16:00:00\", \"2021-07-29T17:00:00\", \"2021-07-29T18:00:00\", \"2021-07-29T19:00:00\", \"2021-07-29T20:00:00\", \"2021-07-29T21:00:00\", \"2021-07-29T22:00:00\", \"2021-07-29T23:00:00\", \"2021-07-30T00:00:00\", \"2021-07-30T01:00:00\", \"2021-07-30T02:00:00\", \"2021-07-30T03:00:00\", \"2021-07-30T04:00:00\", \"2021-07-30T05:00:00\", \"2021-07-30T06:00:00\", \"2021-07-30T07:00:00\", \"2021-07-30T08:00:00\", \"2021-07-30T09:00:00\", \"2021-07-30T10:00:00\", \"2021-07-30T11:00:00\", \"2021-07-30T12:00:00\", \"2021-07-30T13:00:00\", \"2021-07-30T14:00:00\", \"2021-07-30T15:00:00\", \"2021-07-30T16:00:00\"], \"xaxis\": \"x\", \"y\": [0.7833181818181818, 0.6925833333333333, 0.8151666666666667, 0.923, 0.8515909090909091, 0.8459, 0.9566666666666667, 0.9675454545454546, 0.8490000000000001, 0.8389333333333333, 0.8998125, 0.8570499999999999, 0.7996955984174084, 0.789049593495935, 0.8552, 0.8634375, 0.805409090909091, 0.8579761904761904, 1.0, 0.8117489875389408, null, null, 0.7804285714285715, 0.808235294117647, 0.8781666666666667, 0.9156363636363636, 0.919, 0.86825, 0.8225, 0.8802916666666667, 0.7519285714285715, 0.8942, 0.8575833333333334, 0.8778125, 0.8014777777777777, null, null, 0.8854, 0.8328461538461538, 0.87, 0.8096928571428572, 0.7917513661202186], \"yaxis\": \"y\"}, {\"alignmentgroup\": \"True\", \"hovertemplate\": \"variable=avg_negative<br>date=%{x}<br>value=%{y}<extra></extra>\", \"legendgroup\": \"avg_negative\", \"marker\": {\"color\": \"red\"}, \"name\": \"avg_negative\", \"offsetgroup\": \"avg_negative\", \"orientation\": \"v\", \"showlegend\": true, \"textposition\": \"auto\", \"type\": \"bar\", \"x\": [\"2021-07-28T23:00:00\", \"2021-07-29T00:00:00\", \"2021-07-29T01:00:00\", \"2021-07-29T02:00:00\", \"2021-07-29T03:00:00\", \"2021-07-29T04:00:00\", \"2021-07-29T05:00:00\", \"2021-07-29T06:00:00\", \"2021-07-29T07:00:00\", \"2021-07-29T08:00:00\", \"2021-07-29T09:00:00\", \"2021-07-29T10:00:00\", \"2021-07-29T11:00:00\", \"2021-07-29T12:00:00\", \"2021-07-29T13:00:00\", \"2021-07-29T14:00:00\", \"2021-07-29T15:00:00\", \"2021-07-29T16:00:00\", \"2021-07-29T17:00:00\", \"2021-07-29T18:00:00\", \"2021-07-29T19:00:00\", \"2021-07-29T20:00:00\", \"2021-07-29T21:00:00\", \"2021-07-29T22:00:00\", \"2021-07-29T23:00:00\", \"2021-07-30T00:00:00\", \"2021-07-30T01:00:00\", \"2021-07-30T02:00:00\", \"2021-07-30T03:00:00\", \"2021-07-30T04:00:00\", \"2021-07-30T05:00:00\", \"2021-07-30T06:00:00\", \"2021-07-30T07:00:00\", \"2021-07-30T08:00:00\", \"2021-07-30T09:00:00\", \"2021-07-30T10:00:00\", \"2021-07-30T11:00:00\", \"2021-07-30T12:00:00\", \"2021-07-30T13:00:00\", \"2021-07-30T14:00:00\", \"2021-07-30T15:00:00\", \"2021-07-30T16:00:00\"], \"xaxis\": \"x\", \"y\": [0.1920909090909091, 0.11208333333333333, 0.15591666666666668, 0.077, 0.11940909090909092, 0.0566, 0.043333333333333335, 0.026272727272727277, 0.09127272727272727, 0.0812, 0.0561875, 0.08574999999999999, 0.11094475766567753, 0.09994837398373985, 0.0034000000000000002, 0.0770625, 0.09381818181818181, 0.072, 0.0, 0.09416012461059191, null, null, 0.1412857142857143, 0.14423529411764704, 0.06543333333333333, 0.022272727272727274, 0.065625, 0.08875, 0.0, 0.0975, 0.13685714285714284, 0.024, 0.07, 0.0861875, 0.10090061728395062, null, null, 0.0497, 0.07715384615384614, 0.08733333333333333, 0.09924613095238095, 0.1045655737704918], \"yaxis\": \"y\"}],                        {\"barmode\": \"relative\", \"legend\": {\"title\": {\"text\": \"variable\"}, \"tracegroupgap\": 0}, \"margin\": {\"t\": 60}, \"template\": {\"data\": {\"bar\": [{\"error_x\": {\"color\": \"#2a3f5f\"}, \"error_y\": {\"color\": \"#2a3f5f\"}, \"marker\": {\"line\": {\"color\": \"#E5ECF6\", \"width\": 0.5}}, \"type\": \"bar\"}], \"barpolar\": [{\"marker\": {\"line\": {\"color\": \"#E5ECF6\", \"width\": 0.5}}, \"type\": \"barpolar\"}], \"carpet\": [{\"aaxis\": {\"endlinecolor\": \"#2a3f5f\", \"gridcolor\": \"white\", \"linecolor\": \"white\", \"minorgridcolor\": \"white\", \"startlinecolor\": \"#2a3f5f\"}, \"baxis\": {\"endlinecolor\": \"#2a3f5f\", \"gridcolor\": \"white\", \"linecolor\": \"white\", \"minorgridcolor\": \"white\", \"startlinecolor\": \"#2a3f5f\"}, \"type\": \"carpet\"}], \"choropleth\": [{\"colorbar\": {\"outlinewidth\": 0, \"ticks\": \"\"}, \"type\": \"choropleth\"}], \"contour\": [{\"colorbar\": {\"outlinewidth\": 0, \"ticks\": \"\"}, \"colorscale\": [[0.0, \"#0d0887\"], [0.1111111111111111, \"#46039f\"], [0.2222222222222222, \"#7201a8\"], [0.3333333333333333, \"#9c179e\"], [0.4444444444444444, \"#bd3786\"], [0.5555555555555556, \"#d8576b\"], [0.6666666666666666, \"#ed7953\"], [0.7777777777777778, \"#fb9f3a\"], [0.8888888888888888, \"#fdca26\"], [1.0, \"#f0f921\"]], \"type\": \"contour\"}], \"contourcarpet\": [{\"colorbar\": {\"outlinewidth\": 0, \"ticks\": \"\"}, \"type\": \"contourcarpet\"}], \"heatmap\": [{\"colorbar\": {\"outlinewidth\": 0, \"ticks\": \"\"}, \"colorscale\": [[0.0, \"#0d0887\"], [0.1111111111111111, \"#46039f\"], [0.2222222222222222, \"#7201a8\"], [0.3333333333333333, \"#9c179e\"], [0.4444444444444444, \"#bd3786\"], [0.5555555555555556, \"#d8576b\"], [0.6666666666666666, \"#ed7953\"], [0.7777777777777778, \"#fb9f3a\"], [0.8888888888888888, \"#fdca26\"], [1.0, \"#f0f921\"]], \"type\": \"heatmap\"}], \"heatmapgl\": [{\"colorbar\": {\"outlinewidth\": 0, \"ticks\": \"\"}, \"colorscale\": [[0.0, \"#0d0887\"], [0.1111111111111111, \"#46039f\"], [0.2222222222222222, \"#7201a8\"], [0.3333333333333333, \"#9c179e\"], [0.4444444444444444, \"#bd3786\"], [0.5555555555555556, \"#d8576b\"], [0.6666666666666666, \"#ed7953\"], [0.7777777777777778, \"#fb9f3a\"], [0.8888888888888888, \"#fdca26\"], [1.0, \"#f0f921\"]], \"type\": \"heatmapgl\"}], \"histogram\": [{\"marker\": {\"colorbar\": {\"outlinewidth\": 0, \"ticks\": \"\"}}, \"type\": \"histogram\"}], \"histogram2d\": [{\"colorbar\": {\"outlinewidth\": 0, \"ticks\": \"\"}, \"colorscale\": [[0.0, \"#0d0887\"], [0.1111111111111111, \"#46039f\"], [0.2222222222222222, \"#7201a8\"], [0.3333333333333333, \"#9c179e\"], [0.4444444444444444, \"#bd3786\"], [0.5555555555555556, \"#d8576b\"], [0.6666666666666666, \"#ed7953\"], [0.7777777777777778, \"#fb9f3a\"], [0.8888888888888888, \"#fdca26\"], [1.0, \"#f0f921\"]], \"type\": \"histogram2d\"}], \"histogram2dcontour\": [{\"colorbar\": {\"outlinewidth\": 0, \"ticks\": \"\"}, \"colorscale\": [[0.0, \"#0d0887\"], [0.1111111111111111, \"#46039f\"], [0.2222222222222222, \"#7201a8\"], [0.3333333333333333, \"#9c179e\"], [0.4444444444444444, \"#bd3786\"], [0.5555555555555556, \"#d8576b\"], [0.6666666666666666, \"#ed7953\"], [0.7777777777777778, \"#fb9f3a\"], [0.8888888888888888, \"#fdca26\"], [1.0, \"#f0f921\"]], \"type\": \"histogram2dcontour\"}], \"mesh3d\": [{\"colorbar\": {\"outlinewidth\": 0, \"ticks\": \"\"}, \"type\": \"mesh3d\"}], \"parcoords\": [{\"line\": {\"colorbar\": {\"outlinewidth\": 0, \"ticks\": \"\"}}, \"type\": \"parcoords\"}], \"pie\": [{\"automargin\": true, \"type\": \"pie\"}], \"scatter\": [{\"marker\": {\"colorbar\": {\"outlinewidth\": 0, \"ticks\": \"\"}}, \"type\": \"scatter\"}], \"scatter3d\": [{\"line\": {\"colorbar\": {\"outlinewidth\": 0, \"ticks\": \"\"}}, \"marker\": {\"colorbar\": {\"outlinewidth\": 0, \"ticks\": \"\"}}, \"type\": \"scatter3d\"}], \"scattercarpet\": [{\"marker\": {\"colorbar\": {\"outlinewidth\": 0, \"ticks\": \"\"}}, \"type\": \"scattercarpet\"}], \"scattergeo\": [{\"marker\": {\"colorbar\": {\"outlinewidth\": 0, \"ticks\": \"\"}}, \"type\": \"scattergeo\"}], \"scattergl\": [{\"marker\": {\"colorbar\": {\"outlinewidth\": 0, \"ticks\": \"\"}}, \"type\": \"scattergl\"}], \"scattermapbox\": [{\"marker\": {\"colorbar\": {\"outlinewidth\": 0, \"ticks\": \"\"}}, \"type\": \"scattermapbox\"}], \"scatterpolar\": [{\"marker\": {\"colorbar\": {\"outlinewidth\": 0, \"ticks\": \"\"}}, \"type\": \"scatterpolar\"}], \"scatterpolargl\": [{\"marker\": {\"colorbar\": {\"outlinewidth\": 0, \"ticks\": \"\"}}, \"type\": \"scatterpolargl\"}], \"scatterternary\": [{\"marker\": {\"colorbar\": {\"outlinewidth\": 0, \"ticks\": \"\"}}, \"type\": \"scatterternary\"}], \"surface\": [{\"colorbar\": {\"outlinewidth\": 0, \"ticks\": \"\"}, \"colorscale\": [[0.0, \"#0d0887\"], [0.1111111111111111, \"#46039f\"], [0.2222222222222222, \"#7201a8\"], [0.3333333333333333, \"#9c179e\"], [0.4444444444444444, \"#bd3786\"], [0.5555555555555556, \"#d8576b\"], [0.6666666666666666, \"#ed7953\"], [0.7777777777777778, \"#fb9f3a\"], [0.8888888888888888, \"#fdca26\"], [1.0, \"#f0f921\"]], \"type\": \"surface\"}], \"table\": [{\"cells\": {\"fill\": {\"color\": \"#EBF0F8\"}, \"line\": {\"color\": \"white\"}}, \"header\": {\"fill\": {\"color\": \"#C8D4E3\"}, \"line\": {\"color\": \"white\"}}, \"type\": \"table\"}]}, \"layout\": {\"annotationdefaults\": {\"arrowcolor\": \"#2a3f5f\", \"arrowhead\": 0, \"arrowwidth\": 1}, \"autotypenumbers\": \"strict\", \"coloraxis\": {\"colorbar\": {\"outlinewidth\": 0, \"ticks\": \"\"}}, \"colorscale\": {\"diverging\": [[0, \"#8e0152\"], [0.1, \"#c51b7d\"], [0.2, \"#de77ae\"], [0.3, \"#f1b6da\"], [0.4, \"#fde0ef\"], [0.5, \"#f7f7f7\"], [0.6, \"#e6f5d0\"], [0.7, \"#b8e186\"], [0.8, \"#7fbc41\"], [0.9, \"#4d9221\"], [1, \"#276419\"]], \"sequential\": [[0.0, \"#0d0887\"], [0.1111111111111111, \"#46039f\"], [0.2222222222222222, \"#7201a8\"], [0.3333333333333333, \"#9c179e\"], [0.4444444444444444, \"#bd3786\"], [0.5555555555555556, \"#d8576b\"], [0.6666666666666666, \"#ed7953\"], [0.7777777777777778, \"#fb9f3a\"], [0.8888888888888888, \"#fdca26\"], [1.0, \"#f0f921\"]], \"sequentialminus\": [[0.0, \"#0d0887\"], [0.1111111111111111, \"#46039f\"], [0.2222222222222222, \"#7201a8\"], [0.3333333333333333, \"#9c179e\"], [0.4444444444444444, \"#bd3786\"], [0.5555555555555556, \"#d8576b\"], [0.6666666666666666, \"#ed7953\"], [0.7777777777777778, \"#fb9f3a\"], [0.8888888888888888, \"#fdca26\"], [1.0, \"#f0f921\"]]}, \"colorway\": [\"#636efa\", \"#EF553B\", \"#00cc96\", \"#ab63fa\", \"#FFA15A\", \"#19d3f3\", \"#FF6692\", \"#B6E880\", \"#FF97FF\", \"#FECB52\"], \"font\": {\"color\": \"#2a3f5f\"}, \"geo\": {\"bgcolor\": \"white\", \"lakecolor\": \"white\", \"landcolor\": \"#E5ECF6\", \"showlakes\": true, \"showland\": true, \"subunitcolor\": \"white\"}, \"hoverlabel\": {\"align\": \"left\"}, \"hovermode\": \"closest\", \"mapbox\": {\"style\": \"light\"}, \"paper_bgcolor\": \"white\", \"plot_bgcolor\": \"#E5ECF6\", \"polar\": {\"angularaxis\": {\"gridcolor\": \"white\", \"linecolor\": \"white\", \"ticks\": \"\"}, \"bgcolor\": \"#E5ECF6\", \"radialaxis\": {\"gridcolor\": \"white\", \"linecolor\": \"white\", \"ticks\": \"\"}}, \"scene\": {\"xaxis\": {\"backgroundcolor\": \"#E5ECF6\", \"gridcolor\": \"white\", \"gridwidth\": 2, \"linecolor\": \"white\", \"showbackground\": true, \"ticks\": \"\", \"zerolinecolor\": \"white\"}, \"yaxis\": {\"backgroundcolor\": \"#E5ECF6\", \"gridcolor\": \"white\", \"gridwidth\": 2, \"linecolor\": \"white\", \"showbackground\": true, \"ticks\": \"\", \"zerolinecolor\": \"white\"}, \"zaxis\": {\"backgroundcolor\": \"#E5ECF6\", \"gridcolor\": \"white\", \"gridwidth\": 2, \"linecolor\": \"white\", \"showbackground\": true, \"ticks\": \"\", \"zerolinecolor\": \"white\"}}, \"shapedefaults\": {\"line\": {\"color\": \"#2a3f5f\"}}, \"ternary\": {\"aaxis\": {\"gridcolor\": \"white\", \"linecolor\": \"white\", \"ticks\": \"\"}, \"baxis\": {\"gridcolor\": \"white\", \"linecolor\": \"white\", \"ticks\": \"\"}, \"bgcolor\": \"#E5ECF6\", \"caxis\": {\"gridcolor\": \"white\", \"linecolor\": \"white\", \"ticks\": \"\"}}, \"title\": {\"x\": 0.05}, \"xaxis\": {\"automargin\": true, \"gridcolor\": \"white\", \"linecolor\": \"white\", \"ticks\": \"\", \"title\": {\"standoff\": 15}, \"zerolinecolor\": \"white\", \"zerolinewidth\": 2}, \"yaxis\": {\"automargin\": true, \"gridcolor\": \"white\", \"linecolor\": \"white\", \"ticks\": \"\", \"title\": {\"standoff\": 15}, \"zerolinecolor\": \"white\", \"zerolinewidth\": 2}}}, \"xaxis\": {\"anchor\": \"y\", \"domain\": [0.0, 1.0], \"title\": {\"text\": \"date\"}}, \"yaxis\": {\"anchor\": \"x\", \"domain\": [0.0, 1.0], \"title\": {\"text\": \"value\"}}},                        {\"responsive\": true}                    ).then(function(){\n",
       "                            \n",
       "var gd = document.getElementById('1ea0c7df-a066-4942-8a30-ed2b31655791');\n",
       "var x = new MutationObserver(function (mutations, observer) {{\n",
       "        var display = window.getComputedStyle(gd).display;\n",
       "        if (!display || display === 'none') {{\n",
       "            console.log([gd, 'removed!']);\n",
       "            Plotly.purge(gd);\n",
       "            observer.disconnect();\n",
       "        }}\n",
       "}});\n",
       "\n",
       "// Listen for the removal of the full notebook cells\n",
       "var notebookContainer = gd.closest('#notebook-container');\n",
       "if (notebookContainer) {{\n",
       "    x.observe(notebookContainer, {childList: true});\n",
       "}}\n",
       "\n",
       "// Listen for the clearing of the current output cell\n",
       "var outputEl = gd.closest('.output');\n",
       "if (outputEl) {{\n",
       "    x.observe(outputEl, {childList: true});\n",
       "}}\n",
       "\n",
       "                        })                };                });            </script>        </div>"
      ]
     },
     "metadata": {},
     "output_type": "display_data"
    }
   ],
   "source": [
    "import plotly.express as px\n",
    "fig = px.bar(data, x='date', y=[\"avg_positive\", \"avg_neutral\",\"avg_negative\"],color_discrete_sequence = [\"blue\",\"gray\",\"red\"])\n",
    "fig.show()"
   ]
  },
  {
   "cell_type": "markdown",
   "id": "fcf1b084",
   "metadata": {},
   "source": [
    "# Count with neutral"
   ]
  },
  {
   "cell_type": "code",
   "execution_count": 49,
   "id": "d85a2d81",
   "metadata": {
    "scrolled": true
   },
   "outputs": [
    {
     "data": {
      "text/html": [
       "<div>\n",
       "<style scoped>\n",
       "    .dataframe tbody tr th:only-of-type {\n",
       "        vertical-align: middle;\n",
       "    }\n",
       "\n",
       "    .dataframe tbody tr th {\n",
       "        vertical-align: top;\n",
       "    }\n",
       "\n",
       "    .dataframe thead th {\n",
       "        text-align: right;\n",
       "    }\n",
       "</style>\n",
       "<table border=\"1\" class=\"dataframe\">\n",
       "  <thead>\n",
       "    <tr style=\"text-align: right;\">\n",
       "      <th></th>\n",
       "      <th>count_positive</th>\n",
       "      <th>count_neutral</th>\n",
       "      <th>count_negative</th>\n",
       "    </tr>\n",
       "    <tr>\n",
       "      <th>date</th>\n",
       "      <th></th>\n",
       "      <th></th>\n",
       "      <th></th>\n",
       "    </tr>\n",
       "  </thead>\n",
       "  <tbody>\n",
       "    <tr>\n",
       "      <th>2021-07-28 23:00:00</th>\n",
       "      <td>0</td>\n",
       "      <td>24</td>\n",
       "      <td>2</td>\n",
       "    </tr>\n",
       "    <tr>\n",
       "      <th>2021-07-29 00:00:00</th>\n",
       "      <td>0</td>\n",
       "      <td>20</td>\n",
       "      <td>2</td>\n",
       "    </tr>\n",
       "    <tr>\n",
       "      <th>2021-07-29 01:00:00</th>\n",
       "      <td>0</td>\n",
       "      <td>16</td>\n",
       "      <td>0</td>\n",
       "    </tr>\n",
       "    <tr>\n",
       "      <th>2021-07-29 02:00:00</th>\n",
       "      <td>0</td>\n",
       "      <td>6</td>\n",
       "      <td>0</td>\n",
       "    </tr>\n",
       "    <tr>\n",
       "      <th>2021-07-29 03:00:00</th>\n",
       "      <td>0</td>\n",
       "      <td>28</td>\n",
       "      <td>0</td>\n",
       "    </tr>\n",
       "    <tr>\n",
       "      <th>2021-07-29 04:00:00</th>\n",
       "      <td>2</td>\n",
       "      <td>14</td>\n",
       "      <td>0</td>\n",
       "    </tr>\n",
       "    <tr>\n",
       "      <th>2021-07-29 05:00:00</th>\n",
       "      <td>0</td>\n",
       "      <td>6</td>\n",
       "      <td>0</td>\n",
       "    </tr>\n",
       "    <tr>\n",
       "      <th>2021-07-29 06:00:00</th>\n",
       "      <td>0</td>\n",
       "      <td>26</td>\n",
       "      <td>0</td>\n",
       "    </tr>\n",
       "    <tr>\n",
       "      <th>2021-07-29 07:00:00</th>\n",
       "      <td>2</td>\n",
       "      <td>20</td>\n",
       "      <td>0</td>\n",
       "    </tr>\n",
       "    <tr>\n",
       "      <th>2021-07-29 08:00:00</th>\n",
       "      <td>0</td>\n",
       "      <td>30</td>\n",
       "      <td>0</td>\n",
       "    </tr>\n",
       "    <tr>\n",
       "      <th>2021-07-29 09:00:00</th>\n",
       "      <td>0</td>\n",
       "      <td>32</td>\n",
       "      <td>0</td>\n",
       "    </tr>\n",
       "    <tr>\n",
       "      <th>2021-07-29 10:00:00</th>\n",
       "      <td>2</td>\n",
       "      <td>38</td>\n",
       "      <td>0</td>\n",
       "    </tr>\n",
       "    <tr>\n",
       "      <th>2021-07-29 11:00:00</th>\n",
       "      <td>8</td>\n",
       "      <td>1134</td>\n",
       "      <td>12</td>\n",
       "    </tr>\n",
       "    <tr>\n",
       "      <th>2021-07-29 12:00:00</th>\n",
       "      <td>2</td>\n",
       "      <td>240</td>\n",
       "      <td>4</td>\n",
       "    </tr>\n",
       "    <tr>\n",
       "      <th>2021-07-29 13:00:00</th>\n",
       "      <td>0</td>\n",
       "      <td>12</td>\n",
       "      <td>0</td>\n",
       "    </tr>\n",
       "    <tr>\n",
       "      <th>2021-07-29 14:00:00</th>\n",
       "      <td>0</td>\n",
       "      <td>18</td>\n",
       "      <td>0</td>\n",
       "    </tr>\n",
       "    <tr>\n",
       "      <th>2021-07-29 15:00:00</th>\n",
       "      <td>0</td>\n",
       "      <td>26</td>\n",
       "      <td>0</td>\n",
       "    </tr>\n",
       "    <tr>\n",
       "      <th>2021-07-29 16:00:00</th>\n",
       "      <td>0</td>\n",
       "      <td>46</td>\n",
       "      <td>2</td>\n",
       "    </tr>\n",
       "    <tr>\n",
       "      <th>2021-07-29 17:00:00</th>\n",
       "      <td>0</td>\n",
       "      <td>2</td>\n",
       "      <td>0</td>\n",
       "    </tr>\n",
       "    <tr>\n",
       "      <th>2021-07-29 18:00:00</th>\n",
       "      <td>6</td>\n",
       "      <td>790</td>\n",
       "      <td>4</td>\n",
       "    </tr>\n",
       "    <tr>\n",
       "      <th>2021-07-29 19:00:00</th>\n",
       "      <td>0</td>\n",
       "      <td>0</td>\n",
       "      <td>0</td>\n",
       "    </tr>\n",
       "    <tr>\n",
       "      <th>2021-07-29 20:00:00</th>\n",
       "      <td>0</td>\n",
       "      <td>0</td>\n",
       "      <td>0</td>\n",
       "    </tr>\n",
       "    <tr>\n",
       "      <th>2021-07-29 21:00:00</th>\n",
       "      <td>0</td>\n",
       "      <td>14</td>\n",
       "      <td>0</td>\n",
       "    </tr>\n",
       "    <tr>\n",
       "      <th>2021-07-29 22:00:00</th>\n",
       "      <td>0</td>\n",
       "      <td>36</td>\n",
       "      <td>0</td>\n",
       "    </tr>\n",
       "    <tr>\n",
       "      <th>2021-07-29 23:00:00</th>\n",
       "      <td>0</td>\n",
       "      <td>36</td>\n",
       "      <td>0</td>\n",
       "    </tr>\n",
       "    <tr>\n",
       "      <th>2021-07-30 00:00:00</th>\n",
       "      <td>0</td>\n",
       "      <td>22</td>\n",
       "      <td>0</td>\n",
       "    </tr>\n",
       "    <tr>\n",
       "      <th>2021-07-30 01:00:00</th>\n",
       "      <td>0</td>\n",
       "      <td>16</td>\n",
       "      <td>0</td>\n",
       "    </tr>\n",
       "    <tr>\n",
       "      <th>2021-07-30 02:00:00</th>\n",
       "      <td>0</td>\n",
       "      <td>8</td>\n",
       "      <td>0</td>\n",
       "    </tr>\n",
       "    <tr>\n",
       "      <th>2021-07-30 03:00:00</th>\n",
       "      <td>0</td>\n",
       "      <td>4</td>\n",
       "      <td>0</td>\n",
       "    </tr>\n",
       "    <tr>\n",
       "      <th>2021-07-30 04:00:00</th>\n",
       "      <td>0</td>\n",
       "      <td>9</td>\n",
       "      <td>2</td>\n",
       "    </tr>\n",
       "    <tr>\n",
       "      <th>2021-07-30 05:00:00</th>\n",
       "      <td>0</td>\n",
       "      <td>12</td>\n",
       "      <td>2</td>\n",
       "    </tr>\n",
       "    <tr>\n",
       "      <th>2021-07-30 06:00:00</th>\n",
       "      <td>0</td>\n",
       "      <td>12</td>\n",
       "      <td>0</td>\n",
       "    </tr>\n",
       "    <tr>\n",
       "      <th>2021-07-30 07:00:00</th>\n",
       "      <td>0</td>\n",
       "      <td>26</td>\n",
       "      <td>0</td>\n",
       "    </tr>\n",
       "    <tr>\n",
       "      <th>2021-07-30 08:00:00</th>\n",
       "      <td>0</td>\n",
       "      <td>18</td>\n",
       "      <td>0</td>\n",
       "    </tr>\n",
       "    <tr>\n",
       "      <th>2021-07-30 09:00:00</th>\n",
       "      <td>2</td>\n",
       "      <td>422</td>\n",
       "      <td>4</td>\n",
       "    </tr>\n",
       "    <tr>\n",
       "      <th>2021-07-30 10:00:00</th>\n",
       "      <td>0</td>\n",
       "      <td>0</td>\n",
       "      <td>0</td>\n",
       "    </tr>\n",
       "    <tr>\n",
       "      <th>2021-07-30 11:00:00</th>\n",
       "      <td>0</td>\n",
       "      <td>0</td>\n",
       "      <td>0</td>\n",
       "    </tr>\n",
       "    <tr>\n",
       "      <th>2021-07-30 12:00:00</th>\n",
       "      <td>0</td>\n",
       "      <td>22</td>\n",
       "      <td>0</td>\n",
       "    </tr>\n",
       "    <tr>\n",
       "      <th>2021-07-30 13:00:00</th>\n",
       "      <td>0</td>\n",
       "      <td>54</td>\n",
       "      <td>0</td>\n",
       "    </tr>\n",
       "    <tr>\n",
       "      <th>2021-07-30 14:00:00</th>\n",
       "      <td>0</td>\n",
       "      <td>12</td>\n",
       "      <td>0</td>\n",
       "    </tr>\n",
       "    <tr>\n",
       "      <th>2021-07-30 15:00:00</th>\n",
       "      <td>4</td>\n",
       "      <td>576</td>\n",
       "      <td>12</td>\n",
       "    </tr>\n",
       "    <tr>\n",
       "      <th>2021-07-30 16:00:00</th>\n",
       "      <td>0</td>\n",
       "      <td>188</td>\n",
       "      <td>4</td>\n",
       "    </tr>\n",
       "  </tbody>\n",
       "</table>\n",
       "</div>"
      ],
      "text/plain": [
       "                     count_positive  count_neutral  count_negative\n",
       "date                                                              \n",
       "2021-07-28 23:00:00               0             24               2\n",
       "2021-07-29 00:00:00               0             20               2\n",
       "2021-07-29 01:00:00               0             16               0\n",
       "2021-07-29 02:00:00               0              6               0\n",
       "2021-07-29 03:00:00               0             28               0\n",
       "2021-07-29 04:00:00               2             14               0\n",
       "2021-07-29 05:00:00               0              6               0\n",
       "2021-07-29 06:00:00               0             26               0\n",
       "2021-07-29 07:00:00               2             20               0\n",
       "2021-07-29 08:00:00               0             30               0\n",
       "2021-07-29 09:00:00               0             32               0\n",
       "2021-07-29 10:00:00               2             38               0\n",
       "2021-07-29 11:00:00               8           1134              12\n",
       "2021-07-29 12:00:00               2            240               4\n",
       "2021-07-29 13:00:00               0             12               0\n",
       "2021-07-29 14:00:00               0             18               0\n",
       "2021-07-29 15:00:00               0             26               0\n",
       "2021-07-29 16:00:00               0             46               2\n",
       "2021-07-29 17:00:00               0              2               0\n",
       "2021-07-29 18:00:00               6            790               4\n",
       "2021-07-29 19:00:00               0              0               0\n",
       "2021-07-29 20:00:00               0              0               0\n",
       "2021-07-29 21:00:00               0             14               0\n",
       "2021-07-29 22:00:00               0             36               0\n",
       "2021-07-29 23:00:00               0             36               0\n",
       "2021-07-30 00:00:00               0             22               0\n",
       "2021-07-30 01:00:00               0             16               0\n",
       "2021-07-30 02:00:00               0              8               0\n",
       "2021-07-30 03:00:00               0              4               0\n",
       "2021-07-30 04:00:00               0              9               2\n",
       "2021-07-30 05:00:00               0             12               2\n",
       "2021-07-30 06:00:00               0             12               0\n",
       "2021-07-30 07:00:00               0             26               0\n",
       "2021-07-30 08:00:00               0             18               0\n",
       "2021-07-30 09:00:00               2            422               4\n",
       "2021-07-30 10:00:00               0              0               0\n",
       "2021-07-30 11:00:00               0              0               0\n",
       "2021-07-30 12:00:00               0             22               0\n",
       "2021-07-30 13:00:00               0             54               0\n",
       "2021-07-30 14:00:00               0             12               0\n",
       "2021-07-30 15:00:00               4            576              12\n",
       "2021-07-30 16:00:00               0            188               4"
      ]
     },
     "execution_count": 49,
     "metadata": {},
     "output_type": "execute_result"
    }
   ],
   "source": [
    "data = view2[view2[\"date\"]>=\"2021-07-28\"][[\"date\", 'count_positive', \"count_neutral\", \"count_negative\"]]\n",
    "#data = data.resample('60min', on='date').count().reset_index()\n",
    "#data['date'] = pd.to_datetime(df1['TIME'])\n",
    "df = data.resample('60min', on='date').sum()\n",
    "df"
   ]
  },
  {
   "cell_type": "code",
   "execution_count": 52,
   "id": "184e9519",
   "metadata": {},
   "outputs": [
    {
     "data": {
      "application/vnd.plotly.v1+json": {
       "config": {
        "plotlyServerURL": "https://plot.ly"
       },
       "data": [
        {
         "hovertemplate": "variable=count_positive<br>date=%{x}<br>value=%{y}<extra></extra>",
         "legendgroup": "count_positive",
         "line": {
          "color": "#636efa",
          "dash": "solid"
         },
         "mode": "lines",
         "name": "count_positive",
         "orientation": "v",
         "showlegend": true,
         "type": "scatter",
         "x": [
          "2021-07-28T23:00:00",
          "2021-07-29T00:00:00",
          "2021-07-29T01:00:00",
          "2021-07-29T02:00:00",
          "2021-07-29T03:00:00",
          "2021-07-29T04:00:00",
          "2021-07-29T05:00:00",
          "2021-07-29T06:00:00",
          "2021-07-29T07:00:00",
          "2021-07-29T08:00:00",
          "2021-07-29T09:00:00",
          "2021-07-29T10:00:00",
          "2021-07-29T11:00:00",
          "2021-07-29T12:00:00",
          "2021-07-29T13:00:00",
          "2021-07-29T14:00:00",
          "2021-07-29T15:00:00",
          "2021-07-29T16:00:00",
          "2021-07-29T17:00:00",
          "2021-07-29T18:00:00",
          "2021-07-29T19:00:00",
          "2021-07-29T20:00:00",
          "2021-07-29T21:00:00",
          "2021-07-29T22:00:00",
          "2021-07-29T23:00:00",
          "2021-07-30T00:00:00",
          "2021-07-30T01:00:00",
          "2021-07-30T02:00:00",
          "2021-07-30T03:00:00",
          "2021-07-30T04:00:00",
          "2021-07-30T05:00:00",
          "2021-07-30T06:00:00",
          "2021-07-30T07:00:00",
          "2021-07-30T08:00:00",
          "2021-07-30T09:00:00",
          "2021-07-30T10:00:00",
          "2021-07-30T11:00:00",
          "2021-07-30T12:00:00",
          "2021-07-30T13:00:00",
          "2021-07-30T14:00:00",
          "2021-07-30T15:00:00",
          "2021-07-30T16:00:00"
         ],
         "xaxis": "x",
         "y": [
          0,
          0,
          0,
          0,
          0,
          2,
          0,
          0,
          2,
          0,
          0,
          2,
          8,
          2,
          0,
          0,
          0,
          0,
          0,
          6,
          0,
          0,
          0,
          0,
          0,
          0,
          0,
          0,
          0,
          0,
          0,
          0,
          0,
          0,
          2,
          0,
          0,
          0,
          0,
          0,
          4,
          0
         ],
         "yaxis": "y"
        },
        {
         "hovertemplate": "variable=count_neutral<br>date=%{x}<br>value=%{y}<extra></extra>",
         "legendgroup": "count_neutral",
         "line": {
          "color": "#EF553B",
          "dash": "solid"
         },
         "mode": "lines",
         "name": "count_neutral",
         "orientation": "v",
         "showlegend": true,
         "type": "scatter",
         "x": [
          "2021-07-28T23:00:00",
          "2021-07-29T00:00:00",
          "2021-07-29T01:00:00",
          "2021-07-29T02:00:00",
          "2021-07-29T03:00:00",
          "2021-07-29T04:00:00",
          "2021-07-29T05:00:00",
          "2021-07-29T06:00:00",
          "2021-07-29T07:00:00",
          "2021-07-29T08:00:00",
          "2021-07-29T09:00:00",
          "2021-07-29T10:00:00",
          "2021-07-29T11:00:00",
          "2021-07-29T12:00:00",
          "2021-07-29T13:00:00",
          "2021-07-29T14:00:00",
          "2021-07-29T15:00:00",
          "2021-07-29T16:00:00",
          "2021-07-29T17:00:00",
          "2021-07-29T18:00:00",
          "2021-07-29T19:00:00",
          "2021-07-29T20:00:00",
          "2021-07-29T21:00:00",
          "2021-07-29T22:00:00",
          "2021-07-29T23:00:00",
          "2021-07-30T00:00:00",
          "2021-07-30T01:00:00",
          "2021-07-30T02:00:00",
          "2021-07-30T03:00:00",
          "2021-07-30T04:00:00",
          "2021-07-30T05:00:00",
          "2021-07-30T06:00:00",
          "2021-07-30T07:00:00",
          "2021-07-30T08:00:00",
          "2021-07-30T09:00:00",
          "2021-07-30T10:00:00",
          "2021-07-30T11:00:00",
          "2021-07-30T12:00:00",
          "2021-07-30T13:00:00",
          "2021-07-30T14:00:00",
          "2021-07-30T15:00:00",
          "2021-07-30T16:00:00"
         ],
         "xaxis": "x",
         "y": [
          24,
          20,
          16,
          6,
          28,
          14,
          6,
          26,
          20,
          30,
          32,
          38,
          1134,
          240,
          12,
          18,
          26,
          46,
          2,
          790,
          0,
          0,
          14,
          36,
          36,
          22,
          16,
          8,
          4,
          9,
          12,
          12,
          26,
          18,
          422,
          0,
          0,
          22,
          54,
          12,
          576,
          188
         ],
         "yaxis": "y"
        },
        {
         "hovertemplate": "variable=count_negative<br>date=%{x}<br>value=%{y}<extra></extra>",
         "legendgroup": "count_negative",
         "line": {
          "color": "#00cc96",
          "dash": "solid"
         },
         "mode": "lines",
         "name": "count_negative",
         "orientation": "v",
         "showlegend": true,
         "type": "scatter",
         "x": [
          "2021-07-28T23:00:00",
          "2021-07-29T00:00:00",
          "2021-07-29T01:00:00",
          "2021-07-29T02:00:00",
          "2021-07-29T03:00:00",
          "2021-07-29T04:00:00",
          "2021-07-29T05:00:00",
          "2021-07-29T06:00:00",
          "2021-07-29T07:00:00",
          "2021-07-29T08:00:00",
          "2021-07-29T09:00:00",
          "2021-07-29T10:00:00",
          "2021-07-29T11:00:00",
          "2021-07-29T12:00:00",
          "2021-07-29T13:00:00",
          "2021-07-29T14:00:00",
          "2021-07-29T15:00:00",
          "2021-07-29T16:00:00",
          "2021-07-29T17:00:00",
          "2021-07-29T18:00:00",
          "2021-07-29T19:00:00",
          "2021-07-29T20:00:00",
          "2021-07-29T21:00:00",
          "2021-07-29T22:00:00",
          "2021-07-29T23:00:00",
          "2021-07-30T00:00:00",
          "2021-07-30T01:00:00",
          "2021-07-30T02:00:00",
          "2021-07-30T03:00:00",
          "2021-07-30T04:00:00",
          "2021-07-30T05:00:00",
          "2021-07-30T06:00:00",
          "2021-07-30T07:00:00",
          "2021-07-30T08:00:00",
          "2021-07-30T09:00:00",
          "2021-07-30T10:00:00",
          "2021-07-30T11:00:00",
          "2021-07-30T12:00:00",
          "2021-07-30T13:00:00",
          "2021-07-30T14:00:00",
          "2021-07-30T15:00:00",
          "2021-07-30T16:00:00"
         ],
         "xaxis": "x",
         "y": [
          2,
          2,
          0,
          0,
          0,
          0,
          0,
          0,
          0,
          0,
          0,
          0,
          12,
          4,
          0,
          0,
          0,
          2,
          0,
          4,
          0,
          0,
          0,
          0,
          0,
          0,
          0,
          0,
          0,
          2,
          2,
          0,
          0,
          0,
          4,
          0,
          0,
          0,
          0,
          0,
          12,
          4
         ],
         "yaxis": "y"
        }
       ],
       "layout": {
        "legend": {
         "title": {
          "text": "variable"
         },
         "tracegroupgap": 0
        },
        "margin": {
         "t": 60
        },
        "template": {
         "data": {
          "bar": [
           {
            "error_x": {
             "color": "#2a3f5f"
            },
            "error_y": {
             "color": "#2a3f5f"
            },
            "marker": {
             "line": {
              "color": "#E5ECF6",
              "width": 0.5
             }
            },
            "type": "bar"
           }
          ],
          "barpolar": [
           {
            "marker": {
             "line": {
              "color": "#E5ECF6",
              "width": 0.5
             }
            },
            "type": "barpolar"
           }
          ],
          "carpet": [
           {
            "aaxis": {
             "endlinecolor": "#2a3f5f",
             "gridcolor": "white",
             "linecolor": "white",
             "minorgridcolor": "white",
             "startlinecolor": "#2a3f5f"
            },
            "baxis": {
             "endlinecolor": "#2a3f5f",
             "gridcolor": "white",
             "linecolor": "white",
             "minorgridcolor": "white",
             "startlinecolor": "#2a3f5f"
            },
            "type": "carpet"
           }
          ],
          "choropleth": [
           {
            "colorbar": {
             "outlinewidth": 0,
             "ticks": ""
            },
            "type": "choropleth"
           }
          ],
          "contour": [
           {
            "colorbar": {
             "outlinewidth": 0,
             "ticks": ""
            },
            "colorscale": [
             [
              0,
              "#0d0887"
             ],
             [
              0.1111111111111111,
              "#46039f"
             ],
             [
              0.2222222222222222,
              "#7201a8"
             ],
             [
              0.3333333333333333,
              "#9c179e"
             ],
             [
              0.4444444444444444,
              "#bd3786"
             ],
             [
              0.5555555555555556,
              "#d8576b"
             ],
             [
              0.6666666666666666,
              "#ed7953"
             ],
             [
              0.7777777777777778,
              "#fb9f3a"
             ],
             [
              0.8888888888888888,
              "#fdca26"
             ],
             [
              1,
              "#f0f921"
             ]
            ],
            "type": "contour"
           }
          ],
          "contourcarpet": [
           {
            "colorbar": {
             "outlinewidth": 0,
             "ticks": ""
            },
            "type": "contourcarpet"
           }
          ],
          "heatmap": [
           {
            "colorbar": {
             "outlinewidth": 0,
             "ticks": ""
            },
            "colorscale": [
             [
              0,
              "#0d0887"
             ],
             [
              0.1111111111111111,
              "#46039f"
             ],
             [
              0.2222222222222222,
              "#7201a8"
             ],
             [
              0.3333333333333333,
              "#9c179e"
             ],
             [
              0.4444444444444444,
              "#bd3786"
             ],
             [
              0.5555555555555556,
              "#d8576b"
             ],
             [
              0.6666666666666666,
              "#ed7953"
             ],
             [
              0.7777777777777778,
              "#fb9f3a"
             ],
             [
              0.8888888888888888,
              "#fdca26"
             ],
             [
              1,
              "#f0f921"
             ]
            ],
            "type": "heatmap"
           }
          ],
          "heatmapgl": [
           {
            "colorbar": {
             "outlinewidth": 0,
             "ticks": ""
            },
            "colorscale": [
             [
              0,
              "#0d0887"
             ],
             [
              0.1111111111111111,
              "#46039f"
             ],
             [
              0.2222222222222222,
              "#7201a8"
             ],
             [
              0.3333333333333333,
              "#9c179e"
             ],
             [
              0.4444444444444444,
              "#bd3786"
             ],
             [
              0.5555555555555556,
              "#d8576b"
             ],
             [
              0.6666666666666666,
              "#ed7953"
             ],
             [
              0.7777777777777778,
              "#fb9f3a"
             ],
             [
              0.8888888888888888,
              "#fdca26"
             ],
             [
              1,
              "#f0f921"
             ]
            ],
            "type": "heatmapgl"
           }
          ],
          "histogram": [
           {
            "marker": {
             "colorbar": {
              "outlinewidth": 0,
              "ticks": ""
             }
            },
            "type": "histogram"
           }
          ],
          "histogram2d": [
           {
            "colorbar": {
             "outlinewidth": 0,
             "ticks": ""
            },
            "colorscale": [
             [
              0,
              "#0d0887"
             ],
             [
              0.1111111111111111,
              "#46039f"
             ],
             [
              0.2222222222222222,
              "#7201a8"
             ],
             [
              0.3333333333333333,
              "#9c179e"
             ],
             [
              0.4444444444444444,
              "#bd3786"
             ],
             [
              0.5555555555555556,
              "#d8576b"
             ],
             [
              0.6666666666666666,
              "#ed7953"
             ],
             [
              0.7777777777777778,
              "#fb9f3a"
             ],
             [
              0.8888888888888888,
              "#fdca26"
             ],
             [
              1,
              "#f0f921"
             ]
            ],
            "type": "histogram2d"
           }
          ],
          "histogram2dcontour": [
           {
            "colorbar": {
             "outlinewidth": 0,
             "ticks": ""
            },
            "colorscale": [
             [
              0,
              "#0d0887"
             ],
             [
              0.1111111111111111,
              "#46039f"
             ],
             [
              0.2222222222222222,
              "#7201a8"
             ],
             [
              0.3333333333333333,
              "#9c179e"
             ],
             [
              0.4444444444444444,
              "#bd3786"
             ],
             [
              0.5555555555555556,
              "#d8576b"
             ],
             [
              0.6666666666666666,
              "#ed7953"
             ],
             [
              0.7777777777777778,
              "#fb9f3a"
             ],
             [
              0.8888888888888888,
              "#fdca26"
             ],
             [
              1,
              "#f0f921"
             ]
            ],
            "type": "histogram2dcontour"
           }
          ],
          "mesh3d": [
           {
            "colorbar": {
             "outlinewidth": 0,
             "ticks": ""
            },
            "type": "mesh3d"
           }
          ],
          "parcoords": [
           {
            "line": {
             "colorbar": {
              "outlinewidth": 0,
              "ticks": ""
             }
            },
            "type": "parcoords"
           }
          ],
          "pie": [
           {
            "automargin": true,
            "type": "pie"
           }
          ],
          "scatter": [
           {
            "marker": {
             "colorbar": {
              "outlinewidth": 0,
              "ticks": ""
             }
            },
            "type": "scatter"
           }
          ],
          "scatter3d": [
           {
            "line": {
             "colorbar": {
              "outlinewidth": 0,
              "ticks": ""
             }
            },
            "marker": {
             "colorbar": {
              "outlinewidth": 0,
              "ticks": ""
             }
            },
            "type": "scatter3d"
           }
          ],
          "scattercarpet": [
           {
            "marker": {
             "colorbar": {
              "outlinewidth": 0,
              "ticks": ""
             }
            },
            "type": "scattercarpet"
           }
          ],
          "scattergeo": [
           {
            "marker": {
             "colorbar": {
              "outlinewidth": 0,
              "ticks": ""
             }
            },
            "type": "scattergeo"
           }
          ],
          "scattergl": [
           {
            "marker": {
             "colorbar": {
              "outlinewidth": 0,
              "ticks": ""
             }
            },
            "type": "scattergl"
           }
          ],
          "scattermapbox": [
           {
            "marker": {
             "colorbar": {
              "outlinewidth": 0,
              "ticks": ""
             }
            },
            "type": "scattermapbox"
           }
          ],
          "scatterpolar": [
           {
            "marker": {
             "colorbar": {
              "outlinewidth": 0,
              "ticks": ""
             }
            },
            "type": "scatterpolar"
           }
          ],
          "scatterpolargl": [
           {
            "marker": {
             "colorbar": {
              "outlinewidth": 0,
              "ticks": ""
             }
            },
            "type": "scatterpolargl"
           }
          ],
          "scatterternary": [
           {
            "marker": {
             "colorbar": {
              "outlinewidth": 0,
              "ticks": ""
             }
            },
            "type": "scatterternary"
           }
          ],
          "surface": [
           {
            "colorbar": {
             "outlinewidth": 0,
             "ticks": ""
            },
            "colorscale": [
             [
              0,
              "#0d0887"
             ],
             [
              0.1111111111111111,
              "#46039f"
             ],
             [
              0.2222222222222222,
              "#7201a8"
             ],
             [
              0.3333333333333333,
              "#9c179e"
             ],
             [
              0.4444444444444444,
              "#bd3786"
             ],
             [
              0.5555555555555556,
              "#d8576b"
             ],
             [
              0.6666666666666666,
              "#ed7953"
             ],
             [
              0.7777777777777778,
              "#fb9f3a"
             ],
             [
              0.8888888888888888,
              "#fdca26"
             ],
             [
              1,
              "#f0f921"
             ]
            ],
            "type": "surface"
           }
          ],
          "table": [
           {
            "cells": {
             "fill": {
              "color": "#EBF0F8"
             },
             "line": {
              "color": "white"
             }
            },
            "header": {
             "fill": {
              "color": "#C8D4E3"
             },
             "line": {
              "color": "white"
             }
            },
            "type": "table"
           }
          ]
         },
         "layout": {
          "annotationdefaults": {
           "arrowcolor": "#2a3f5f",
           "arrowhead": 0,
           "arrowwidth": 1
          },
          "autotypenumbers": "strict",
          "coloraxis": {
           "colorbar": {
            "outlinewidth": 0,
            "ticks": ""
           }
          },
          "colorscale": {
           "diverging": [
            [
             0,
             "#8e0152"
            ],
            [
             0.1,
             "#c51b7d"
            ],
            [
             0.2,
             "#de77ae"
            ],
            [
             0.3,
             "#f1b6da"
            ],
            [
             0.4,
             "#fde0ef"
            ],
            [
             0.5,
             "#f7f7f7"
            ],
            [
             0.6,
             "#e6f5d0"
            ],
            [
             0.7,
             "#b8e186"
            ],
            [
             0.8,
             "#7fbc41"
            ],
            [
             0.9,
             "#4d9221"
            ],
            [
             1,
             "#276419"
            ]
           ],
           "sequential": [
            [
             0,
             "#0d0887"
            ],
            [
             0.1111111111111111,
             "#46039f"
            ],
            [
             0.2222222222222222,
             "#7201a8"
            ],
            [
             0.3333333333333333,
             "#9c179e"
            ],
            [
             0.4444444444444444,
             "#bd3786"
            ],
            [
             0.5555555555555556,
             "#d8576b"
            ],
            [
             0.6666666666666666,
             "#ed7953"
            ],
            [
             0.7777777777777778,
             "#fb9f3a"
            ],
            [
             0.8888888888888888,
             "#fdca26"
            ],
            [
             1,
             "#f0f921"
            ]
           ],
           "sequentialminus": [
            [
             0,
             "#0d0887"
            ],
            [
             0.1111111111111111,
             "#46039f"
            ],
            [
             0.2222222222222222,
             "#7201a8"
            ],
            [
             0.3333333333333333,
             "#9c179e"
            ],
            [
             0.4444444444444444,
             "#bd3786"
            ],
            [
             0.5555555555555556,
             "#d8576b"
            ],
            [
             0.6666666666666666,
             "#ed7953"
            ],
            [
             0.7777777777777778,
             "#fb9f3a"
            ],
            [
             0.8888888888888888,
             "#fdca26"
            ],
            [
             1,
             "#f0f921"
            ]
           ]
          },
          "colorway": [
           "#636efa",
           "#EF553B",
           "#00cc96",
           "#ab63fa",
           "#FFA15A",
           "#19d3f3",
           "#FF6692",
           "#B6E880",
           "#FF97FF",
           "#FECB52"
          ],
          "font": {
           "color": "#2a3f5f"
          },
          "geo": {
           "bgcolor": "white",
           "lakecolor": "white",
           "landcolor": "#E5ECF6",
           "showlakes": true,
           "showland": true,
           "subunitcolor": "white"
          },
          "hoverlabel": {
           "align": "left"
          },
          "hovermode": "closest",
          "mapbox": {
           "style": "light"
          },
          "paper_bgcolor": "white",
          "plot_bgcolor": "#E5ECF6",
          "polar": {
           "angularaxis": {
            "gridcolor": "white",
            "linecolor": "white",
            "ticks": ""
           },
           "bgcolor": "#E5ECF6",
           "radialaxis": {
            "gridcolor": "white",
            "linecolor": "white",
            "ticks": ""
           }
          },
          "scene": {
           "xaxis": {
            "backgroundcolor": "#E5ECF6",
            "gridcolor": "white",
            "gridwidth": 2,
            "linecolor": "white",
            "showbackground": true,
            "ticks": "",
            "zerolinecolor": "white"
           },
           "yaxis": {
            "backgroundcolor": "#E5ECF6",
            "gridcolor": "white",
            "gridwidth": 2,
            "linecolor": "white",
            "showbackground": true,
            "ticks": "",
            "zerolinecolor": "white"
           },
           "zaxis": {
            "backgroundcolor": "#E5ECF6",
            "gridcolor": "white",
            "gridwidth": 2,
            "linecolor": "white",
            "showbackground": true,
            "ticks": "",
            "zerolinecolor": "white"
           }
          },
          "shapedefaults": {
           "line": {
            "color": "#2a3f5f"
           }
          },
          "ternary": {
           "aaxis": {
            "gridcolor": "white",
            "linecolor": "white",
            "ticks": ""
           },
           "baxis": {
            "gridcolor": "white",
            "linecolor": "white",
            "ticks": ""
           },
           "bgcolor": "#E5ECF6",
           "caxis": {
            "gridcolor": "white",
            "linecolor": "white",
            "ticks": ""
           }
          },
          "title": {
           "x": 0.05
          },
          "xaxis": {
           "automargin": true,
           "gridcolor": "white",
           "linecolor": "white",
           "ticks": "",
           "title": {
            "standoff": 15
           },
           "zerolinecolor": "white",
           "zerolinewidth": 2
          },
          "yaxis": {
           "automargin": true,
           "gridcolor": "white",
           "linecolor": "white",
           "ticks": "",
           "title": {
            "standoff": 15
           },
           "zerolinecolor": "white",
           "zerolinewidth": 2
          }
         }
        },
        "xaxis": {
         "anchor": "y",
         "domain": [
          0,
          1
         ],
         "title": {
          "text": "date"
         }
        },
        "yaxis": {
         "anchor": "x",
         "domain": [
          0,
          1
         ],
         "title": {
          "text": "value"
         }
        }
       }
      },
      "text/html": [
       "<div>                            <div id=\"939e1d3f-2558-48ca-8ef4-e4751e447c2a\" class=\"plotly-graph-div\" style=\"height:525px; width:100%;\"></div>            <script type=\"text/javascript\">                require([\"plotly\"], function(Plotly) {                    window.PLOTLYENV=window.PLOTLYENV || {};                                    if (document.getElementById(\"939e1d3f-2558-48ca-8ef4-e4751e447c2a\")) {                    Plotly.newPlot(                        \"939e1d3f-2558-48ca-8ef4-e4751e447c2a\",                        [{\"hovertemplate\": \"variable=count_positive<br>date=%{x}<br>value=%{y}<extra></extra>\", \"legendgroup\": \"count_positive\", \"line\": {\"color\": \"#636efa\", \"dash\": \"solid\"}, \"mode\": \"lines\", \"name\": \"count_positive\", \"orientation\": \"v\", \"showlegend\": true, \"type\": \"scatter\", \"x\": [\"2021-07-28T23:00:00\", \"2021-07-29T00:00:00\", \"2021-07-29T01:00:00\", \"2021-07-29T02:00:00\", \"2021-07-29T03:00:00\", \"2021-07-29T04:00:00\", \"2021-07-29T05:00:00\", \"2021-07-29T06:00:00\", \"2021-07-29T07:00:00\", \"2021-07-29T08:00:00\", \"2021-07-29T09:00:00\", \"2021-07-29T10:00:00\", \"2021-07-29T11:00:00\", \"2021-07-29T12:00:00\", \"2021-07-29T13:00:00\", \"2021-07-29T14:00:00\", \"2021-07-29T15:00:00\", \"2021-07-29T16:00:00\", \"2021-07-29T17:00:00\", \"2021-07-29T18:00:00\", \"2021-07-29T19:00:00\", \"2021-07-29T20:00:00\", \"2021-07-29T21:00:00\", \"2021-07-29T22:00:00\", \"2021-07-29T23:00:00\", \"2021-07-30T00:00:00\", \"2021-07-30T01:00:00\", \"2021-07-30T02:00:00\", \"2021-07-30T03:00:00\", \"2021-07-30T04:00:00\", \"2021-07-30T05:00:00\", \"2021-07-30T06:00:00\", \"2021-07-30T07:00:00\", \"2021-07-30T08:00:00\", \"2021-07-30T09:00:00\", \"2021-07-30T10:00:00\", \"2021-07-30T11:00:00\", \"2021-07-30T12:00:00\", \"2021-07-30T13:00:00\", \"2021-07-30T14:00:00\", \"2021-07-30T15:00:00\", \"2021-07-30T16:00:00\"], \"xaxis\": \"x\", \"y\": [0, 0, 0, 0, 0, 2, 0, 0, 2, 0, 0, 2, 8, 2, 0, 0, 0, 0, 0, 6, 0, 0, 0, 0, 0, 0, 0, 0, 0, 0, 0, 0, 0, 0, 2, 0, 0, 0, 0, 0, 4, 0], \"yaxis\": \"y\"}, {\"hovertemplate\": \"variable=count_neutral<br>date=%{x}<br>value=%{y}<extra></extra>\", \"legendgroup\": \"count_neutral\", \"line\": {\"color\": \"#EF553B\", \"dash\": \"solid\"}, \"mode\": \"lines\", \"name\": \"count_neutral\", \"orientation\": \"v\", \"showlegend\": true, \"type\": \"scatter\", \"x\": [\"2021-07-28T23:00:00\", \"2021-07-29T00:00:00\", \"2021-07-29T01:00:00\", \"2021-07-29T02:00:00\", \"2021-07-29T03:00:00\", \"2021-07-29T04:00:00\", \"2021-07-29T05:00:00\", \"2021-07-29T06:00:00\", \"2021-07-29T07:00:00\", \"2021-07-29T08:00:00\", \"2021-07-29T09:00:00\", \"2021-07-29T10:00:00\", \"2021-07-29T11:00:00\", \"2021-07-29T12:00:00\", \"2021-07-29T13:00:00\", \"2021-07-29T14:00:00\", \"2021-07-29T15:00:00\", \"2021-07-29T16:00:00\", \"2021-07-29T17:00:00\", \"2021-07-29T18:00:00\", \"2021-07-29T19:00:00\", \"2021-07-29T20:00:00\", \"2021-07-29T21:00:00\", \"2021-07-29T22:00:00\", \"2021-07-29T23:00:00\", \"2021-07-30T00:00:00\", \"2021-07-30T01:00:00\", \"2021-07-30T02:00:00\", \"2021-07-30T03:00:00\", \"2021-07-30T04:00:00\", \"2021-07-30T05:00:00\", \"2021-07-30T06:00:00\", \"2021-07-30T07:00:00\", \"2021-07-30T08:00:00\", \"2021-07-30T09:00:00\", \"2021-07-30T10:00:00\", \"2021-07-30T11:00:00\", \"2021-07-30T12:00:00\", \"2021-07-30T13:00:00\", \"2021-07-30T14:00:00\", \"2021-07-30T15:00:00\", \"2021-07-30T16:00:00\"], \"xaxis\": \"x\", \"y\": [24, 20, 16, 6, 28, 14, 6, 26, 20, 30, 32, 38, 1134, 240, 12, 18, 26, 46, 2, 790, 0, 0, 14, 36, 36, 22, 16, 8, 4, 9, 12, 12, 26, 18, 422, 0, 0, 22, 54, 12, 576, 188], \"yaxis\": \"y\"}, {\"hovertemplate\": \"variable=count_negative<br>date=%{x}<br>value=%{y}<extra></extra>\", \"legendgroup\": \"count_negative\", \"line\": {\"color\": \"#00cc96\", \"dash\": \"solid\"}, \"mode\": \"lines\", \"name\": \"count_negative\", \"orientation\": \"v\", \"showlegend\": true, \"type\": \"scatter\", \"x\": [\"2021-07-28T23:00:00\", \"2021-07-29T00:00:00\", \"2021-07-29T01:00:00\", \"2021-07-29T02:00:00\", \"2021-07-29T03:00:00\", \"2021-07-29T04:00:00\", \"2021-07-29T05:00:00\", \"2021-07-29T06:00:00\", \"2021-07-29T07:00:00\", \"2021-07-29T08:00:00\", \"2021-07-29T09:00:00\", \"2021-07-29T10:00:00\", \"2021-07-29T11:00:00\", \"2021-07-29T12:00:00\", \"2021-07-29T13:00:00\", \"2021-07-29T14:00:00\", \"2021-07-29T15:00:00\", \"2021-07-29T16:00:00\", \"2021-07-29T17:00:00\", \"2021-07-29T18:00:00\", \"2021-07-29T19:00:00\", \"2021-07-29T20:00:00\", \"2021-07-29T21:00:00\", \"2021-07-29T22:00:00\", \"2021-07-29T23:00:00\", \"2021-07-30T00:00:00\", \"2021-07-30T01:00:00\", \"2021-07-30T02:00:00\", \"2021-07-30T03:00:00\", \"2021-07-30T04:00:00\", \"2021-07-30T05:00:00\", \"2021-07-30T06:00:00\", \"2021-07-30T07:00:00\", \"2021-07-30T08:00:00\", \"2021-07-30T09:00:00\", \"2021-07-30T10:00:00\", \"2021-07-30T11:00:00\", \"2021-07-30T12:00:00\", \"2021-07-30T13:00:00\", \"2021-07-30T14:00:00\", \"2021-07-30T15:00:00\", \"2021-07-30T16:00:00\"], \"xaxis\": \"x\", \"y\": [2, 2, 0, 0, 0, 0, 0, 0, 0, 0, 0, 0, 12, 4, 0, 0, 0, 2, 0, 4, 0, 0, 0, 0, 0, 0, 0, 0, 0, 2, 2, 0, 0, 0, 4, 0, 0, 0, 0, 0, 12, 4], \"yaxis\": \"y\"}],                        {\"legend\": {\"title\": {\"text\": \"variable\"}, \"tracegroupgap\": 0}, \"margin\": {\"t\": 60}, \"template\": {\"data\": {\"bar\": [{\"error_x\": {\"color\": \"#2a3f5f\"}, \"error_y\": {\"color\": \"#2a3f5f\"}, \"marker\": {\"line\": {\"color\": \"#E5ECF6\", \"width\": 0.5}}, \"type\": \"bar\"}], \"barpolar\": [{\"marker\": {\"line\": {\"color\": \"#E5ECF6\", \"width\": 0.5}}, \"type\": \"barpolar\"}], \"carpet\": [{\"aaxis\": {\"endlinecolor\": \"#2a3f5f\", \"gridcolor\": \"white\", \"linecolor\": \"white\", \"minorgridcolor\": \"white\", \"startlinecolor\": \"#2a3f5f\"}, \"baxis\": {\"endlinecolor\": \"#2a3f5f\", \"gridcolor\": \"white\", \"linecolor\": \"white\", \"minorgridcolor\": \"white\", \"startlinecolor\": \"#2a3f5f\"}, \"type\": \"carpet\"}], \"choropleth\": [{\"colorbar\": {\"outlinewidth\": 0, \"ticks\": \"\"}, \"type\": \"choropleth\"}], \"contour\": [{\"colorbar\": {\"outlinewidth\": 0, \"ticks\": \"\"}, \"colorscale\": [[0.0, \"#0d0887\"], [0.1111111111111111, \"#46039f\"], [0.2222222222222222, \"#7201a8\"], [0.3333333333333333, \"#9c179e\"], [0.4444444444444444, \"#bd3786\"], [0.5555555555555556, \"#d8576b\"], [0.6666666666666666, \"#ed7953\"], [0.7777777777777778, \"#fb9f3a\"], [0.8888888888888888, \"#fdca26\"], [1.0, \"#f0f921\"]], \"type\": \"contour\"}], \"contourcarpet\": [{\"colorbar\": {\"outlinewidth\": 0, \"ticks\": \"\"}, \"type\": \"contourcarpet\"}], \"heatmap\": [{\"colorbar\": {\"outlinewidth\": 0, \"ticks\": \"\"}, \"colorscale\": [[0.0, \"#0d0887\"], [0.1111111111111111, \"#46039f\"], [0.2222222222222222, \"#7201a8\"], [0.3333333333333333, \"#9c179e\"], [0.4444444444444444, \"#bd3786\"], [0.5555555555555556, \"#d8576b\"], [0.6666666666666666, \"#ed7953\"], [0.7777777777777778, \"#fb9f3a\"], [0.8888888888888888, \"#fdca26\"], [1.0, \"#f0f921\"]], \"type\": \"heatmap\"}], \"heatmapgl\": [{\"colorbar\": {\"outlinewidth\": 0, \"ticks\": \"\"}, \"colorscale\": [[0.0, \"#0d0887\"], [0.1111111111111111, \"#46039f\"], [0.2222222222222222, \"#7201a8\"], [0.3333333333333333, \"#9c179e\"], [0.4444444444444444, \"#bd3786\"], [0.5555555555555556, \"#d8576b\"], [0.6666666666666666, \"#ed7953\"], [0.7777777777777778, \"#fb9f3a\"], [0.8888888888888888, \"#fdca26\"], [1.0, \"#f0f921\"]], \"type\": \"heatmapgl\"}], \"histogram\": [{\"marker\": {\"colorbar\": {\"outlinewidth\": 0, \"ticks\": \"\"}}, \"type\": \"histogram\"}], \"histogram2d\": [{\"colorbar\": {\"outlinewidth\": 0, \"ticks\": \"\"}, \"colorscale\": [[0.0, \"#0d0887\"], [0.1111111111111111, \"#46039f\"], [0.2222222222222222, \"#7201a8\"], [0.3333333333333333, \"#9c179e\"], [0.4444444444444444, \"#bd3786\"], [0.5555555555555556, \"#d8576b\"], [0.6666666666666666, \"#ed7953\"], [0.7777777777777778, \"#fb9f3a\"], [0.8888888888888888, \"#fdca26\"], [1.0, \"#f0f921\"]], \"type\": \"histogram2d\"}], \"histogram2dcontour\": [{\"colorbar\": {\"outlinewidth\": 0, \"ticks\": \"\"}, \"colorscale\": [[0.0, \"#0d0887\"], [0.1111111111111111, \"#46039f\"], [0.2222222222222222, \"#7201a8\"], [0.3333333333333333, \"#9c179e\"], [0.4444444444444444, \"#bd3786\"], [0.5555555555555556, \"#d8576b\"], [0.6666666666666666, \"#ed7953\"], [0.7777777777777778, \"#fb9f3a\"], [0.8888888888888888, \"#fdca26\"], [1.0, \"#f0f921\"]], \"type\": \"histogram2dcontour\"}], \"mesh3d\": [{\"colorbar\": {\"outlinewidth\": 0, \"ticks\": \"\"}, \"type\": \"mesh3d\"}], \"parcoords\": [{\"line\": {\"colorbar\": {\"outlinewidth\": 0, \"ticks\": \"\"}}, \"type\": \"parcoords\"}], \"pie\": [{\"automargin\": true, \"type\": \"pie\"}], \"scatter\": [{\"marker\": {\"colorbar\": {\"outlinewidth\": 0, \"ticks\": \"\"}}, \"type\": \"scatter\"}], \"scatter3d\": [{\"line\": {\"colorbar\": {\"outlinewidth\": 0, \"ticks\": \"\"}}, \"marker\": {\"colorbar\": {\"outlinewidth\": 0, \"ticks\": \"\"}}, \"type\": \"scatter3d\"}], \"scattercarpet\": [{\"marker\": {\"colorbar\": {\"outlinewidth\": 0, \"ticks\": \"\"}}, \"type\": \"scattercarpet\"}], \"scattergeo\": [{\"marker\": {\"colorbar\": {\"outlinewidth\": 0, \"ticks\": \"\"}}, \"type\": \"scattergeo\"}], \"scattergl\": [{\"marker\": {\"colorbar\": {\"outlinewidth\": 0, \"ticks\": \"\"}}, \"type\": \"scattergl\"}], \"scattermapbox\": [{\"marker\": {\"colorbar\": {\"outlinewidth\": 0, \"ticks\": \"\"}}, \"type\": \"scattermapbox\"}], \"scatterpolar\": [{\"marker\": {\"colorbar\": {\"outlinewidth\": 0, \"ticks\": \"\"}}, \"type\": \"scatterpolar\"}], \"scatterpolargl\": [{\"marker\": {\"colorbar\": {\"outlinewidth\": 0, \"ticks\": \"\"}}, \"type\": \"scatterpolargl\"}], \"scatterternary\": [{\"marker\": {\"colorbar\": {\"outlinewidth\": 0, \"ticks\": \"\"}}, \"type\": \"scatterternary\"}], \"surface\": [{\"colorbar\": {\"outlinewidth\": 0, \"ticks\": \"\"}, \"colorscale\": [[0.0, \"#0d0887\"], [0.1111111111111111, \"#46039f\"], [0.2222222222222222, \"#7201a8\"], [0.3333333333333333, \"#9c179e\"], [0.4444444444444444, \"#bd3786\"], [0.5555555555555556, \"#d8576b\"], [0.6666666666666666, \"#ed7953\"], [0.7777777777777778, \"#fb9f3a\"], [0.8888888888888888, \"#fdca26\"], [1.0, \"#f0f921\"]], \"type\": \"surface\"}], \"table\": [{\"cells\": {\"fill\": {\"color\": \"#EBF0F8\"}, \"line\": {\"color\": \"white\"}}, \"header\": {\"fill\": {\"color\": \"#C8D4E3\"}, \"line\": {\"color\": \"white\"}}, \"type\": \"table\"}]}, \"layout\": {\"annotationdefaults\": {\"arrowcolor\": \"#2a3f5f\", \"arrowhead\": 0, \"arrowwidth\": 1}, \"autotypenumbers\": \"strict\", \"coloraxis\": {\"colorbar\": {\"outlinewidth\": 0, \"ticks\": \"\"}}, \"colorscale\": {\"diverging\": [[0, \"#8e0152\"], [0.1, \"#c51b7d\"], [0.2, \"#de77ae\"], [0.3, \"#f1b6da\"], [0.4, \"#fde0ef\"], [0.5, \"#f7f7f7\"], [0.6, \"#e6f5d0\"], [0.7, \"#b8e186\"], [0.8, \"#7fbc41\"], [0.9, \"#4d9221\"], [1, \"#276419\"]], \"sequential\": [[0.0, \"#0d0887\"], [0.1111111111111111, \"#46039f\"], [0.2222222222222222, \"#7201a8\"], [0.3333333333333333, \"#9c179e\"], [0.4444444444444444, \"#bd3786\"], [0.5555555555555556, \"#d8576b\"], [0.6666666666666666, \"#ed7953\"], [0.7777777777777778, \"#fb9f3a\"], [0.8888888888888888, \"#fdca26\"], [1.0, \"#f0f921\"]], \"sequentialminus\": [[0.0, \"#0d0887\"], [0.1111111111111111, \"#46039f\"], [0.2222222222222222, \"#7201a8\"], [0.3333333333333333, \"#9c179e\"], [0.4444444444444444, \"#bd3786\"], [0.5555555555555556, \"#d8576b\"], [0.6666666666666666, \"#ed7953\"], [0.7777777777777778, \"#fb9f3a\"], [0.8888888888888888, \"#fdca26\"], [1.0, \"#f0f921\"]]}, \"colorway\": [\"#636efa\", \"#EF553B\", \"#00cc96\", \"#ab63fa\", \"#FFA15A\", \"#19d3f3\", \"#FF6692\", \"#B6E880\", \"#FF97FF\", \"#FECB52\"], \"font\": {\"color\": \"#2a3f5f\"}, \"geo\": {\"bgcolor\": \"white\", \"lakecolor\": \"white\", \"landcolor\": \"#E5ECF6\", \"showlakes\": true, \"showland\": true, \"subunitcolor\": \"white\"}, \"hoverlabel\": {\"align\": \"left\"}, \"hovermode\": \"closest\", \"mapbox\": {\"style\": \"light\"}, \"paper_bgcolor\": \"white\", \"plot_bgcolor\": \"#E5ECF6\", \"polar\": {\"angularaxis\": {\"gridcolor\": \"white\", \"linecolor\": \"white\", \"ticks\": \"\"}, \"bgcolor\": \"#E5ECF6\", \"radialaxis\": {\"gridcolor\": \"white\", \"linecolor\": \"white\", \"ticks\": \"\"}}, \"scene\": {\"xaxis\": {\"backgroundcolor\": \"#E5ECF6\", \"gridcolor\": \"white\", \"gridwidth\": 2, \"linecolor\": \"white\", \"showbackground\": true, \"ticks\": \"\", \"zerolinecolor\": \"white\"}, \"yaxis\": {\"backgroundcolor\": \"#E5ECF6\", \"gridcolor\": \"white\", \"gridwidth\": 2, \"linecolor\": \"white\", \"showbackground\": true, \"ticks\": \"\", \"zerolinecolor\": \"white\"}, \"zaxis\": {\"backgroundcolor\": \"#E5ECF6\", \"gridcolor\": \"white\", \"gridwidth\": 2, \"linecolor\": \"white\", \"showbackground\": true, \"ticks\": \"\", \"zerolinecolor\": \"white\"}}, \"shapedefaults\": {\"line\": {\"color\": \"#2a3f5f\"}}, \"ternary\": {\"aaxis\": {\"gridcolor\": \"white\", \"linecolor\": \"white\", \"ticks\": \"\"}, \"baxis\": {\"gridcolor\": \"white\", \"linecolor\": \"white\", \"ticks\": \"\"}, \"bgcolor\": \"#E5ECF6\", \"caxis\": {\"gridcolor\": \"white\", \"linecolor\": \"white\", \"ticks\": \"\"}}, \"title\": {\"x\": 0.05}, \"xaxis\": {\"automargin\": true, \"gridcolor\": \"white\", \"linecolor\": \"white\", \"ticks\": \"\", \"title\": {\"standoff\": 15}, \"zerolinecolor\": \"white\", \"zerolinewidth\": 2}, \"yaxis\": {\"automargin\": true, \"gridcolor\": \"white\", \"linecolor\": \"white\", \"ticks\": \"\", \"title\": {\"standoff\": 15}, \"zerolinecolor\": \"white\", \"zerolinewidth\": 2}}}, \"xaxis\": {\"anchor\": \"y\", \"domain\": [0.0, 1.0], \"title\": {\"text\": \"date\"}}, \"yaxis\": {\"anchor\": \"x\", \"domain\": [0.0, 1.0], \"title\": {\"text\": \"value\"}}},                        {\"responsive\": true}                    ).then(function(){\n",
       "                            \n",
       "var gd = document.getElementById('939e1d3f-2558-48ca-8ef4-e4751e447c2a');\n",
       "var x = new MutationObserver(function (mutations, observer) {{\n",
       "        var display = window.getComputedStyle(gd).display;\n",
       "        if (!display || display === 'none') {{\n",
       "            console.log([gd, 'removed!']);\n",
       "            Plotly.purge(gd);\n",
       "            observer.disconnect();\n",
       "        }}\n",
       "}});\n",
       "\n",
       "// Listen for the removal of the full notebook cells\n",
       "var notebookContainer = gd.closest('#notebook-container');\n",
       "if (notebookContainer) {{\n",
       "    x.observe(notebookContainer, {childList: true});\n",
       "}}\n",
       "\n",
       "// Listen for the clearing of the current output cell\n",
       "var outputEl = gd.closest('.output');\n",
       "if (outputEl) {{\n",
       "    x.observe(outputEl, {childList: true});\n",
       "}}\n",
       "\n",
       "                        })                };                });            </script>        </div>"
      ]
     },
     "metadata": {},
     "output_type": "display_data"
    }
   ],
   "source": [
    "import plotly.express as px\n",
    "fig = px.line(df)\n",
    "fig.show()"
   ]
  },
  {
   "cell_type": "markdown",
   "id": "a0717135",
   "metadata": {},
   "source": [
    "# Count without neutral"
   ]
  },
  {
   "cell_type": "code",
   "execution_count": 54,
   "id": "fa870182",
   "metadata": {},
   "outputs": [],
   "source": [
    "df = data.resample('60min', on='date').sum()\n",
    "df1 = df.drop(\"count_neutral\", axis = 1)"
   ]
  },
  {
   "cell_type": "code",
   "execution_count": 56,
   "id": "70fe2f4b",
   "metadata": {},
   "outputs": [
    {
     "data": {
      "application/vnd.plotly.v1+json": {
       "config": {
        "plotlyServerURL": "https://plot.ly"
       },
       "data": [
        {
         "hovertemplate": "variable=count_positive<br>date=%{x}<br>value=%{y}<extra></extra>",
         "legendgroup": "count_positive",
         "line": {
          "color": "#636efa",
          "dash": "solid"
         },
         "mode": "lines",
         "name": "count_positive",
         "orientation": "v",
         "showlegend": true,
         "type": "scatter",
         "x": [
          "2021-07-28T23:00:00",
          "2021-07-29T00:00:00",
          "2021-07-29T01:00:00",
          "2021-07-29T02:00:00",
          "2021-07-29T03:00:00",
          "2021-07-29T04:00:00",
          "2021-07-29T05:00:00",
          "2021-07-29T06:00:00",
          "2021-07-29T07:00:00",
          "2021-07-29T08:00:00",
          "2021-07-29T09:00:00",
          "2021-07-29T10:00:00",
          "2021-07-29T11:00:00",
          "2021-07-29T12:00:00",
          "2021-07-29T13:00:00",
          "2021-07-29T14:00:00",
          "2021-07-29T15:00:00",
          "2021-07-29T16:00:00",
          "2021-07-29T17:00:00",
          "2021-07-29T18:00:00",
          "2021-07-29T19:00:00",
          "2021-07-29T20:00:00",
          "2021-07-29T21:00:00",
          "2021-07-29T22:00:00",
          "2021-07-29T23:00:00",
          "2021-07-30T00:00:00",
          "2021-07-30T01:00:00",
          "2021-07-30T02:00:00",
          "2021-07-30T03:00:00",
          "2021-07-30T04:00:00",
          "2021-07-30T05:00:00",
          "2021-07-30T06:00:00",
          "2021-07-30T07:00:00",
          "2021-07-30T08:00:00",
          "2021-07-30T09:00:00",
          "2021-07-30T10:00:00",
          "2021-07-30T11:00:00",
          "2021-07-30T12:00:00",
          "2021-07-30T13:00:00",
          "2021-07-30T14:00:00",
          "2021-07-30T15:00:00",
          "2021-07-30T16:00:00"
         ],
         "xaxis": "x",
         "y": [
          0,
          0,
          0,
          0,
          0,
          2,
          0,
          0,
          2,
          0,
          0,
          2,
          8,
          2,
          0,
          0,
          0,
          0,
          0,
          6,
          0,
          0,
          0,
          0,
          0,
          0,
          0,
          0,
          0,
          0,
          0,
          0,
          0,
          0,
          2,
          0,
          0,
          0,
          0,
          0,
          4,
          0
         ],
         "yaxis": "y"
        },
        {
         "hovertemplate": "variable=count_negative<br>date=%{x}<br>value=%{y}<extra></extra>",
         "legendgroup": "count_negative",
         "line": {
          "color": "#EF553B",
          "dash": "solid"
         },
         "mode": "lines",
         "name": "count_negative",
         "orientation": "v",
         "showlegend": true,
         "type": "scatter",
         "x": [
          "2021-07-28T23:00:00",
          "2021-07-29T00:00:00",
          "2021-07-29T01:00:00",
          "2021-07-29T02:00:00",
          "2021-07-29T03:00:00",
          "2021-07-29T04:00:00",
          "2021-07-29T05:00:00",
          "2021-07-29T06:00:00",
          "2021-07-29T07:00:00",
          "2021-07-29T08:00:00",
          "2021-07-29T09:00:00",
          "2021-07-29T10:00:00",
          "2021-07-29T11:00:00",
          "2021-07-29T12:00:00",
          "2021-07-29T13:00:00",
          "2021-07-29T14:00:00",
          "2021-07-29T15:00:00",
          "2021-07-29T16:00:00",
          "2021-07-29T17:00:00",
          "2021-07-29T18:00:00",
          "2021-07-29T19:00:00",
          "2021-07-29T20:00:00",
          "2021-07-29T21:00:00",
          "2021-07-29T22:00:00",
          "2021-07-29T23:00:00",
          "2021-07-30T00:00:00",
          "2021-07-30T01:00:00",
          "2021-07-30T02:00:00",
          "2021-07-30T03:00:00",
          "2021-07-30T04:00:00",
          "2021-07-30T05:00:00",
          "2021-07-30T06:00:00",
          "2021-07-30T07:00:00",
          "2021-07-30T08:00:00",
          "2021-07-30T09:00:00",
          "2021-07-30T10:00:00",
          "2021-07-30T11:00:00",
          "2021-07-30T12:00:00",
          "2021-07-30T13:00:00",
          "2021-07-30T14:00:00",
          "2021-07-30T15:00:00",
          "2021-07-30T16:00:00"
         ],
         "xaxis": "x",
         "y": [
          2,
          2,
          0,
          0,
          0,
          0,
          0,
          0,
          0,
          0,
          0,
          0,
          12,
          4,
          0,
          0,
          0,
          2,
          0,
          4,
          0,
          0,
          0,
          0,
          0,
          0,
          0,
          0,
          0,
          2,
          2,
          0,
          0,
          0,
          4,
          0,
          0,
          0,
          0,
          0,
          12,
          4
         ],
         "yaxis": "y"
        }
       ],
       "layout": {
        "legend": {
         "title": {
          "text": "variable"
         },
         "tracegroupgap": 0
        },
        "margin": {
         "t": 60
        },
        "template": {
         "data": {
          "bar": [
           {
            "error_x": {
             "color": "#2a3f5f"
            },
            "error_y": {
             "color": "#2a3f5f"
            },
            "marker": {
             "line": {
              "color": "#E5ECF6",
              "width": 0.5
             }
            },
            "type": "bar"
           }
          ],
          "barpolar": [
           {
            "marker": {
             "line": {
              "color": "#E5ECF6",
              "width": 0.5
             }
            },
            "type": "barpolar"
           }
          ],
          "carpet": [
           {
            "aaxis": {
             "endlinecolor": "#2a3f5f",
             "gridcolor": "white",
             "linecolor": "white",
             "minorgridcolor": "white",
             "startlinecolor": "#2a3f5f"
            },
            "baxis": {
             "endlinecolor": "#2a3f5f",
             "gridcolor": "white",
             "linecolor": "white",
             "minorgridcolor": "white",
             "startlinecolor": "#2a3f5f"
            },
            "type": "carpet"
           }
          ],
          "choropleth": [
           {
            "colorbar": {
             "outlinewidth": 0,
             "ticks": ""
            },
            "type": "choropleth"
           }
          ],
          "contour": [
           {
            "colorbar": {
             "outlinewidth": 0,
             "ticks": ""
            },
            "colorscale": [
             [
              0,
              "#0d0887"
             ],
             [
              0.1111111111111111,
              "#46039f"
             ],
             [
              0.2222222222222222,
              "#7201a8"
             ],
             [
              0.3333333333333333,
              "#9c179e"
             ],
             [
              0.4444444444444444,
              "#bd3786"
             ],
             [
              0.5555555555555556,
              "#d8576b"
             ],
             [
              0.6666666666666666,
              "#ed7953"
             ],
             [
              0.7777777777777778,
              "#fb9f3a"
             ],
             [
              0.8888888888888888,
              "#fdca26"
             ],
             [
              1,
              "#f0f921"
             ]
            ],
            "type": "contour"
           }
          ],
          "contourcarpet": [
           {
            "colorbar": {
             "outlinewidth": 0,
             "ticks": ""
            },
            "type": "contourcarpet"
           }
          ],
          "heatmap": [
           {
            "colorbar": {
             "outlinewidth": 0,
             "ticks": ""
            },
            "colorscale": [
             [
              0,
              "#0d0887"
             ],
             [
              0.1111111111111111,
              "#46039f"
             ],
             [
              0.2222222222222222,
              "#7201a8"
             ],
             [
              0.3333333333333333,
              "#9c179e"
             ],
             [
              0.4444444444444444,
              "#bd3786"
             ],
             [
              0.5555555555555556,
              "#d8576b"
             ],
             [
              0.6666666666666666,
              "#ed7953"
             ],
             [
              0.7777777777777778,
              "#fb9f3a"
             ],
             [
              0.8888888888888888,
              "#fdca26"
             ],
             [
              1,
              "#f0f921"
             ]
            ],
            "type": "heatmap"
           }
          ],
          "heatmapgl": [
           {
            "colorbar": {
             "outlinewidth": 0,
             "ticks": ""
            },
            "colorscale": [
             [
              0,
              "#0d0887"
             ],
             [
              0.1111111111111111,
              "#46039f"
             ],
             [
              0.2222222222222222,
              "#7201a8"
             ],
             [
              0.3333333333333333,
              "#9c179e"
             ],
             [
              0.4444444444444444,
              "#bd3786"
             ],
             [
              0.5555555555555556,
              "#d8576b"
             ],
             [
              0.6666666666666666,
              "#ed7953"
             ],
             [
              0.7777777777777778,
              "#fb9f3a"
             ],
             [
              0.8888888888888888,
              "#fdca26"
             ],
             [
              1,
              "#f0f921"
             ]
            ],
            "type": "heatmapgl"
           }
          ],
          "histogram": [
           {
            "marker": {
             "colorbar": {
              "outlinewidth": 0,
              "ticks": ""
             }
            },
            "type": "histogram"
           }
          ],
          "histogram2d": [
           {
            "colorbar": {
             "outlinewidth": 0,
             "ticks": ""
            },
            "colorscale": [
             [
              0,
              "#0d0887"
             ],
             [
              0.1111111111111111,
              "#46039f"
             ],
             [
              0.2222222222222222,
              "#7201a8"
             ],
             [
              0.3333333333333333,
              "#9c179e"
             ],
             [
              0.4444444444444444,
              "#bd3786"
             ],
             [
              0.5555555555555556,
              "#d8576b"
             ],
             [
              0.6666666666666666,
              "#ed7953"
             ],
             [
              0.7777777777777778,
              "#fb9f3a"
             ],
             [
              0.8888888888888888,
              "#fdca26"
             ],
             [
              1,
              "#f0f921"
             ]
            ],
            "type": "histogram2d"
           }
          ],
          "histogram2dcontour": [
           {
            "colorbar": {
             "outlinewidth": 0,
             "ticks": ""
            },
            "colorscale": [
             [
              0,
              "#0d0887"
             ],
             [
              0.1111111111111111,
              "#46039f"
             ],
             [
              0.2222222222222222,
              "#7201a8"
             ],
             [
              0.3333333333333333,
              "#9c179e"
             ],
             [
              0.4444444444444444,
              "#bd3786"
             ],
             [
              0.5555555555555556,
              "#d8576b"
             ],
             [
              0.6666666666666666,
              "#ed7953"
             ],
             [
              0.7777777777777778,
              "#fb9f3a"
             ],
             [
              0.8888888888888888,
              "#fdca26"
             ],
             [
              1,
              "#f0f921"
             ]
            ],
            "type": "histogram2dcontour"
           }
          ],
          "mesh3d": [
           {
            "colorbar": {
             "outlinewidth": 0,
             "ticks": ""
            },
            "type": "mesh3d"
           }
          ],
          "parcoords": [
           {
            "line": {
             "colorbar": {
              "outlinewidth": 0,
              "ticks": ""
             }
            },
            "type": "parcoords"
           }
          ],
          "pie": [
           {
            "automargin": true,
            "type": "pie"
           }
          ],
          "scatter": [
           {
            "marker": {
             "colorbar": {
              "outlinewidth": 0,
              "ticks": ""
             }
            },
            "type": "scatter"
           }
          ],
          "scatter3d": [
           {
            "line": {
             "colorbar": {
              "outlinewidth": 0,
              "ticks": ""
             }
            },
            "marker": {
             "colorbar": {
              "outlinewidth": 0,
              "ticks": ""
             }
            },
            "type": "scatter3d"
           }
          ],
          "scattercarpet": [
           {
            "marker": {
             "colorbar": {
              "outlinewidth": 0,
              "ticks": ""
             }
            },
            "type": "scattercarpet"
           }
          ],
          "scattergeo": [
           {
            "marker": {
             "colorbar": {
              "outlinewidth": 0,
              "ticks": ""
             }
            },
            "type": "scattergeo"
           }
          ],
          "scattergl": [
           {
            "marker": {
             "colorbar": {
              "outlinewidth": 0,
              "ticks": ""
             }
            },
            "type": "scattergl"
           }
          ],
          "scattermapbox": [
           {
            "marker": {
             "colorbar": {
              "outlinewidth": 0,
              "ticks": ""
             }
            },
            "type": "scattermapbox"
           }
          ],
          "scatterpolar": [
           {
            "marker": {
             "colorbar": {
              "outlinewidth": 0,
              "ticks": ""
             }
            },
            "type": "scatterpolar"
           }
          ],
          "scatterpolargl": [
           {
            "marker": {
             "colorbar": {
              "outlinewidth": 0,
              "ticks": ""
             }
            },
            "type": "scatterpolargl"
           }
          ],
          "scatterternary": [
           {
            "marker": {
             "colorbar": {
              "outlinewidth": 0,
              "ticks": ""
             }
            },
            "type": "scatterternary"
           }
          ],
          "surface": [
           {
            "colorbar": {
             "outlinewidth": 0,
             "ticks": ""
            },
            "colorscale": [
             [
              0,
              "#0d0887"
             ],
             [
              0.1111111111111111,
              "#46039f"
             ],
             [
              0.2222222222222222,
              "#7201a8"
             ],
             [
              0.3333333333333333,
              "#9c179e"
             ],
             [
              0.4444444444444444,
              "#bd3786"
             ],
             [
              0.5555555555555556,
              "#d8576b"
             ],
             [
              0.6666666666666666,
              "#ed7953"
             ],
             [
              0.7777777777777778,
              "#fb9f3a"
             ],
             [
              0.8888888888888888,
              "#fdca26"
             ],
             [
              1,
              "#f0f921"
             ]
            ],
            "type": "surface"
           }
          ],
          "table": [
           {
            "cells": {
             "fill": {
              "color": "#EBF0F8"
             },
             "line": {
              "color": "white"
             }
            },
            "header": {
             "fill": {
              "color": "#C8D4E3"
             },
             "line": {
              "color": "white"
             }
            },
            "type": "table"
           }
          ]
         },
         "layout": {
          "annotationdefaults": {
           "arrowcolor": "#2a3f5f",
           "arrowhead": 0,
           "arrowwidth": 1
          },
          "autotypenumbers": "strict",
          "coloraxis": {
           "colorbar": {
            "outlinewidth": 0,
            "ticks": ""
           }
          },
          "colorscale": {
           "diverging": [
            [
             0,
             "#8e0152"
            ],
            [
             0.1,
             "#c51b7d"
            ],
            [
             0.2,
             "#de77ae"
            ],
            [
             0.3,
             "#f1b6da"
            ],
            [
             0.4,
             "#fde0ef"
            ],
            [
             0.5,
             "#f7f7f7"
            ],
            [
             0.6,
             "#e6f5d0"
            ],
            [
             0.7,
             "#b8e186"
            ],
            [
             0.8,
             "#7fbc41"
            ],
            [
             0.9,
             "#4d9221"
            ],
            [
             1,
             "#276419"
            ]
           ],
           "sequential": [
            [
             0,
             "#0d0887"
            ],
            [
             0.1111111111111111,
             "#46039f"
            ],
            [
             0.2222222222222222,
             "#7201a8"
            ],
            [
             0.3333333333333333,
             "#9c179e"
            ],
            [
             0.4444444444444444,
             "#bd3786"
            ],
            [
             0.5555555555555556,
             "#d8576b"
            ],
            [
             0.6666666666666666,
             "#ed7953"
            ],
            [
             0.7777777777777778,
             "#fb9f3a"
            ],
            [
             0.8888888888888888,
             "#fdca26"
            ],
            [
             1,
             "#f0f921"
            ]
           ],
           "sequentialminus": [
            [
             0,
             "#0d0887"
            ],
            [
             0.1111111111111111,
             "#46039f"
            ],
            [
             0.2222222222222222,
             "#7201a8"
            ],
            [
             0.3333333333333333,
             "#9c179e"
            ],
            [
             0.4444444444444444,
             "#bd3786"
            ],
            [
             0.5555555555555556,
             "#d8576b"
            ],
            [
             0.6666666666666666,
             "#ed7953"
            ],
            [
             0.7777777777777778,
             "#fb9f3a"
            ],
            [
             0.8888888888888888,
             "#fdca26"
            ],
            [
             1,
             "#f0f921"
            ]
           ]
          },
          "colorway": [
           "#636efa",
           "#EF553B",
           "#00cc96",
           "#ab63fa",
           "#FFA15A",
           "#19d3f3",
           "#FF6692",
           "#B6E880",
           "#FF97FF",
           "#FECB52"
          ],
          "font": {
           "color": "#2a3f5f"
          },
          "geo": {
           "bgcolor": "white",
           "lakecolor": "white",
           "landcolor": "#E5ECF6",
           "showlakes": true,
           "showland": true,
           "subunitcolor": "white"
          },
          "hoverlabel": {
           "align": "left"
          },
          "hovermode": "closest",
          "mapbox": {
           "style": "light"
          },
          "paper_bgcolor": "white",
          "plot_bgcolor": "#E5ECF6",
          "polar": {
           "angularaxis": {
            "gridcolor": "white",
            "linecolor": "white",
            "ticks": ""
           },
           "bgcolor": "#E5ECF6",
           "radialaxis": {
            "gridcolor": "white",
            "linecolor": "white",
            "ticks": ""
           }
          },
          "scene": {
           "xaxis": {
            "backgroundcolor": "#E5ECF6",
            "gridcolor": "white",
            "gridwidth": 2,
            "linecolor": "white",
            "showbackground": true,
            "ticks": "",
            "zerolinecolor": "white"
           },
           "yaxis": {
            "backgroundcolor": "#E5ECF6",
            "gridcolor": "white",
            "gridwidth": 2,
            "linecolor": "white",
            "showbackground": true,
            "ticks": "",
            "zerolinecolor": "white"
           },
           "zaxis": {
            "backgroundcolor": "#E5ECF6",
            "gridcolor": "white",
            "gridwidth": 2,
            "linecolor": "white",
            "showbackground": true,
            "ticks": "",
            "zerolinecolor": "white"
           }
          },
          "shapedefaults": {
           "line": {
            "color": "#2a3f5f"
           }
          },
          "ternary": {
           "aaxis": {
            "gridcolor": "white",
            "linecolor": "white",
            "ticks": ""
           },
           "baxis": {
            "gridcolor": "white",
            "linecolor": "white",
            "ticks": ""
           },
           "bgcolor": "#E5ECF6",
           "caxis": {
            "gridcolor": "white",
            "linecolor": "white",
            "ticks": ""
           }
          },
          "title": {
           "x": 0.05
          },
          "xaxis": {
           "automargin": true,
           "gridcolor": "white",
           "linecolor": "white",
           "ticks": "",
           "title": {
            "standoff": 15
           },
           "zerolinecolor": "white",
           "zerolinewidth": 2
          },
          "yaxis": {
           "automargin": true,
           "gridcolor": "white",
           "linecolor": "white",
           "ticks": "",
           "title": {
            "standoff": 15
           },
           "zerolinecolor": "white",
           "zerolinewidth": 2
          }
         }
        },
        "xaxis": {
         "anchor": "y",
         "domain": [
          0,
          1
         ],
         "title": {
          "text": "date"
         }
        },
        "yaxis": {
         "anchor": "x",
         "domain": [
          0,
          1
         ],
         "title": {
          "text": "value"
         }
        }
       }
      },
      "text/html": [
       "<div>                            <div id=\"80f9146c-f082-4ca8-b892-fbc7de87a929\" class=\"plotly-graph-div\" style=\"height:525px; width:100%;\"></div>            <script type=\"text/javascript\">                require([\"plotly\"], function(Plotly) {                    window.PLOTLYENV=window.PLOTLYENV || {};                                    if (document.getElementById(\"80f9146c-f082-4ca8-b892-fbc7de87a929\")) {                    Plotly.newPlot(                        \"80f9146c-f082-4ca8-b892-fbc7de87a929\",                        [{\"hovertemplate\": \"variable=count_positive<br>date=%{x}<br>value=%{y}<extra></extra>\", \"legendgroup\": \"count_positive\", \"line\": {\"color\": \"#636efa\", \"dash\": \"solid\"}, \"mode\": \"lines\", \"name\": \"count_positive\", \"orientation\": \"v\", \"showlegend\": true, \"type\": \"scatter\", \"x\": [\"2021-07-28T23:00:00\", \"2021-07-29T00:00:00\", \"2021-07-29T01:00:00\", \"2021-07-29T02:00:00\", \"2021-07-29T03:00:00\", \"2021-07-29T04:00:00\", \"2021-07-29T05:00:00\", \"2021-07-29T06:00:00\", \"2021-07-29T07:00:00\", \"2021-07-29T08:00:00\", \"2021-07-29T09:00:00\", \"2021-07-29T10:00:00\", \"2021-07-29T11:00:00\", \"2021-07-29T12:00:00\", \"2021-07-29T13:00:00\", \"2021-07-29T14:00:00\", \"2021-07-29T15:00:00\", \"2021-07-29T16:00:00\", \"2021-07-29T17:00:00\", \"2021-07-29T18:00:00\", \"2021-07-29T19:00:00\", \"2021-07-29T20:00:00\", \"2021-07-29T21:00:00\", \"2021-07-29T22:00:00\", \"2021-07-29T23:00:00\", \"2021-07-30T00:00:00\", \"2021-07-30T01:00:00\", \"2021-07-30T02:00:00\", \"2021-07-30T03:00:00\", \"2021-07-30T04:00:00\", \"2021-07-30T05:00:00\", \"2021-07-30T06:00:00\", \"2021-07-30T07:00:00\", \"2021-07-30T08:00:00\", \"2021-07-30T09:00:00\", \"2021-07-30T10:00:00\", \"2021-07-30T11:00:00\", \"2021-07-30T12:00:00\", \"2021-07-30T13:00:00\", \"2021-07-30T14:00:00\", \"2021-07-30T15:00:00\", \"2021-07-30T16:00:00\"], \"xaxis\": \"x\", \"y\": [0, 0, 0, 0, 0, 2, 0, 0, 2, 0, 0, 2, 8, 2, 0, 0, 0, 0, 0, 6, 0, 0, 0, 0, 0, 0, 0, 0, 0, 0, 0, 0, 0, 0, 2, 0, 0, 0, 0, 0, 4, 0], \"yaxis\": \"y\"}, {\"hovertemplate\": \"variable=count_negative<br>date=%{x}<br>value=%{y}<extra></extra>\", \"legendgroup\": \"count_negative\", \"line\": {\"color\": \"#EF553B\", \"dash\": \"solid\"}, \"mode\": \"lines\", \"name\": \"count_negative\", \"orientation\": \"v\", \"showlegend\": true, \"type\": \"scatter\", \"x\": [\"2021-07-28T23:00:00\", \"2021-07-29T00:00:00\", \"2021-07-29T01:00:00\", \"2021-07-29T02:00:00\", \"2021-07-29T03:00:00\", \"2021-07-29T04:00:00\", \"2021-07-29T05:00:00\", \"2021-07-29T06:00:00\", \"2021-07-29T07:00:00\", \"2021-07-29T08:00:00\", \"2021-07-29T09:00:00\", \"2021-07-29T10:00:00\", \"2021-07-29T11:00:00\", \"2021-07-29T12:00:00\", \"2021-07-29T13:00:00\", \"2021-07-29T14:00:00\", \"2021-07-29T15:00:00\", \"2021-07-29T16:00:00\", \"2021-07-29T17:00:00\", \"2021-07-29T18:00:00\", \"2021-07-29T19:00:00\", \"2021-07-29T20:00:00\", \"2021-07-29T21:00:00\", \"2021-07-29T22:00:00\", \"2021-07-29T23:00:00\", \"2021-07-30T00:00:00\", \"2021-07-30T01:00:00\", \"2021-07-30T02:00:00\", \"2021-07-30T03:00:00\", \"2021-07-30T04:00:00\", \"2021-07-30T05:00:00\", \"2021-07-30T06:00:00\", \"2021-07-30T07:00:00\", \"2021-07-30T08:00:00\", \"2021-07-30T09:00:00\", \"2021-07-30T10:00:00\", \"2021-07-30T11:00:00\", \"2021-07-30T12:00:00\", \"2021-07-30T13:00:00\", \"2021-07-30T14:00:00\", \"2021-07-30T15:00:00\", \"2021-07-30T16:00:00\"], \"xaxis\": \"x\", \"y\": [2, 2, 0, 0, 0, 0, 0, 0, 0, 0, 0, 0, 12, 4, 0, 0, 0, 2, 0, 4, 0, 0, 0, 0, 0, 0, 0, 0, 0, 2, 2, 0, 0, 0, 4, 0, 0, 0, 0, 0, 12, 4], \"yaxis\": \"y\"}],                        {\"legend\": {\"title\": {\"text\": \"variable\"}, \"tracegroupgap\": 0}, \"margin\": {\"t\": 60}, \"template\": {\"data\": {\"bar\": [{\"error_x\": {\"color\": \"#2a3f5f\"}, \"error_y\": {\"color\": \"#2a3f5f\"}, \"marker\": {\"line\": {\"color\": \"#E5ECF6\", \"width\": 0.5}}, \"type\": \"bar\"}], \"barpolar\": [{\"marker\": {\"line\": {\"color\": \"#E5ECF6\", \"width\": 0.5}}, \"type\": \"barpolar\"}], \"carpet\": [{\"aaxis\": {\"endlinecolor\": \"#2a3f5f\", \"gridcolor\": \"white\", \"linecolor\": \"white\", \"minorgridcolor\": \"white\", \"startlinecolor\": \"#2a3f5f\"}, \"baxis\": {\"endlinecolor\": \"#2a3f5f\", \"gridcolor\": \"white\", \"linecolor\": \"white\", \"minorgridcolor\": \"white\", \"startlinecolor\": \"#2a3f5f\"}, \"type\": \"carpet\"}], \"choropleth\": [{\"colorbar\": {\"outlinewidth\": 0, \"ticks\": \"\"}, \"type\": \"choropleth\"}], \"contour\": [{\"colorbar\": {\"outlinewidth\": 0, \"ticks\": \"\"}, \"colorscale\": [[0.0, \"#0d0887\"], [0.1111111111111111, \"#46039f\"], [0.2222222222222222, \"#7201a8\"], [0.3333333333333333, \"#9c179e\"], [0.4444444444444444, \"#bd3786\"], [0.5555555555555556, \"#d8576b\"], [0.6666666666666666, \"#ed7953\"], [0.7777777777777778, \"#fb9f3a\"], [0.8888888888888888, \"#fdca26\"], [1.0, \"#f0f921\"]], \"type\": \"contour\"}], \"contourcarpet\": [{\"colorbar\": {\"outlinewidth\": 0, \"ticks\": \"\"}, \"type\": \"contourcarpet\"}], \"heatmap\": [{\"colorbar\": {\"outlinewidth\": 0, \"ticks\": \"\"}, \"colorscale\": [[0.0, \"#0d0887\"], [0.1111111111111111, \"#46039f\"], [0.2222222222222222, \"#7201a8\"], [0.3333333333333333, \"#9c179e\"], [0.4444444444444444, \"#bd3786\"], [0.5555555555555556, \"#d8576b\"], [0.6666666666666666, \"#ed7953\"], [0.7777777777777778, \"#fb9f3a\"], [0.8888888888888888, \"#fdca26\"], [1.0, \"#f0f921\"]], \"type\": \"heatmap\"}], \"heatmapgl\": [{\"colorbar\": {\"outlinewidth\": 0, \"ticks\": \"\"}, \"colorscale\": [[0.0, \"#0d0887\"], [0.1111111111111111, \"#46039f\"], [0.2222222222222222, \"#7201a8\"], [0.3333333333333333, \"#9c179e\"], [0.4444444444444444, \"#bd3786\"], [0.5555555555555556, \"#d8576b\"], [0.6666666666666666, \"#ed7953\"], [0.7777777777777778, \"#fb9f3a\"], [0.8888888888888888, \"#fdca26\"], [1.0, \"#f0f921\"]], \"type\": \"heatmapgl\"}], \"histogram\": [{\"marker\": {\"colorbar\": {\"outlinewidth\": 0, \"ticks\": \"\"}}, \"type\": \"histogram\"}], \"histogram2d\": [{\"colorbar\": {\"outlinewidth\": 0, \"ticks\": \"\"}, \"colorscale\": [[0.0, \"#0d0887\"], [0.1111111111111111, \"#46039f\"], [0.2222222222222222, \"#7201a8\"], [0.3333333333333333, \"#9c179e\"], [0.4444444444444444, \"#bd3786\"], [0.5555555555555556, \"#d8576b\"], [0.6666666666666666, \"#ed7953\"], [0.7777777777777778, \"#fb9f3a\"], [0.8888888888888888, \"#fdca26\"], [1.0, \"#f0f921\"]], \"type\": \"histogram2d\"}], \"histogram2dcontour\": [{\"colorbar\": {\"outlinewidth\": 0, \"ticks\": \"\"}, \"colorscale\": [[0.0, \"#0d0887\"], [0.1111111111111111, \"#46039f\"], [0.2222222222222222, \"#7201a8\"], [0.3333333333333333, \"#9c179e\"], [0.4444444444444444, \"#bd3786\"], [0.5555555555555556, \"#d8576b\"], [0.6666666666666666, \"#ed7953\"], [0.7777777777777778, \"#fb9f3a\"], [0.8888888888888888, \"#fdca26\"], [1.0, \"#f0f921\"]], \"type\": \"histogram2dcontour\"}], \"mesh3d\": [{\"colorbar\": {\"outlinewidth\": 0, \"ticks\": \"\"}, \"type\": \"mesh3d\"}], \"parcoords\": [{\"line\": {\"colorbar\": {\"outlinewidth\": 0, \"ticks\": \"\"}}, \"type\": \"parcoords\"}], \"pie\": [{\"automargin\": true, \"type\": \"pie\"}], \"scatter\": [{\"marker\": {\"colorbar\": {\"outlinewidth\": 0, \"ticks\": \"\"}}, \"type\": \"scatter\"}], \"scatter3d\": [{\"line\": {\"colorbar\": {\"outlinewidth\": 0, \"ticks\": \"\"}}, \"marker\": {\"colorbar\": {\"outlinewidth\": 0, \"ticks\": \"\"}}, \"type\": \"scatter3d\"}], \"scattercarpet\": [{\"marker\": {\"colorbar\": {\"outlinewidth\": 0, \"ticks\": \"\"}}, \"type\": \"scattercarpet\"}], \"scattergeo\": [{\"marker\": {\"colorbar\": {\"outlinewidth\": 0, \"ticks\": \"\"}}, \"type\": \"scattergeo\"}], \"scattergl\": [{\"marker\": {\"colorbar\": {\"outlinewidth\": 0, \"ticks\": \"\"}}, \"type\": \"scattergl\"}], \"scattermapbox\": [{\"marker\": {\"colorbar\": {\"outlinewidth\": 0, \"ticks\": \"\"}}, \"type\": \"scattermapbox\"}], \"scatterpolar\": [{\"marker\": {\"colorbar\": {\"outlinewidth\": 0, \"ticks\": \"\"}}, \"type\": \"scatterpolar\"}], \"scatterpolargl\": [{\"marker\": {\"colorbar\": {\"outlinewidth\": 0, \"ticks\": \"\"}}, \"type\": \"scatterpolargl\"}], \"scatterternary\": [{\"marker\": {\"colorbar\": {\"outlinewidth\": 0, \"ticks\": \"\"}}, \"type\": \"scatterternary\"}], \"surface\": [{\"colorbar\": {\"outlinewidth\": 0, \"ticks\": \"\"}, \"colorscale\": [[0.0, \"#0d0887\"], [0.1111111111111111, \"#46039f\"], [0.2222222222222222, \"#7201a8\"], [0.3333333333333333, \"#9c179e\"], [0.4444444444444444, \"#bd3786\"], [0.5555555555555556, \"#d8576b\"], [0.6666666666666666, \"#ed7953\"], [0.7777777777777778, \"#fb9f3a\"], [0.8888888888888888, \"#fdca26\"], [1.0, \"#f0f921\"]], \"type\": \"surface\"}], \"table\": [{\"cells\": {\"fill\": {\"color\": \"#EBF0F8\"}, \"line\": {\"color\": \"white\"}}, \"header\": {\"fill\": {\"color\": \"#C8D4E3\"}, \"line\": {\"color\": \"white\"}}, \"type\": \"table\"}]}, \"layout\": {\"annotationdefaults\": {\"arrowcolor\": \"#2a3f5f\", \"arrowhead\": 0, \"arrowwidth\": 1}, \"autotypenumbers\": \"strict\", \"coloraxis\": {\"colorbar\": {\"outlinewidth\": 0, \"ticks\": \"\"}}, \"colorscale\": {\"diverging\": [[0, \"#8e0152\"], [0.1, \"#c51b7d\"], [0.2, \"#de77ae\"], [0.3, \"#f1b6da\"], [0.4, \"#fde0ef\"], [0.5, \"#f7f7f7\"], [0.6, \"#e6f5d0\"], [0.7, \"#b8e186\"], [0.8, \"#7fbc41\"], [0.9, \"#4d9221\"], [1, \"#276419\"]], \"sequential\": [[0.0, \"#0d0887\"], [0.1111111111111111, \"#46039f\"], [0.2222222222222222, \"#7201a8\"], [0.3333333333333333, \"#9c179e\"], [0.4444444444444444, \"#bd3786\"], [0.5555555555555556, \"#d8576b\"], [0.6666666666666666, \"#ed7953\"], [0.7777777777777778, \"#fb9f3a\"], [0.8888888888888888, \"#fdca26\"], [1.0, \"#f0f921\"]], \"sequentialminus\": [[0.0, \"#0d0887\"], [0.1111111111111111, \"#46039f\"], [0.2222222222222222, \"#7201a8\"], [0.3333333333333333, \"#9c179e\"], [0.4444444444444444, \"#bd3786\"], [0.5555555555555556, \"#d8576b\"], [0.6666666666666666, \"#ed7953\"], [0.7777777777777778, \"#fb9f3a\"], [0.8888888888888888, \"#fdca26\"], [1.0, \"#f0f921\"]]}, \"colorway\": [\"#636efa\", \"#EF553B\", \"#00cc96\", \"#ab63fa\", \"#FFA15A\", \"#19d3f3\", \"#FF6692\", \"#B6E880\", \"#FF97FF\", \"#FECB52\"], \"font\": {\"color\": \"#2a3f5f\"}, \"geo\": {\"bgcolor\": \"white\", \"lakecolor\": \"white\", \"landcolor\": \"#E5ECF6\", \"showlakes\": true, \"showland\": true, \"subunitcolor\": \"white\"}, \"hoverlabel\": {\"align\": \"left\"}, \"hovermode\": \"closest\", \"mapbox\": {\"style\": \"light\"}, \"paper_bgcolor\": \"white\", \"plot_bgcolor\": \"#E5ECF6\", \"polar\": {\"angularaxis\": {\"gridcolor\": \"white\", \"linecolor\": \"white\", \"ticks\": \"\"}, \"bgcolor\": \"#E5ECF6\", \"radialaxis\": {\"gridcolor\": \"white\", \"linecolor\": \"white\", \"ticks\": \"\"}}, \"scene\": {\"xaxis\": {\"backgroundcolor\": \"#E5ECF6\", \"gridcolor\": \"white\", \"gridwidth\": 2, \"linecolor\": \"white\", \"showbackground\": true, \"ticks\": \"\", \"zerolinecolor\": \"white\"}, \"yaxis\": {\"backgroundcolor\": \"#E5ECF6\", \"gridcolor\": \"white\", \"gridwidth\": 2, \"linecolor\": \"white\", \"showbackground\": true, \"ticks\": \"\", \"zerolinecolor\": \"white\"}, \"zaxis\": {\"backgroundcolor\": \"#E5ECF6\", \"gridcolor\": \"white\", \"gridwidth\": 2, \"linecolor\": \"white\", \"showbackground\": true, \"ticks\": \"\", \"zerolinecolor\": \"white\"}}, \"shapedefaults\": {\"line\": {\"color\": \"#2a3f5f\"}}, \"ternary\": {\"aaxis\": {\"gridcolor\": \"white\", \"linecolor\": \"white\", \"ticks\": \"\"}, \"baxis\": {\"gridcolor\": \"white\", \"linecolor\": \"white\", \"ticks\": \"\"}, \"bgcolor\": \"#E5ECF6\", \"caxis\": {\"gridcolor\": \"white\", \"linecolor\": \"white\", \"ticks\": \"\"}}, \"title\": {\"x\": 0.05}, \"xaxis\": {\"automargin\": true, \"gridcolor\": \"white\", \"linecolor\": \"white\", \"ticks\": \"\", \"title\": {\"standoff\": 15}, \"zerolinecolor\": \"white\", \"zerolinewidth\": 2}, \"yaxis\": {\"automargin\": true, \"gridcolor\": \"white\", \"linecolor\": \"white\", \"ticks\": \"\", \"title\": {\"standoff\": 15}, \"zerolinecolor\": \"white\", \"zerolinewidth\": 2}}}, \"xaxis\": {\"anchor\": \"y\", \"domain\": [0.0, 1.0], \"title\": {\"text\": \"date\"}}, \"yaxis\": {\"anchor\": \"x\", \"domain\": [0.0, 1.0], \"title\": {\"text\": \"value\"}}},                        {\"responsive\": true}                    ).then(function(){\n",
       "                            \n",
       "var gd = document.getElementById('80f9146c-f082-4ca8-b892-fbc7de87a929');\n",
       "var x = new MutationObserver(function (mutations, observer) {{\n",
       "        var display = window.getComputedStyle(gd).display;\n",
       "        if (!display || display === 'none') {{\n",
       "            console.log([gd, 'removed!']);\n",
       "            Plotly.purge(gd);\n",
       "            observer.disconnect();\n",
       "        }}\n",
       "}});\n",
       "\n",
       "// Listen for the removal of the full notebook cells\n",
       "var notebookContainer = gd.closest('#notebook-container');\n",
       "if (notebookContainer) {{\n",
       "    x.observe(notebookContainer, {childList: true});\n",
       "}}\n",
       "\n",
       "// Listen for the clearing of the current output cell\n",
       "var outputEl = gd.closest('.output');\n",
       "if (outputEl) {{\n",
       "    x.observe(outputEl, {childList: true});\n",
       "}}\n",
       "\n",
       "                        })                };                });            </script>        </div>"
      ]
     },
     "metadata": {},
     "output_type": "display_data"
    }
   ],
   "source": [
    "fig = px.line(df1)\n",
    "fig.show()"
   ]
  }
 ],
 "metadata": {
  "kernelspec": {
   "display_name": "Python 3",
   "language": "python",
   "name": "python3"
  },
  "language_info": {
   "codemirror_mode": {
    "name": "ipython",
    "version": 3
   },
   "file_extension": ".py",
   "mimetype": "text/x-python",
   "name": "python",
   "nbconvert_exporter": "python",
   "pygments_lexer": "ipython3",
   "version": "3.8.3"
  }
 },
 "nbformat": 4,
 "nbformat_minor": 5
}
